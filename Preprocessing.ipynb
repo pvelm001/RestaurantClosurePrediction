{
  "nbformat": 4,
  "nbformat_minor": 0,
  "metadata": {
    "colab": {
      "name": "Yelp_pre_processing.ipynb",
      "provenance": [],
      "machine_shape": "hm"
    },
    "kernelspec": {
      "name": "python3",
      "display_name": "Python 3"
    },
    "language_info": {
      "name": "python"
    },
    "accelerator": "GPU"
  },
  "cells": [
    {
      "cell_type": "code",
      "metadata": {
        "id": "LVNVn81-gtHl",
        "colab": {
          "base_uri": "https://localhost:8080/"
        },
        "outputId": "cf105269-a912-469d-a09e-ed6e328a6ef1"
      },
      "source": [
        "from google.colab import drive\n",
        "drive.mount('/content/drive')"
      ],
      "execution_count": null,
      "outputs": [
        {
          "output_type": "stream",
          "text": [
            "Mounted at /content/drive\n"
          ],
          "name": "stdout"
        }
      ]
    },
    {
      "cell_type": "code",
      "metadata": {
        "id": "V2gO1wpRfITw"
      },
      "source": [
        "from matplotlib import pyplot as plt\n",
        "import re,string\n",
        "from datetime import datetime as dt\n",
        "import seaborn as sns\n",
        "import nltk\n",
        "from matplotlib.ticker import FuncFormatter\n",
        "from nltk.tokenize import word_tokenize, sent_tokenize\n",
        "from nltk.corpus import stopwords\n",
        "from nltk.text import Text\n",
        "import numpy as np \n",
        "import pandas as pd \n",
        "pd.set_option('display.max_columns', None)\n",
        "pd.set_option('display.max_rows', None)\n",
        "from nltk.stem import PorterStemmer, WordNetLemmatizer\n",
        "from sklearn.feature_extraction.text import ENGLISH_STOP_WORDS\n",
        "from wordcloud import WordCloud\n",
        "from nltk.tokenize import WhitespaceTokenizer\n",
        "from nltk.stem.wordnet import WordNetLemmatizer\n",
        "from sklearn.feature_extraction.text import CountVectorizer"
      ],
      "execution_count": null,
      "outputs": []
    },
    {
      "cell_type": "code",
      "metadata": {
        "id": "X-01XiV-hJ1Q"
      },
      "source": [
        "import json\n",
        "\n",
        "def init_ds(json):\n",
        "    ds= {}\n",
        "    keys = json.keys()\n",
        "    for k in keys:\n",
        "        ds[k]= []\n",
        "    return ds, keys\n",
        "\n",
        "def read_json(file):\n",
        "    dataset = {}\n",
        "    keys = []\n",
        "    with open(file) as file_lines:\n",
        "        for count, line in enumerate(file_lines):\n",
        "            data = json.loads(line.strip())\n",
        "            if count ==0:\n",
        "                dataset, keys = init_ds(data)\n",
        "            for k in keys:\n",
        "                dataset[k].append(data[k])\n",
        "                \n",
        "        return pd.DataFrame(dataset)"
      ],
      "execution_count": null,
      "outputs": []
    },
    {
      "cell_type": "code",
      "metadata": {
        "id": "fI0SFcg6uQZj"
      },
      "source": [
        "reviw_path = \"/content/drive/MyDrive/Yelp_dataset/yelp_academic_dataset_review.json\"\n",
        "business_path= '/content/drive/MyDrive/Yelp_dataset/yelp_academic_dataset_business.json'\n",
        "final_rest_data= '/content/drive/MyDrive/Yelp_dataset/final_rest_data.csv'"
      ],
      "execution_count": null,
      "outputs": []
    },
    {
      "cell_type": "code",
      "metadata": {
        "id": "qyJHwt_suQQt"
      },
      "source": [
        "yelp_review= read_json(reviw_path)\n",
        "yelp_review.drop(['review_id', 'user_id', 'useful', 'funny', 'cool'], axis=1, inplace=True)\n",
        "yelp_review['date'] = pd.to_datetime(yelp_review['date'])"
      ],
      "execution_count": null,
      "outputs": []
    },
    {
      "cell_type": "code",
      "metadata": {
        "id": "Z9bqbbF0uQf0"
      },
      "source": [
        "yelp_business= read_json(business_path)"
      ],
      "execution_count": null,
      "outputs": []
    },
    {
      "cell_type": "code",
      "metadata": {
        "id": "J460dlrUVQ7L"
      },
      "source": [
        "final_rest_df= pd.read_csv(final_rest_data)\n",
        "final_rest_df.drop(['Unnamed: 0', 'category'], axis=1, inplace= True)\n",
        "final_rest_df.rename({'our_open': 'is_open'}, axis=1, inplace= True)"
      ],
      "execution_count": null,
      "outputs": []
    },
    {
      "cell_type": "code",
      "metadata": {
        "id": "SQmoSDqAWjKm"
      },
      "source": [
        "#merge final_rest_df and orginal business file\n",
        "final_business_tex= pd.merge(final_rest_df, yelp_business, on= 'business_id', how= 'inner')\n",
        "\n",
        "new_cols= ['business_id','name', 'address', 'city', 'state', 'postal_code', 'latitude', 'longitude', 'stars', 'attributes', 'categories', 'hours', 'is_open_x',  'age' ,'American', 'Mexican', 'Italian', 'Japanese', 'Chinese', 'Thai', 'Mediterranean', 'French', 'Vietnamese','Greek', 'Indian', 'Korean', 'Hawaiian', 'African', 'Spanish', 'Middle_eastern', 'Other']\n",
        "\n",
        "final_business_tex= final_business_tex[new_cols]\n",
        "final_business_tex.rename({'is_open_x': 'is_open', 'age': 'operation_years'}, axis=1, inplace= True)"
      ],
      "execution_count": null,
      "outputs": []
    },
    {
      "cell_type": "code",
      "metadata": {
        "colab": {
          "base_uri": "https://localhost:8080/",
          "height": 284
        },
        "id": "aGUifroycDoJ",
        "outputId": "060d49b8-ac85-4ad1-edf5-c160a3848a36"
      },
      "source": [
        "final_business_tex.head(2)"
      ],
      "execution_count": null,
      "outputs": [
        {
          "output_type": "execute_result",
          "data": {
            "text/html": [
              "<div>\n",
              "<style scoped>\n",
              "    .dataframe tbody tr th:only-of-type {\n",
              "        vertical-align: middle;\n",
              "    }\n",
              "\n",
              "    .dataframe tbody tr th {\n",
              "        vertical-align: top;\n",
              "    }\n",
              "\n",
              "    .dataframe thead th {\n",
              "        text-align: right;\n",
              "    }\n",
              "</style>\n",
              "<table border=\"1\" class=\"dataframe\">\n",
              "  <thead>\n",
              "    <tr style=\"text-align: right;\">\n",
              "      <th></th>\n",
              "      <th>business_id</th>\n",
              "      <th>name</th>\n",
              "      <th>address</th>\n",
              "      <th>city</th>\n",
              "      <th>state</th>\n",
              "      <th>postal_code</th>\n",
              "      <th>latitude</th>\n",
              "      <th>longitude</th>\n",
              "      <th>stars</th>\n",
              "      <th>attributes</th>\n",
              "      <th>categories</th>\n",
              "      <th>hours</th>\n",
              "      <th>is_open</th>\n",
              "      <th>operation_years</th>\n",
              "      <th>American</th>\n",
              "      <th>Mexican</th>\n",
              "      <th>Italian</th>\n",
              "      <th>Japanese</th>\n",
              "      <th>Chinese</th>\n",
              "      <th>Thai</th>\n",
              "      <th>Mediterranean</th>\n",
              "      <th>French</th>\n",
              "      <th>Vietnamese</th>\n",
              "      <th>Greek</th>\n",
              "      <th>Indian</th>\n",
              "      <th>Korean</th>\n",
              "      <th>Hawaiian</th>\n",
              "      <th>African</th>\n",
              "      <th>Spanish</th>\n",
              "      <th>Middle_eastern</th>\n",
              "      <th>Other</th>\n",
              "    </tr>\n",
              "  </thead>\n",
              "  <tbody>\n",
              "    <tr>\n",
              "      <th>0</th>\n",
              "      <td>bRsDZ44CD3uhGnRY3NeQhQ</td>\n",
              "      <td>Wendy's</td>\n",
              "      <td>6247 Mcneil Drive</td>\n",
              "      <td>Austin</td>\n",
              "      <td>TX</td>\n",
              "      <td>78729</td>\n",
              "      <td>30.441875</td>\n",
              "      <td>-97.746581</td>\n",
              "      <td>2.0</td>\n",
              "      <td>{'RestaurantsPriceRange2': '1', 'OutdoorSeatin...</td>\n",
              "      <td>Fast Food, Restaurants, Burgers</td>\n",
              "      <td>{'Monday': '6:30-1:0', 'Tuesday': '6:30-1:0', ...</td>\n",
              "      <td>1</td>\n",
              "      <td>0</td>\n",
              "      <td>0</td>\n",
              "      <td>0</td>\n",
              "      <td>0</td>\n",
              "      <td>0</td>\n",
              "      <td>0</td>\n",
              "      <td>0</td>\n",
              "      <td>0</td>\n",
              "      <td>0</td>\n",
              "      <td>0</td>\n",
              "      <td>0</td>\n",
              "      <td>0</td>\n",
              "      <td>0</td>\n",
              "      <td>0</td>\n",
              "      <td>0</td>\n",
              "      <td>0</td>\n",
              "      <td>0</td>\n",
              "      <td>1</td>\n",
              "    </tr>\n",
              "    <tr>\n",
              "      <th>1</th>\n",
              "      <td>Pk4ZwXwUU50BDn5gqw_rKg</td>\n",
              "      <td>Johnny Carino's</td>\n",
              "      <td>9500 S IH-35 Service Rd</td>\n",
              "      <td>Austin</td>\n",
              "      <td>TX</td>\n",
              "      <td>78748</td>\n",
              "      <td>30.162081</td>\n",
              "      <td>-97.789132</td>\n",
              "      <td>3.0</td>\n",
              "      <td>{'RestaurantsGoodForGroups': 'True', 'Business...</td>\n",
              "      <td>Italian, Salad, Pizza, Nightlife, Restaurants,...</td>\n",
              "      <td>{'Monday': '11:0-21:30', 'Tuesday': '11:0-21:3...</td>\n",
              "      <td>1</td>\n",
              "      <td>0</td>\n",
              "      <td>0</td>\n",
              "      <td>0</td>\n",
              "      <td>1</td>\n",
              "      <td>0</td>\n",
              "      <td>0</td>\n",
              "      <td>0</td>\n",
              "      <td>0</td>\n",
              "      <td>0</td>\n",
              "      <td>0</td>\n",
              "      <td>0</td>\n",
              "      <td>0</td>\n",
              "      <td>0</td>\n",
              "      <td>0</td>\n",
              "      <td>0</td>\n",
              "      <td>0</td>\n",
              "      <td>0</td>\n",
              "      <td>0</td>\n",
              "    </tr>\n",
              "  </tbody>\n",
              "</table>\n",
              "</div>"
            ],
            "text/plain": [
              "              business_id             name                  address    city  \\\n",
              "0  bRsDZ44CD3uhGnRY3NeQhQ          Wendy's        6247 Mcneil Drive  Austin   \n",
              "1  Pk4ZwXwUU50BDn5gqw_rKg  Johnny Carino's  9500 S IH-35 Service Rd  Austin   \n",
              "\n",
              "  state postal_code   latitude  longitude  stars  \\\n",
              "0    TX       78729  30.441875 -97.746581    2.0   \n",
              "1    TX       78748  30.162081 -97.789132    3.0   \n",
              "\n",
              "                                          attributes  \\\n",
              "0  {'RestaurantsPriceRange2': '1', 'OutdoorSeatin...   \n",
              "1  {'RestaurantsGoodForGroups': 'True', 'Business...   \n",
              "\n",
              "                                          categories  \\\n",
              "0                    Fast Food, Restaurants, Burgers   \n",
              "1  Italian, Salad, Pizza, Nightlife, Restaurants,...   \n",
              "\n",
              "                                               hours  is_open  \\\n",
              "0  {'Monday': '6:30-1:0', 'Tuesday': '6:30-1:0', ...        1   \n",
              "1  {'Monday': '11:0-21:30', 'Tuesday': '11:0-21:3...        1   \n",
              "\n",
              "   operation_years  American  Mexican  Italian  Japanese  Chinese  Thai  \\\n",
              "0                0         0        0        0         0        0     0   \n",
              "1                0         0        0        1         0        0     0   \n",
              "\n",
              "   Mediterranean  French  Vietnamese  Greek  Indian  Korean  Hawaiian  \\\n",
              "0              0       0           0      0       0       0         0   \n",
              "1              0       0           0      0       0       0         0   \n",
              "\n",
              "   African  Spanish  Middle_eastern  Other  \n",
              "0        0        0               0      1  \n",
              "1        0        0               0      0  "
            ]
          },
          "metadata": {
            "tags": []
          },
          "execution_count": 11
        }
      ]
    },
    {
      "cell_type": "markdown",
      "metadata": {
        "id": "g7R_EOTI41ki"
      },
      "source": [
        "### Normalize review_count and positive and negative count by age:"
      ]
    },
    {
      "cell_type": "code",
      "metadata": {
        "id": "YL4HafCj47XY",
        "colab": {
          "base_uri": "https://localhost:8080/"
        },
        "outputId": "767aa8db-08c2-4f67-ca36-ca6bf5cfe807"
      },
      "source": [
        "unique_businss_id= list(final_business_tex['business_id'].unique())\n",
        "len(unique_businss_id)"
      ],
      "execution_count": null,
      "outputs": [
        {
          "output_type": "execute_result",
          "data": {
            "text/plain": [
              "2883"
            ]
          },
          "metadata": {
            "tags": []
          },
          "execution_count": 10
        }
      ]
    },
    {
      "cell_type": "code",
      "metadata": {
        "id": "aFUwKkMeaEn6",
        "colab": {
          "base_uri": "https://localhost:8080/",
          "height": 142
        },
        "outputId": "b3fa32a7-decf-4f6a-e402-434fd9fa7db2"
      },
      "source": [
        "##get reviews for above business ids\n",
        "\n",
        "review_by_business= yelp_review[yelp_review.business_id.isin(unique_businss_id)].copy()\n",
        "review_by_business['date'] = pd.to_datetime(review_by_business['date'])\n",
        "review_by_business.sort_values(by=['business_id','date'], inplace= True)\n",
        "review_by_business.reset_index(inplace= True, drop= True)\n",
        "\n",
        "# get reviews only between 2016-2019\n",
        "\n",
        "review_by_business1= review_by_business[(review_by_business['date'].dt.year >= 2016) & (review_by_business['date'].dt.year < 2020)].copy()\n",
        "review_by_business1.sort_values(by=['business_id','date'], inplace= True)\n",
        "review_by_business1.reset_index(drop=True, inplace=True)\n",
        "review_by_business1.head(3)"
      ],
      "execution_count": null,
      "outputs": [
        {
          "output_type": "execute_result",
          "data": {
            "text/html": [
              "<div>\n",
              "<style scoped>\n",
              "    .dataframe tbody tr th:only-of-type {\n",
              "        vertical-align: middle;\n",
              "    }\n",
              "\n",
              "    .dataframe tbody tr th {\n",
              "        vertical-align: top;\n",
              "    }\n",
              "\n",
              "    .dataframe thead th {\n",
              "        text-align: right;\n",
              "    }\n",
              "</style>\n",
              "<table border=\"1\" class=\"dataframe\">\n",
              "  <thead>\n",
              "    <tr style=\"text-align: right;\">\n",
              "      <th></th>\n",
              "      <th>business_id</th>\n",
              "      <th>stars</th>\n",
              "      <th>text</th>\n",
              "      <th>date</th>\n",
              "    </tr>\n",
              "  </thead>\n",
              "  <tbody>\n",
              "    <tr>\n",
              "      <th>0</th>\n",
              "      <td>-4cQ12xutjNLW-tPI06_tg</td>\n",
              "      <td>5.0</td>\n",
              "      <td>Yummy. I love the chocolate covered donut hole...</td>\n",
              "      <td>2016-01-11 15:44:26</td>\n",
              "    </tr>\n",
              "    <tr>\n",
              "      <th>1</th>\n",
              "      <td>-4cQ12xutjNLW-tPI06_tg</td>\n",
              "      <td>2.0</td>\n",
              "      <td>First the good. Great service, fast &amp; courteou...</td>\n",
              "      <td>2016-02-01 00:19:32</td>\n",
              "    </tr>\n",
              "    <tr>\n",
              "      <th>2</th>\n",
              "      <td>-4cQ12xutjNLW-tPI06_tg</td>\n",
              "      <td>5.0</td>\n",
              "      <td>OMG!!! Like the best selection of donuts, pigg...</td>\n",
              "      <td>2016-02-11 15:34:39</td>\n",
              "    </tr>\n",
              "  </tbody>\n",
              "</table>\n",
              "</div>"
            ],
            "text/plain": [
              "              business_id  stars  \\\n",
              "0  -4cQ12xutjNLW-tPI06_tg    5.0   \n",
              "1  -4cQ12xutjNLW-tPI06_tg    2.0   \n",
              "2  -4cQ12xutjNLW-tPI06_tg    5.0   \n",
              "\n",
              "                                                text                date  \n",
              "0  Yummy. I love the chocolate covered donut hole... 2016-01-11 15:44:26  \n",
              "1  First the good. Great service, fast & courteou... 2016-02-01 00:19:32  \n",
              "2  OMG!!! Like the best selection of donuts, pigg... 2016-02-11 15:34:39  "
            ]
          },
          "metadata": {
            "tags": []
          },
          "execution_count": 11
        }
      ]
    },
    {
      "cell_type": "code",
      "metadata": {
        "id": "-FFXsizk5b0y",
        "colab": {
          "base_uri": "https://localhost:8080/",
          "height": 142
        },
        "outputId": "d628de8b-20f5-4953-82a7-2e0f59d506ca"
      },
      "source": [
        "#review count between 2016-2019\n",
        "age_df= review_by_business1.groupby('business_id', as_index= False).size()\n",
        "\n",
        "#first review date and last review date(till 2019 - so age_df1 is consisdered)\n",
        "\n",
        "age_df_first= review_by_business.groupby('business_id', as_index= False).first().copy()\n",
        "age_df_last= review_by_business1.groupby('business_id', as_index= False).last().copy()\n",
        "age_df_first['Opened_year']= age_df_first['date'].dt.year\n",
        "age_df_last['Last_year'] = age_df_last['date'].dt.year\n",
        "\n",
        "#determine age of restuarant till 2019\n",
        "rest_age_df= pd.merge(age_df_first, age_df_last, on='business_id', how='inner')\n",
        "rest_age_df.drop(['stars_x', 'stars_y', 'date_x', 'date_y'], axis=1, inplace= True)\n",
        "rest_age_df['age'] = rest_age_df['Last_year'] - rest_age_df['Opened_year']\n",
        "rest_age_df['age']= rest_age_df['age'].apply(lambda x: x+1)\n",
        "rest_age_df.drop(['text_x', 'Opened_year','text_y','Last_year'], axis=1, inplace= True)\n",
        "rest_age_df.head(3)"
      ],
      "execution_count": null,
      "outputs": [
        {
          "output_type": "execute_result",
          "data": {
            "text/html": [
              "<div>\n",
              "<style scoped>\n",
              "    .dataframe tbody tr th:only-of-type {\n",
              "        vertical-align: middle;\n",
              "    }\n",
              "\n",
              "    .dataframe tbody tr th {\n",
              "        vertical-align: top;\n",
              "    }\n",
              "\n",
              "    .dataframe thead th {\n",
              "        text-align: right;\n",
              "    }\n",
              "</style>\n",
              "<table border=\"1\" class=\"dataframe\">\n",
              "  <thead>\n",
              "    <tr style=\"text-align: right;\">\n",
              "      <th></th>\n",
              "      <th>business_id</th>\n",
              "      <th>age</th>\n",
              "    </tr>\n",
              "  </thead>\n",
              "  <tbody>\n",
              "    <tr>\n",
              "      <th>0</th>\n",
              "      <td>-4cQ12xutjNLW-tPI06_tg</td>\n",
              "      <td>11</td>\n",
              "    </tr>\n",
              "    <tr>\n",
              "      <th>1</th>\n",
              "      <td>-4ofMtrD7pSpZIX5pnDkig</td>\n",
              "      <td>15</td>\n",
              "    </tr>\n",
              "    <tr>\n",
              "      <th>2</th>\n",
              "      <td>-85pDrVcAdzNK55bFpintg</td>\n",
              "      <td>14</td>\n",
              "    </tr>\n",
              "  </tbody>\n",
              "</table>\n",
              "</div>"
            ],
            "text/plain": [
              "              business_id  age\n",
              "0  -4cQ12xutjNLW-tPI06_tg   11\n",
              "1  -4ofMtrD7pSpZIX5pnDkig   15\n",
              "2  -85pDrVcAdzNK55bFpintg   14"
            ]
          },
          "metadata": {
            "tags": []
          },
          "execution_count": 12
        }
      ]
    },
    {
      "cell_type": "code",
      "metadata": {
        "id": "7eeFT8Ek-Te_",
        "colab": {
          "base_uri": "https://localhost:8080/",
          "height": 142
        },
        "outputId": "0135c914-6b3c-401a-b785-1b0d87b427a6"
      },
      "source": [
        "#merge review count and first and last year\n",
        "rest_age_df1= pd.merge(rest_age_df, age_df, on='business_id', how='inner')\n",
        "rest_age_df1.rename({'size': 'review_count_16_19'}, axis=1, inplace= True)\n",
        "\n",
        "rest_age_df1['review_normalized']= np.round( (rest_age_df1['review_count_16_19'] / rest_age_df1['age']), 2)\n",
        "\n",
        "rest_age_df1.head(3)"
      ],
      "execution_count": null,
      "outputs": [
        {
          "output_type": "execute_result",
          "data": {
            "text/html": [
              "<div>\n",
              "<style scoped>\n",
              "    .dataframe tbody tr th:only-of-type {\n",
              "        vertical-align: middle;\n",
              "    }\n",
              "\n",
              "    .dataframe tbody tr th {\n",
              "        vertical-align: top;\n",
              "    }\n",
              "\n",
              "    .dataframe thead th {\n",
              "        text-align: right;\n",
              "    }\n",
              "</style>\n",
              "<table border=\"1\" class=\"dataframe\">\n",
              "  <thead>\n",
              "    <tr style=\"text-align: right;\">\n",
              "      <th></th>\n",
              "      <th>business_id</th>\n",
              "      <th>age</th>\n",
              "      <th>review_count_16_19</th>\n",
              "      <th>review_normalized</th>\n",
              "    </tr>\n",
              "  </thead>\n",
              "  <tbody>\n",
              "    <tr>\n",
              "      <th>0</th>\n",
              "      <td>-4cQ12xutjNLW-tPI06_tg</td>\n",
              "      <td>11</td>\n",
              "      <td>37</td>\n",
              "      <td>3.36</td>\n",
              "    </tr>\n",
              "    <tr>\n",
              "      <th>1</th>\n",
              "      <td>-4ofMtrD7pSpZIX5pnDkig</td>\n",
              "      <td>15</td>\n",
              "      <td>592</td>\n",
              "      <td>39.47</td>\n",
              "    </tr>\n",
              "    <tr>\n",
              "      <th>2</th>\n",
              "      <td>-85pDrVcAdzNK55bFpintg</td>\n",
              "      <td>14</td>\n",
              "      <td>126</td>\n",
              "      <td>9.00</td>\n",
              "    </tr>\n",
              "  </tbody>\n",
              "</table>\n",
              "</div>"
            ],
            "text/plain": [
              "              business_id  age  review_count_16_19  review_normalized\n",
              "0  -4cQ12xutjNLW-tPI06_tg   11                  37               3.36\n",
              "1  -4ofMtrD7pSpZIX5pnDkig   15                 592              39.47\n",
              "2  -85pDrVcAdzNK55bFpintg   14                 126               9.00"
            ]
          },
          "metadata": {
            "tags": []
          },
          "execution_count": 13
        }
      ]
    },
    {
      "cell_type": "code",
      "metadata": {
        "id": "aqUSsetX-oRh"
      },
      "source": [
        "#postive negative and neutral reviews\n",
        "pos_rev= review_by_business1[review_by_business1['stars'] >= 4]\n",
        "neg_rev= review_by_business1[review_by_business1['stars'] < 3]\n",
        "neu_rev= review_by_business1[review_by_business1['stars'] == 3]\n",
        "\n",
        "pos_rest = pos_rev.groupby(['business_id']).size()\n",
        "neg_rest = neg_rev.groupby(['business_id']).size()\n",
        "neu_rest = neu_rev.groupby(['business_id']).size()\n",
        "result = pd.concat([pos_rest, neg_rest,neu_rest], axis=1, join= \"outer\", keys='business_id', ignore_index=True)\n",
        "result.reset_index(inplace= True)\n",
        "result.columns= ['business_id','pos', 'neg', 'neutral']\n",
        "result['pos'].fillna(0, inplace= True)\n",
        "result['neg'].fillna(0, inplace= True)\n",
        "result['neutral'].fillna(0, inplace= True)\n",
        "\n",
        "\n",
        "#create normalized colums for postive, negative and neutral no. of reviews\n",
        "reviews_df_norm= pd.merge(result, rest_age_df, on='business_id', how= 'inner')\n",
        "reviews_df_norm['pos_norm']= np.round( (reviews_df_norm['pos'] / reviews_df_norm['age']), 2)\n",
        "reviews_df_norm['neg_norm']= np.round( (reviews_df_norm['neg'] / reviews_df_norm['age']), 2)\n",
        "reviews_df_norm['neutral_norm']= np.round( (reviews_df_norm['neutral'] / reviews_df_norm['age']), 2)"
      ],
      "execution_count": null,
      "outputs": []
    },
    {
      "cell_type": "code",
      "metadata": {
        "colab": {
          "base_uri": "https://localhost:8080/",
          "height": 400
        },
        "id": "fE0p6HKPdD3z",
        "outputId": "81370deb-df36-4eab-b551-6decfaa3f3e4"
      },
      "source": [
        "fin_df= pd.merge(rest_age_df1, reviews_df_norm, on='business_id', how='inner')\n",
        "\n",
        "fin_df.drop(['age_y'], axis=1, inplace= True)\n",
        "fin_df.rename({'age_x': 'age'}, axis=1, inplace= True)\n",
        "rev_cnt_df= pd.merge(final_business_tex, fin_df, on='business_id', how= 'inner')\n",
        "\n",
        "rev_cnt_df.head(3)"
      ],
      "execution_count": null,
      "outputs": [
        {
          "output_type": "execute_result",
          "data": {
            "text/html": [
              "<div>\n",
              "<style scoped>\n",
              "    .dataframe tbody tr th:only-of-type {\n",
              "        vertical-align: middle;\n",
              "    }\n",
              "\n",
              "    .dataframe tbody tr th {\n",
              "        vertical-align: top;\n",
              "    }\n",
              "\n",
              "    .dataframe thead th {\n",
              "        text-align: right;\n",
              "    }\n",
              "</style>\n",
              "<table border=\"1\" class=\"dataframe\">\n",
              "  <thead>\n",
              "    <tr style=\"text-align: right;\">\n",
              "      <th></th>\n",
              "      <th>business_id</th>\n",
              "      <th>name</th>\n",
              "      <th>address</th>\n",
              "      <th>city</th>\n",
              "      <th>state</th>\n",
              "      <th>postal_code</th>\n",
              "      <th>latitude</th>\n",
              "      <th>longitude</th>\n",
              "      <th>stars</th>\n",
              "      <th>attributes</th>\n",
              "      <th>categories</th>\n",
              "      <th>hours</th>\n",
              "      <th>is_open</th>\n",
              "      <th>operation_years</th>\n",
              "      <th>American</th>\n",
              "      <th>Mexican</th>\n",
              "      <th>Italian</th>\n",
              "      <th>Japanese</th>\n",
              "      <th>Chinese</th>\n",
              "      <th>Thai</th>\n",
              "      <th>Mediterranean</th>\n",
              "      <th>French</th>\n",
              "      <th>Vietnamese</th>\n",
              "      <th>Greek</th>\n",
              "      <th>Indian</th>\n",
              "      <th>Korean</th>\n",
              "      <th>Hawaiian</th>\n",
              "      <th>African</th>\n",
              "      <th>Spanish</th>\n",
              "      <th>Middle_eastern</th>\n",
              "      <th>Other</th>\n",
              "      <th>age</th>\n",
              "      <th>review_count_16_19</th>\n",
              "      <th>review_normalized</th>\n",
              "      <th>pos</th>\n",
              "      <th>neg</th>\n",
              "      <th>neutral</th>\n",
              "      <th>pos_norm</th>\n",
              "      <th>neg_norm</th>\n",
              "      <th>neutral_norm</th>\n",
              "    </tr>\n",
              "  </thead>\n",
              "  <tbody>\n",
              "    <tr>\n",
              "      <th>0</th>\n",
              "      <td>bRsDZ44CD3uhGnRY3NeQhQ</td>\n",
              "      <td>Wendy's</td>\n",
              "      <td>6247 Mcneil Drive</td>\n",
              "      <td>Austin</td>\n",
              "      <td>TX</td>\n",
              "      <td>78729</td>\n",
              "      <td>30.441875</td>\n",
              "      <td>-97.746581</td>\n",
              "      <td>2.0</td>\n",
              "      <td>{'RestaurantsPriceRange2': '1', 'OutdoorSeatin...</td>\n",
              "      <td>Fast Food, Restaurants, Burgers</td>\n",
              "      <td>{'Monday': '6:30-1:0', 'Tuesday': '6:30-1:0', ...</td>\n",
              "      <td>1</td>\n",
              "      <td>0</td>\n",
              "      <td>0</td>\n",
              "      <td>0</td>\n",
              "      <td>0</td>\n",
              "      <td>0</td>\n",
              "      <td>0</td>\n",
              "      <td>0</td>\n",
              "      <td>0</td>\n",
              "      <td>0</td>\n",
              "      <td>0</td>\n",
              "      <td>0</td>\n",
              "      <td>0</td>\n",
              "      <td>0</td>\n",
              "      <td>0</td>\n",
              "      <td>0</td>\n",
              "      <td>0</td>\n",
              "      <td>0</td>\n",
              "      <td>1</td>\n",
              "      <td>8</td>\n",
              "      <td>34</td>\n",
              "      <td>4.25</td>\n",
              "      <td>6.0</td>\n",
              "      <td>27.0</td>\n",
              "      <td>1.0</td>\n",
              "      <td>0.75</td>\n",
              "      <td>3.38</td>\n",
              "      <td>0.12</td>\n",
              "    </tr>\n",
              "    <tr>\n",
              "      <th>1</th>\n",
              "      <td>Pk4ZwXwUU50BDn5gqw_rKg</td>\n",
              "      <td>Johnny Carino's</td>\n",
              "      <td>9500 S IH-35 Service Rd</td>\n",
              "      <td>Austin</td>\n",
              "      <td>TX</td>\n",
              "      <td>78748</td>\n",
              "      <td>30.162081</td>\n",
              "      <td>-97.789132</td>\n",
              "      <td>3.0</td>\n",
              "      <td>{'RestaurantsGoodForGroups': 'True', 'Business...</td>\n",
              "      <td>Italian, Salad, Pizza, Nightlife, Restaurants,...</td>\n",
              "      <td>{'Monday': '11:0-21:30', 'Tuesday': '11:0-21:3...</td>\n",
              "      <td>1</td>\n",
              "      <td>0</td>\n",
              "      <td>0</td>\n",
              "      <td>0</td>\n",
              "      <td>1</td>\n",
              "      <td>0</td>\n",
              "      <td>0</td>\n",
              "      <td>0</td>\n",
              "      <td>0</td>\n",
              "      <td>0</td>\n",
              "      <td>0</td>\n",
              "      <td>0</td>\n",
              "      <td>0</td>\n",
              "      <td>0</td>\n",
              "      <td>0</td>\n",
              "      <td>0</td>\n",
              "      <td>0</td>\n",
              "      <td>0</td>\n",
              "      <td>0</td>\n",
              "      <td>12</td>\n",
              "      <td>68</td>\n",
              "      <td>5.67</td>\n",
              "      <td>25.0</td>\n",
              "      <td>33.0</td>\n",
              "      <td>10.0</td>\n",
              "      <td>2.08</td>\n",
              "      <td>2.75</td>\n",
              "      <td>0.83</td>\n",
              "    </tr>\n",
              "    <tr>\n",
              "      <th>2</th>\n",
              "      <td>m_a0-8_wR1ypvZzDGeSIgA</td>\n",
              "      <td>Wingstop</td>\n",
              "      <td>5167 Kyle Center Dr, Ste 114</td>\n",
              "      <td>Kyle</td>\n",
              "      <td>TX</td>\n",
              "      <td>78640</td>\n",
              "      <td>30.013465</td>\n",
              "      <td>-97.863625</td>\n",
              "      <td>2.5</td>\n",
              "      <td>{'Ambience': '{'touristy': False, 'hipster': F...</td>\n",
              "      <td>Restaurants, Chicken Wings</td>\n",
              "      <td>{'Monday': '11:0-23:0', 'Tuesday': '11:0-23:0'...</td>\n",
              "      <td>1</td>\n",
              "      <td>0</td>\n",
              "      <td>0</td>\n",
              "      <td>0</td>\n",
              "      <td>0</td>\n",
              "      <td>0</td>\n",
              "      <td>0</td>\n",
              "      <td>0</td>\n",
              "      <td>0</td>\n",
              "      <td>0</td>\n",
              "      <td>0</td>\n",
              "      <td>0</td>\n",
              "      <td>0</td>\n",
              "      <td>0</td>\n",
              "      <td>0</td>\n",
              "      <td>0</td>\n",
              "      <td>0</td>\n",
              "      <td>0</td>\n",
              "      <td>1</td>\n",
              "      <td>4</td>\n",
              "      <td>27</td>\n",
              "      <td>6.75</td>\n",
              "      <td>12.0</td>\n",
              "      <td>12.0</td>\n",
              "      <td>3.0</td>\n",
              "      <td>3.00</td>\n",
              "      <td>3.00</td>\n",
              "      <td>0.75</td>\n",
              "    </tr>\n",
              "  </tbody>\n",
              "</table>\n",
              "</div>"
            ],
            "text/plain": [
              "              business_id             name                       address  \\\n",
              "0  bRsDZ44CD3uhGnRY3NeQhQ          Wendy's             6247 Mcneil Drive   \n",
              "1  Pk4ZwXwUU50BDn5gqw_rKg  Johnny Carino's       9500 S IH-35 Service Rd   \n",
              "2  m_a0-8_wR1ypvZzDGeSIgA         Wingstop  5167 Kyle Center Dr, Ste 114   \n",
              "\n",
              "     city state postal_code   latitude  longitude  stars  \\\n",
              "0  Austin    TX       78729  30.441875 -97.746581    2.0   \n",
              "1  Austin    TX       78748  30.162081 -97.789132    3.0   \n",
              "2    Kyle    TX       78640  30.013465 -97.863625    2.5   \n",
              "\n",
              "                                          attributes  \\\n",
              "0  {'RestaurantsPriceRange2': '1', 'OutdoorSeatin...   \n",
              "1  {'RestaurantsGoodForGroups': 'True', 'Business...   \n",
              "2  {'Ambience': '{'touristy': False, 'hipster': F...   \n",
              "\n",
              "                                          categories  \\\n",
              "0                    Fast Food, Restaurants, Burgers   \n",
              "1  Italian, Salad, Pizza, Nightlife, Restaurants,...   \n",
              "2                         Restaurants, Chicken Wings   \n",
              "\n",
              "                                               hours  is_open  \\\n",
              "0  {'Monday': '6:30-1:0', 'Tuesday': '6:30-1:0', ...        1   \n",
              "1  {'Monday': '11:0-21:30', 'Tuesday': '11:0-21:3...        1   \n",
              "2  {'Monday': '11:0-23:0', 'Tuesday': '11:0-23:0'...        1   \n",
              "\n",
              "   operation_years  American  Mexican  Italian  Japanese  Chinese  Thai  \\\n",
              "0                0         0        0        0         0        0     0   \n",
              "1                0         0        0        1         0        0     0   \n",
              "2                0         0        0        0         0        0     0   \n",
              "\n",
              "   Mediterranean  French  Vietnamese  Greek  Indian  Korean  Hawaiian  \\\n",
              "0              0       0           0      0       0       0         0   \n",
              "1              0       0           0      0       0       0         0   \n",
              "2              0       0           0      0       0       0         0   \n",
              "\n",
              "   African  Spanish  Middle_eastern  Other  age  review_count_16_19  \\\n",
              "0        0        0               0      1    8                  34   \n",
              "1        0        0               0      0   12                  68   \n",
              "2        0        0               0      1    4                  27   \n",
              "\n",
              "   review_normalized   pos   neg  neutral  pos_norm  neg_norm  neutral_norm  \n",
              "0               4.25   6.0  27.0      1.0      0.75      3.38          0.12  \n",
              "1               5.67  25.0  33.0     10.0      2.08      2.75          0.83  \n",
              "2               6.75  12.0  12.0      3.0      3.00      3.00          0.75  "
            ]
          },
          "metadata": {
            "tags": []
          },
          "execution_count": 15
        }
      ]
    },
    {
      "cell_type": "code",
      "metadata": {
        "id": "J2s-Djyusizr"
      },
      "source": [
        "del final_business_tex, fin_df, reviews_df_norm, pos_rev, neg_rev, neu_rev, pos_rest, neg_rest, neu_rest, rest_age_df, rest_age_df1, result, review_by_business"
      ],
      "execution_count": null,
      "outputs": []
    },
    {
      "cell_type": "markdown",
      "metadata": {
        "id": "dcLTARUSZ_3w"
      },
      "source": [
        "### Using top bigram features and generating: text based feature\n",
        "Frequency of occurence of bigram words about food, location, service etc in reviews."
      ]
    },
    {
      "cell_type": "code",
      "metadata": {
        "colab": {
          "base_uri": "https://localhost:8080/"
        },
        "id": "oaR9JXkKb0Hg",
        "outputId": "f0c8876b-463f-47c7-8dfb-e5892d04c687"
      },
      "source": [
        "nltk.download('stopwords')"
      ],
      "execution_count": null,
      "outputs": [
        {
          "output_type": "stream",
          "text": [
            "[nltk_data] Downloading package stopwords to /root/nltk_data...\n",
            "[nltk_data]   Unzipping corpora/stopwords.zip.\n"
          ],
          "name": "stdout"
        },
        {
          "output_type": "execute_result",
          "data": {
            "text/plain": [
              "True"
            ]
          },
          "metadata": {
            "tags": []
          },
          "execution_count": 16
        }
      ]
    },
    {
      "cell_type": "code",
      "metadata": {
        "colab": {
          "base_uri": "https://localhost:8080/"
        },
        "id": "4EIXDiEXeVRY",
        "outputId": "8c633141-f216-42b4-c9f8-7503298625de"
      },
      "source": [
        "nltk.download('wordnet')"
      ],
      "execution_count": null,
      "outputs": [
        {
          "output_type": "stream",
          "text": [
            "[nltk_data] Downloading package wordnet to /root/nltk_data...\n",
            "[nltk_data]   Unzipping corpora/wordnet.zip.\n"
          ],
          "name": "stdout"
        },
        {
          "output_type": "execute_result",
          "data": {
            "text/plain": [
              "True"
            ]
          },
          "metadata": {
            "tags": []
          },
          "execution_count": 17
        }
      ]
    },
    {
      "cell_type": "code",
      "metadata": {
        "colab": {
          "base_uri": "https://localhost:8080/"
        },
        "id": "hiCkaMKyf4xl",
        "outputId": "a1a22269-d154-4189-ef10-c94b697106b8"
      },
      "source": [
        "nltk.download('punkt')"
      ],
      "execution_count": null,
      "outputs": [
        {
          "output_type": "stream",
          "text": [
            "[nltk_data] Downloading package punkt to /root/nltk_data...\n",
            "[nltk_data]   Unzipping tokenizers/punkt.zip.\n"
          ],
          "name": "stdout"
        },
        {
          "output_type": "execute_result",
          "data": {
            "text/plain": [
              "True"
            ]
          },
          "metadata": {
            "tags": []
          },
          "execution_count": 18
        }
      ]
    },
    {
      "cell_type": "code",
      "metadata": {
        "id": "52eM9DKxab88"
      },
      "source": [
        "#merge all reviews for a particular business id\n",
        "review_by_business2 = pd.DataFrame(review_by_business1.groupby(['business_id'])['text'].agg(lambda col: ' '.join(col)).reset_index())"
      ],
      "execution_count": null,
      "outputs": []
    },
    {
      "cell_type": "code",
      "metadata": {
        "id": "WDvBlhJobgnN"
      },
      "source": [
        "#declare stop words\n",
        "my_stopwords= set(stopwords.words('english') + list(ENGLISH_STOP_WORDS) + ['youll', 'ive', 'got', 'im'])\n",
        "words_to_remove_from_stopwords= ['no' , 'not', 'don', \"don't\", \"didn't\", \"won't\", \"wouldn\", \"wouldn't\", \"isn't\" , 'least' 'never']\n",
        "my_stopwords = [ word for word in my_stopwords if word not in words_to_remove_from_stopwords]\n",
        "\n",
        "#convert reviews to lower case\n",
        "review_by_business2['review_lowercase']= review_by_business2['text'].str.lower()"
      ],
      "execution_count": null,
      "outputs": []
    },
    {
      "cell_type": "code",
      "metadata": {
        "id": "2a7_zNIccllH"
      },
      "source": [
        "#stop words removal and punctuation removal \n",
        "review_by_business2['review_nopunc_num']= review_by_business2['review_lowercase'].str.replace('[^\\w\\s]', '')\n",
        "review_by_business2['review_nopunc_num']= review_by_business2['review_nopunc_num'].apply(lambda x: re.sub(r'[0-9]', '', x))\n",
        "\n",
        "#remove stopwords\n",
        "review_by_business2['clean_text']= review_by_business2['review_nopunc_num'].apply(lambda x: \" \".join(x for x in x.split() if x not in my_stopwords))\n",
        "review_by_business2.drop(['text', 'review_lowercase', 'review_nopunc_num'], axis=1, inplace= True)"
      ],
      "execution_count": null,
      "outputs": []
    },
    {
      "cell_type": "code",
      "metadata": {
        "colab": {
          "base_uri": "https://localhost:8080/",
          "height": 142
        },
        "id": "yXc8q_xYdA9W",
        "outputId": "678c3d0f-c539-413b-cd61-e2d3ba3f932d"
      },
      "source": [
        "# Lemmatize cleaned text (stem words)\n",
        "w_tokenizer = nltk.tokenize.WhitespaceTokenizer()\n",
        "review_by_business2['tokenized_review'] = review_by_business2['clean_text'].apply(lambda x: w_tokenizer.tokenize(x))\n",
        "#porter = PorterStemmer()\n",
        "lemmatizer = WordNetLemmatizer()\n",
        "review_by_business2['lemma_text'] = review_by_business2['tokenized_review'].apply(lambda x: [lemmatizer.lemmatize(w) for w in x])\n",
        "review_by_business2['lemma_text'] = review_by_business2['lemma_text'].apply(lambda x: ' '.join(x))\n",
        "review_by_business2.drop(['tokenized_review', 'clean_text'], axis=1, inplace= True)\n",
        "review_by_business2.head(3)"
      ],
      "execution_count": null,
      "outputs": [
        {
          "output_type": "execute_result",
          "data": {
            "text/html": [
              "<div>\n",
              "<style scoped>\n",
              "    .dataframe tbody tr th:only-of-type {\n",
              "        vertical-align: middle;\n",
              "    }\n",
              "\n",
              "    .dataframe tbody tr th {\n",
              "        vertical-align: top;\n",
              "    }\n",
              "\n",
              "    .dataframe thead th {\n",
              "        text-align: right;\n",
              "    }\n",
              "</style>\n",
              "<table border=\"1\" class=\"dataframe\">\n",
              "  <thead>\n",
              "    <tr style=\"text-align: right;\">\n",
              "      <th></th>\n",
              "      <th>business_id</th>\n",
              "      <th>lemma_text</th>\n",
              "    </tr>\n",
              "  </thead>\n",
              "  <tbody>\n",
              "    <tr>\n",
              "      <th>0</th>\n",
              "      <td>-4cQ12xutjNLW-tPI06_tg</td>\n",
              "      <td>yummy love chocolate covered donut hole mexica...</td>\n",
              "    </tr>\n",
              "    <tr>\n",
              "      <th>1</th>\n",
              "      <td>-4ofMtrD7pSpZIX5pnDkig</td>\n",
              "      <td>cute little coffee shop colorado river busy wa...</td>\n",
              "    </tr>\n",
              "    <tr>\n",
              "      <th>2</th>\n",
              "      <td>-85pDrVcAdzNK55bFpintg</td>\n",
              "      <td>nope high hope waited minute menu place order ...</td>\n",
              "    </tr>\n",
              "  </tbody>\n",
              "</table>\n",
              "</div>"
            ],
            "text/plain": [
              "              business_id                                         lemma_text\n",
              "0  -4cQ12xutjNLW-tPI06_tg  yummy love chocolate covered donut hole mexica...\n",
              "1  -4ofMtrD7pSpZIX5pnDkig  cute little coffee shop colorado river busy wa...\n",
              "2  -85pDrVcAdzNK55bFpintg  nope high hope waited minute menu place order ..."
            ]
          },
          "metadata": {
            "tags": []
          },
          "execution_count": 22
        }
      ]
    },
    {
      "cell_type": "code",
      "metadata": {
        "id": "EyDcwDnZfVA3",
        "colab": {
          "base_uri": "https://localhost:8080/",
          "height": 366
        },
        "outputId": "cd8b6f11-ff02-47ca-abdf-b60c3fcdf39b"
      },
      "source": [
        "#to plot wordcloud\n",
        "\n",
        "full_text = ' '.join(review_by_business2['lemma_text'])\n",
        "wordcloud = WordCloud().generate(full_text)\n",
        "plt.figure( figsize=(12,12) )\n",
        "plt.imshow(wordcloud, interpolation='bilinear')\n",
        "plt.axis(\"off\")\n",
        "plt.show()"
      ],
      "execution_count": null,
      "outputs": [
        {
          "output_type": "display_data",
          "data": {
            "image/png": "[encoded data removed]",
            "text/plain": [
              "<Figure size 864x864 with 1 Axes>"
            ]
          },
          "metadata": {
            "tags": [],
            "needs_background": "light"
          }
        }
      ]
    },
    {
      "cell_type": "code",
      "metadata": {
        "id": "7gDt2QOmf-IM"
      },
      "source": [
        "vect = CountVectorizer(stop_words=my_stopwords, ngram_range=(2,2), min_df= 20)\n",
        "bigrams = vect.fit_transform(review_by_business2['lemma_text'])\n",
        "bigram_df = pd.DataFrame(bigrams.toarray(), columns=vect.get_feature_names())\n",
        "bigram_frequency = pd.DataFrame(bigram_df.sum(axis=0)).reset_index()\n",
        "bigram_frequency.columns = ['bigram', 'frequency']\n",
        "bigram_frequency = bigram_frequency.sort_values(by='frequency', ascending=False)"
      ],
      "execution_count": null,
      "outputs": []
    },
    {
      "cell_type": "code",
      "metadata": {
        "colab": {
          "base_uri": "https://localhost:8080/",
          "height": 501
        },
        "id": "wri_1xkvgPeT",
        "outputId": "ef788f8d-d1b7-4808-9678-1d0d6ac0d691"
      },
      "source": [
        "bigram_frequency1 = bigram_frequency.head(30).copy()\n",
        "bigram_frequency1.sort_values(['frequency'], ascending= True, inplace=True)\n",
        "fig, ax = plt.subplots()\n",
        "\n",
        "# Fig size\n",
        "fig.set_size_inches(12,8)\n",
        "plt.barh(y=bigram_frequency1['bigram'], width=bigram_frequency1['frequency'])"
      ],
      "execution_count": null,
      "outputs": [
        {
          "output_type": "execute_result",
          "data": {
            "text/plain": [
              "<BarContainer object of 30 artists>"
            ]
          },
          "metadata": {
            "tags": []
          },
          "execution_count": 31
        },
        {
          "output_type": "display_data",
          "data": {
            "image/png": "[encoded data removed]",
            "text/plain": [
              "<Figure size 864x576 with 1 Axes>"
            ]
          },
          "metadata": {
            "tags": [],
            "needs_background": "light"
          }
        }
      ]
    },
    {
      "cell_type": "code",
      "metadata": {
        "id": "Ks9hrZopr9bm"
      },
      "source": [
        "good_bigram_foodtext= ['really good', 'food good', 'pretty good', 'great food', 'good food', 'happy hour', 'food delicious']\n",
        "good_bigram_loc_text= ['love place', 'great service', 'great place', 'service great', 'good service', 'service good']\n",
        "bad_bigram_text= ['not good', 'not great', 'not worth', 'waited minute', 'long time']"
      ],
      "execution_count": null,
      "outputs": []
    },
    {
      "cell_type": "code",
      "metadata": {
        "id": "JowvirG99azI",
        "colab": {
          "base_uri": "https://localhost:8080/",
          "height": 142
        },
        "outputId": "71da4b19-8626-4a0f-cbbc-a1f5b6d3e3e0"
      },
      "source": [
        "df= review_by_business2.copy()\n",
        "x= 0*df.shape[0]\n",
        "for p in good_bigram_foodtext:\n",
        "    x= x+ df['lemma_text'].str.count(p)\n",
        "df['bi_goodfood_text'] = x\n",
        "\n",
        "x= 0*df.shape[0]\n",
        "for p in good_bigram_loc_text:\n",
        "    x= x+ df['lemma_text'].str.count(p)\n",
        "df['bi_goodloc_text'] = x\n",
        "\n",
        "\n",
        "x= 0*df.shape[0]\n",
        "for p in bad_bigram_text:\n",
        "    x= x+ df['lemma_text'].str.count(p)\n",
        "df['bi_bad_text'] = x\n",
        "\n",
        "df.drop(['lemma_text'], axis=1, inplace= True)\n",
        "\n",
        "df.head(3)"
      ],
      "execution_count": null,
      "outputs": [
        {
          "output_type": "execute_result",
          "data": {
            "text/html": [
              "<div>\n",
              "<style scoped>\n",
              "    .dataframe tbody tr th:only-of-type {\n",
              "        vertical-align: middle;\n",
              "    }\n",
              "\n",
              "    .dataframe tbody tr th {\n",
              "        vertical-align: top;\n",
              "    }\n",
              "\n",
              "    .dataframe thead th {\n",
              "        text-align: right;\n",
              "    }\n",
              "</style>\n",
              "<table border=\"1\" class=\"dataframe\">\n",
              "  <thead>\n",
              "    <tr style=\"text-align: right;\">\n",
              "      <th></th>\n",
              "      <th>business_id</th>\n",
              "      <th>bi_goodfood_text</th>\n",
              "      <th>bi_goodloc_text</th>\n",
              "      <th>bi_bad_text</th>\n",
              "    </tr>\n",
              "  </thead>\n",
              "  <tbody>\n",
              "    <tr>\n",
              "      <th>0</th>\n",
              "      <td>-4cQ12xutjNLW-tPI06_tg</td>\n",
              "      <td>3</td>\n",
              "      <td>5</td>\n",
              "      <td>6</td>\n",
              "    </tr>\n",
              "    <tr>\n",
              "      <th>1</th>\n",
              "      <td>-4ofMtrD7pSpZIX5pnDkig</td>\n",
              "      <td>53</td>\n",
              "      <td>100</td>\n",
              "      <td>35</td>\n",
              "    </tr>\n",
              "    <tr>\n",
              "      <th>2</th>\n",
              "      <td>-85pDrVcAdzNK55bFpintg</td>\n",
              "      <td>28</td>\n",
              "      <td>12</td>\n",
              "      <td>6</td>\n",
              "    </tr>\n",
              "  </tbody>\n",
              "</table>\n",
              "</div>"
            ],
            "text/plain": [
              "              business_id  bi_goodfood_text  bi_goodloc_text  bi_bad_text\n",
              "0  -4cQ12xutjNLW-tPI06_tg                 3                5            6\n",
              "1  -4ofMtrD7pSpZIX5pnDkig                53              100           35\n",
              "2  -85pDrVcAdzNK55bFpintg                28               12            6"
            ]
          },
          "metadata": {
            "tags": []
          },
          "execution_count": 24
        }
      ]
    },
    {
      "cell_type": "code",
      "metadata": {
        "id": "4Ahf5CeantOs"
      },
      "source": [
        "#merge business dataset with bigram_feature dataset and save \n",
        "nlp_df= pd.merge(rev_cnt_df, df, on='business_id', how= 'inner')"
      ],
      "execution_count": null,
      "outputs": []
    },
    {
      "cell_type": "code",
      "metadata": {
        "id": "sFOAWC7vsNrQ"
      },
      "source": [
        "del rev_cnt_df, df, bigrams, bigram_frequency1, bigram_frequency1, vect, full_text, wordcloud, review_by_business2, review_by_business1"
      ],
      "execution_count": null,
      "outputs": []
    },
    {
      "cell_type": "markdown",
      "metadata": {
        "id": "apXlGWfGmtxI"
      },
      "source": [
        "### Attributes"
      ]
    },
    {
      "cell_type": "code",
      "metadata": {
        "id": "ymK3NqV31Lbb"
      },
      "source": [
        "nlp_df1= nlp_df.copy()"
      ],
      "execution_count": null,
      "outputs": []
    },
    {
      "cell_type": "code",
      "metadata": {
        "id": "kqJpGvp8GgJy"
      },
      "source": [
        "def extract_attr(y, feature, target_col=None):\n",
        "    val= None\n",
        "    if y:\n",
        "        if target_col:\n",
        "            attr=y.get(feature)\n",
        "            attr = None if attr == 'None' else attr\n",
        "            if attr:\n",
        "                val= (eval(attr).get(target_col))\n",
        "        else:\n",
        "            val= y.get(feature)\n",
        "    return val"
      ],
      "execution_count": null,
      "outputs": []
    },
    {
      "cell_type": "code",
      "metadata": {
        "id": "rJurHt5kGgAe"
      },
      "source": [
        "nlp_df.loc[:,'Delivery']= nlp_df.apply(lambda row: extract_attr(row['attributes'],  'RestaurantsDelivery'), axis=1)\n",
        "nlp_df.loc[:,'ByAppointmentOnly']= nlp_df.apply(lambda row: extract_attr(row['attributes'],  'ByAppointmentOnly'), axis=1)\n",
        "nlp_df.loc[:,'RestaurantsPriceRange2']= nlp_df.apply(lambda row: extract_attr(row['attributes'],  'RestaurantsPriceRange2'), axis=1)\n",
        "nlp_df.loc[:,'Alcohol']= nlp_df.apply(lambda row: extract_attr(row['attributes'],  'Alcohol'), axis=1)\n",
        "nlp_df.loc[:,'OutdoorSeating']= nlp_df.apply(lambda row: extract_attr(row['attributes'],  'OutdoorSeating'), axis=1)\n",
        "nlp_df.loc[:,'HasTV']= nlp_df.apply(lambda row: extract_attr(row['attributes'],  'OutdoorSeating'), axis=1)\n",
        "\n",
        "nlp_df.loc[:,'Touristy']= nlp_df.apply(lambda row: extract_attr(row['attributes'],  'Ambience', 'touristy'), axis=1)\n",
        "nlp_df.loc[:,'Hipster']= nlp_df.apply(lambda row: extract_attr(row['attributes'],  'Ambience', 'hipster'), axis=1)\n",
        "nlp_df.loc[:,'Romantic']= nlp_df.apply(lambda row: extract_attr(row['attributes'],  'Ambience', 'romantic'), axis=1)\n",
        "nlp_df.loc[:,'Divey']= nlp_df.apply(lambda row: extract_attr(row['attributes'],  'Ambience', 'divey'), axis=1)\n",
        "nlp_df.loc[:,'Intimate']= nlp_df.apply(lambda row: extract_attr(row['attributes'],  'Ambience', 'intimate'), axis=1)\n",
        "nlp_df.loc[:,'Trendy']= nlp_df.apply(lambda row: extract_attr(row['attributes'],  'Ambience', 'trendy'), axis=1)\n",
        "nlp_df.loc[:,'Upscale']= nlp_df.apply(lambda row: extract_attr(row['attributes'],  'Ambience', 'upscale' ), axis=1)\n",
        "nlp_df.loc[:,'Classy']= nlp_df.apply(lambda row: extract_attr(row['attributes'],  'Ambience', 'classy'), axis=1)\n",
        "nlp_df.loc[:,'Casual']= nlp_df.apply(lambda row: extract_attr(row['attributes'],  'Ambience', 'casual'), axis=1)"
      ],
      "execution_count": null,
      "outputs": []
    },
    {
      "cell_type": "code",
      "metadata": {
        "id": "YE3Y4oteGf1k"
      },
      "source": [
        "nlp_df['Delivery'] = nlp_df['Delivery'].map({'True':True ,'False':False, 'None': np.nan})\n",
        "nlp_df['ByAppointmentOnly'] = nlp_df['ByAppointmentOnly'].map({'True':True ,'False':False, 'None': np.nan})\n",
        "nlp_df['RestaurantsPriceRange2'] = nlp_df['RestaurantsPriceRange2'].map({'1':1 ,'2':2, '3': 3, '4': 4, 'None': np.nan})\n",
        "nlp_df['OutdoorSeating'] = nlp_df['OutdoorSeating'].map({'True':True ,'False':False, 'None': np.nan})\n",
        "nlp_df['HasTV'] = nlp_df['HasTV'].map({'True':True ,'False':False, 'None': np.nan})\n",
        "nlp_df['Alcohol'] = nlp_df['Alcohol'].map({\"u'full_bar'\":'full_bar' , \"u'beer_and_wine'\": 'beer_and_wine', \"'beer_and_wine'\" : 'beer_and_wine', \"'full_bar'\": 'full_bar', \"u'none\":np.nan, \"'none'\": np.nan, 'None': np.nan})\n"
      ],
      "execution_count": null,
      "outputs": []
    },
    {
      "cell_type": "markdown",
      "metadata": {
        "id": "ceaTZtx65uuX"
      },
      "source": [
        "##### Check for NA counts and impute where necessary"
      ]
    },
    {
      "cell_type": "code",
      "metadata": {
        "id": "ky_1zeohxP6W"
      },
      "source": [
        "def check_na_counts(column):\n",
        "    f= nlp_df[column].value_counts(dropna= False)\n",
        "    ind= f.index\n",
        "    val_cnt_dict={}\n",
        "    for i,v in enumerate(f):\n",
        "        val_cnt_dict[str(ind[i])] = v\n",
        "\n",
        "    return val_cnt_dict"
      ],
      "execution_count": null,
      "outputs": []
    },
    {
      "cell_type": "code",
      "metadata": {
        "id": "BX1io0AAzKe8"
      },
      "source": [
        "cols= ['Delivery', 'ByAppointmentOnly' ,'RestaurantsPriceRange2', 'OutdoorSeating', 'HasTV' , 'Alcohol', 'OutdoorSeating', 'HasTV', 'Touristy', 'Hipster', 'Romantic', 'Divey', 'Intimate', 'Trendy', 'Upscale', 'Classy', 'Casual']"
      ],
      "execution_count": null,
      "outputs": []
    },
    {
      "cell_type": "code",
      "metadata": {
        "id": "DWfxvZXxnpvc"
      },
      "source": [
        "dict_val_count={}\n",
        "for i in cols:\n",
        "    val_cnt_dict= check_na_counts(i)\n",
        "    dict_val_count[i]= (val_cnt_dict)"
      ],
      "execution_count": null,
      "outputs": []
    },
    {
      "cell_type": "code",
      "metadata": {
        "colab": {
          "base_uri": "https://localhost:8080/"
        },
        "id": "tk9KRXKy9TFK",
        "outputId": "bcb1a3f8-08f4-4ce2-96fb-4c268c85fee8"
      },
      "source": [
        "dict_val_count"
      ],
      "execution_count": null,
      "outputs": [
        {
          "output_type": "execute_result",
          "data": {
            "text/plain": [
              "{'Alcohol': {'beer_and_wine': 597, 'full_bar': 761, 'nan': 1525},\n",
              " 'ByAppointmentOnly': {'False': 398, 'True': 16, 'nan': 2469},\n",
              " 'Casual': {'False': 812, 'True': 1730, 'nan': 341},\n",
              " 'Classy': {'False': 2011, 'True': 523, 'nan': 349},\n",
              " 'Delivery': {'False': 1001, 'True': 1610, 'nan': 272},\n",
              " 'Divey': {'False': 2309, 'True': 99, 'nan': 475},\n",
              " 'HasTV': {'False': 961, 'True': 1537, 'nan': 385},\n",
              " 'Hipster': {'False': 2346, 'True': 102, 'nan': 435},\n",
              " 'Intimate': {'False': 2484, 'True': 24, 'nan': 375},\n",
              " 'OutdoorSeating': {'False': 961, 'True': 1537, 'nan': 385},\n",
              " 'RestaurantsPriceRange2': {'1.0': 1567,\n",
              "  '2.0': 1168,\n",
              "  '3.0': 77,\n",
              "  '4.0': 14,\n",
              "  'nan': 57},\n",
              " 'Romantic': {'False': 2501, 'True': 28, 'nan': 354},\n",
              " 'Touristy': {'False': 2519, 'True': 6, 'nan': 358},\n",
              " 'Trendy': {'False': 2274, 'True': 161, 'nan': 448},\n",
              " 'Upscale': {'False': 2520, 'True': 29, 'nan': 334}}"
            ]
          },
          "metadata": {
            "tags": []
          },
          "execution_count": 33
        }
      ]
    },
    {
      "cell_type": "code",
      "metadata": {
        "colab": {
          "base_uri": "https://localhost:8080/",
          "height": 265
        },
        "id": "mImCZZin9s3E",
        "outputId": "e49fe253-4f47-496d-a904-25ba694f6ca5"
      },
      "source": [
        "### Since, most of the columns above are boolean, we can fill the na values with zero with some exceptions. \n",
        "### ByAppointmentOnly has large no of NaN values. Hence, we can remove this column as any insight caught from this column won't be relevant.\n",
        "### RestaurantsPriceRange2 is a numeric column and has only 57 missing values. So we would impute this column as follows: \n",
        "\n",
        "# perform imputation: for RestaurantsPriceRange2 consider mode: Since, its a categorized value and also skewed distribution. We will fill the NA with mode of the distribution i.e 1\n",
        "plt.hist(nlp_df['RestaurantsPriceRange2'])\n",
        "plt.show()"
      ],
      "execution_count": null,
      "outputs": [
        {
          "output_type": "display_data",
          "data": {
            "image/png": "[encoded data removed]",
            "text/plain": [
              "<Figure size 432x288 with 1 Axes>"
            ]
          },
          "metadata": {
            "tags": [],
            "needs_background": "light"
          }
        }
      ]
    },
    {
      "cell_type": "code",
      "metadata": {
        "id": "6RUW_jya-v0N"
      },
      "source": [
        "#Drop ByAppointmentOnly column and fill NA column:\n",
        "nlp_df.drop(['ByAppointmentOnly', 'categories', 'attributes'], axis=1, inplace = True)\n",
        "\n",
        "nlp_df['Delivery'].fillna(0, inplace=True)\n",
        "nlp_df['RestaurantsPriceRange2'].fillna(1, inplace=True) #filled with mode value\n",
        "nlp_df['OutdoorSeating'].fillna(0, inplace=True)\n",
        "nlp_df['HasTV'].fillna(0, inplace=True)\n",
        "\n",
        "nlp_df['Touristy'].fillna(0, inplace=True)\n",
        "nlp_df['Hipster'].fillna(0, inplace=True)\n",
        "nlp_df['Romantic'].fillna(0, inplace=True)\n",
        "nlp_df['Divey'].fillna(0, inplace=True)\n",
        "nlp_df['Intimate'].fillna(0, inplace=True)\n",
        "nlp_df['Trendy'].fillna(0, inplace=True)\n",
        "nlp_df['Upscale'].fillna(0, inplace=True)\n",
        "nlp_df['Classy'].fillna(0, inplace=True)\n",
        "nlp_df['Casual'].fillna(0, inplace=True)\n",
        "nlp_df['Alcohol'].fillna('None_served', inplace=True)"
      ],
      "execution_count": null,
      "outputs": []
    },
    {
      "cell_type": "code",
      "metadata": {
        "id": "TqMFmPC3CKfz"
      },
      "source": [
        " alc_onehot= pd.get_dummies(nlp_df['Alcohol'], prefix='Alc')"
      ],
      "execution_count": null,
      "outputs": []
    },
    {
      "cell_type": "code",
      "metadata": {
        "id": "F0M4MbNaCRqG"
      },
      "source": [
        "attr_df= pd.concat([nlp_df, alc_onehot], axis=1)\n",
        "attr_df.drop(['Alcohol'], axis=1, inplace= True)"
      ],
      "execution_count": null,
      "outputs": []
    },
    {
      "cell_type": "code",
      "metadata": {
        "id": "Oy-ClrgLAWI5"
      },
      "source": [
        "# change column data type\n",
        "cols= {'Delivery': 'int',  'RestaurantsPriceRange2': 'int',  'OutdoorSeating': 'int',  'HasTV': 'int',  'Touristy': 'int',  'Hipster': 'int',  'Romantic': 'int',  'Divey': 'int',  'Intimate': 'int',  'Trendy': 'int',  'Upscale': 'int',  'Classy': 'int',  'Casual' : 'int'}\n",
        "\n",
        "attr_df= attr_df.astype(cols)"
      ],
      "execution_count": null,
      "outputs": []
    },
    {
      "cell_type": "markdown",
      "metadata": {
        "id": "ZlyYlocPLtGy"
      },
      "source": [
        "### Create open hours by breakfast, lunch and dinner"
      ]
    },
    {
      "cell_type": "code",
      "metadata": {
        "id": "CqtDKyqVLspB"
      },
      "source": [
        "def convert_datetime_to_date(string_list):\n",
        "    stringlist_temp= []\n",
        "    for i in string_list:\n",
        "        stringlist_temp.append(dt.strptime(i, \"%H:%M\"))\n",
        "    return stringlist_temp"
      ],
      "execution_count": null,
      "outputs": []
    },
    {
      "cell_type": "code",
      "metadata": {
        "id": "egjeIt-CMB5r"
      },
      "source": [
        "breakfast= ['05:00', '10:00']\n",
        "lunch= ['11:00', '16:00']\n",
        "dinner= ['17:00', '23:59']\n",
        "#late_night= ['23:01', '0:0']\n",
        "\n",
        "breakfast= convert_datetime_to_date(breakfast)\n",
        "lunch= convert_datetime_to_date(lunch)\n",
        "dinner= convert_datetime_to_date(dinner)"
      ],
      "execution_count": null,
      "outputs": []
    },
    {
      "cell_type": "code",
      "metadata": {
        "colab": {
          "base_uri": "https://localhost:8080/"
        },
        "id": "7vxIQtseMFkv",
        "outputId": "70ab8091-1e4a-4cc9-dea2-98a60b8ea413"
      },
      "source": [
        "f= attr_df.iloc[1]['hours']\n",
        "print(f)"
      ],
      "execution_count": null,
      "outputs": [
        {
          "output_type": "stream",
          "text": [
            "{'Monday': '11:0-21:30', 'Tuesday': '11:0-21:30', 'Wednesday': '11:0-21:30', 'Thursday': '11:0-22:0', 'Friday': '11:0-22:30', 'Saturday': '11:0-22:30', 'Sunday': '11:0-21:30'}\n"
          ],
          "name": "stdout"
        }
      ]
    },
    {
      "cell_type": "markdown",
      "metadata": {
        "id": "vrAO8UF7MRAC"
      },
      "source": [
        "#### Check if open hours not mentioned: then displayed_open_hours =0 , or if open hours mentioned but as 0:0 - 0:0 then displayed_open_hours=0 else displayed_open_hours = 1"
      ]
    },
    {
      "cell_type": "code",
      "metadata": {
        "id": "cDyuwCotMODh"
      },
      "source": [
        "def create_open_hours(x):\n",
        "    breakfast_list=0\n",
        "    lunch_list=0\n",
        "    dinner_list=0\n",
        "    displayed_open_hours= 0\n",
        "    if x!= None:\n",
        "        open_hours= list(x.keys())\n",
        "        for i in open_hours:\n",
        "            time_str= x.get(i).split('-')\n",
        "            start= time_str[0]\n",
        "            end= time_str[1]\n",
        "            if (start in [\"0:0\", \"00:0\"]) and (end  in [\"0:0\", \"00:0\"]):\n",
        "                if open_hours.index(i) >= 3:  #breaking as if resturant doesnt display open hours for 3 days we no longer want to continue searching adn assume they have not displyed.\n",
        "                    break\n",
        "                continue\n",
        "            else:\n",
        "                if end == \"0:0\":\n",
        "                    end= dt.strptime(\"23:59\", \"%H:%M\")\n",
        "                else:\n",
        "                    end= dt.strptime(end, \"%H:%M\")\n",
        "                    \n",
        "                displayed_open_hours= 1\n",
        "                start= dt.strptime(start, \"%H:%M\")\n",
        "                \n",
        "                if (start >= breakfast[0] and start <= breakfast[1]) | ( end >= breakfast[0] and end <= breakfast[1]):\n",
        "                    breakfast_list= 1\n",
        "                if (start >= lunch[0] and start <= lunch[1]) | ( end >= lunch[0] and end <= lunch[1]):\n",
        "                    lunch_list= 1\n",
        "                if (start >= breakfast[0] and start <= breakfast[1]) and (end >= dinner[0] and end <= dinner[1]):\n",
        "                    lunch_list=1\n",
        "                if (start >= dinner[0] and start <= dinner[1]) | (end >= dinner[0] and end <= dinner[1]):\n",
        "                    dinner_list=1\n",
        "                if (start >= lunch[0] and start <= lunch[1]) and (end >= dinner[0] and end <= dinner[1]):\n",
        "                    dinner_list=1\n",
        "                break\n",
        "\n",
        "        return [[breakfast_list, lunch_list, dinner_list], displayed_open_hours]\n",
        "    else:\n",
        "        return [ [0, 0, 0], 0]"
      ],
      "execution_count": null,
      "outputs": []
    },
    {
      "cell_type": "code",
      "metadata": {
        "id": "c0m2V9hkMchV"
      },
      "source": [
        "attr_df['open_hours']= attr_df['hours'].apply(lambda x: create_open_hours(x))"
      ],
      "execution_count": null,
      "outputs": []
    },
    {
      "cell_type": "code",
      "metadata": {
        "id": "hVOOqnh6Msx6"
      },
      "source": [
        "#Create 5 fields: \n",
        "#### open hours meals: 1: if open only for (breakfast/lunch/dinner)\n",
        "####                   2: if open for both time (B+L , L+D, B+D)\n",
        "####                   3: if open for all three (B+L+D)\n",
        "####                   0: None\n",
        "\n",
        "#### open_breakfast: 1/0\n",
        "#### open_lunch: 1/0\n",
        "#### open_dinner: 1/0\n",
        "\n",
        "#### Displayed_open_hours : if open hours is mentioned on the website or not.\n",
        "\n",
        "attr_df['open_breakfast']= attr_df['open_hours'].apply(lambda x: x[0][0])\n",
        "attr_df['open_lunch']= attr_df['open_hours'].apply(lambda x: x[0][1])\n",
        "attr_df['open_dinner']= attr_df['open_hours'].apply(lambda x: x[0][2])\n",
        "attr_df['open_hours_meals']= attr_df['open_hours'].apply(lambda x: sum(x[0]))\n",
        "attr_df['displayed_open_hours']= attr_df['open_hours'].apply(lambda x: x[1])\n",
        "\n",
        "attr_df.drop(['hours', 'open_hours' ], axis=1, inplace= True)"
      ],
      "execution_count": null,
      "outputs": []
    },
    {
      "cell_type": "code",
      "metadata": {
        "colab": {
          "base_uri": "https://localhost:8080/",
          "height": 216
        },
        "id": "EbhKEcXaQK12",
        "outputId": "84e7a9be-cf04-4c28-cba5-6d8ff4af254d"
      },
      "source": [
        "attr_df.head(2)"
      ],
      "execution_count": null,
      "outputs": [
        {
          "output_type": "execute_result",
          "data": {
            "text/html": [
              "<div>\n",
              "<style scoped>\n",
              "    .dataframe tbody tr th:only-of-type {\n",
              "        vertical-align: middle;\n",
              "    }\n",
              "\n",
              "    .dataframe tbody tr th {\n",
              "        vertical-align: top;\n",
              "    }\n",
              "\n",
              "    .dataframe thead th {\n",
              "        text-align: right;\n",
              "    }\n",
              "</style>\n",
              "<table border=\"1\" class=\"dataframe\">\n",
              "  <thead>\n",
              "    <tr style=\"text-align: right;\">\n",
              "      <th></th>\n",
              "      <th>business_id</th>\n",
              "      <th>name</th>\n",
              "      <th>address</th>\n",
              "      <th>city</th>\n",
              "      <th>state</th>\n",
              "      <th>postal_code</th>\n",
              "      <th>latitude</th>\n",
              "      <th>longitude</th>\n",
              "      <th>stars</th>\n",
              "      <th>is_open</th>\n",
              "      <th>operation_years</th>\n",
              "      <th>American</th>\n",
              "      <th>Mexican</th>\n",
              "      <th>Italian</th>\n",
              "      <th>Japanese</th>\n",
              "      <th>Chinese</th>\n",
              "      <th>Thai</th>\n",
              "      <th>Mediterranean</th>\n",
              "      <th>French</th>\n",
              "      <th>Vietnamese</th>\n",
              "      <th>Greek</th>\n",
              "      <th>Indian</th>\n",
              "      <th>Korean</th>\n",
              "      <th>Hawaiian</th>\n",
              "      <th>African</th>\n",
              "      <th>Spanish</th>\n",
              "      <th>Middle_eastern</th>\n",
              "      <th>Other</th>\n",
              "      <th>age</th>\n",
              "      <th>review_count_16_19</th>\n",
              "      <th>review_normalized</th>\n",
              "      <th>pos</th>\n",
              "      <th>neg</th>\n",
              "      <th>neutral</th>\n",
              "      <th>pos_norm</th>\n",
              "      <th>neg_norm</th>\n",
              "      <th>neutral_norm</th>\n",
              "      <th>bi_goodfood_text</th>\n",
              "      <th>bi_goodloc_text</th>\n",
              "      <th>bi_bad_text</th>\n",
              "      <th>Delivery</th>\n",
              "      <th>RestaurantsPriceRange2</th>\n",
              "      <th>OutdoorSeating</th>\n",
              "      <th>HasTV</th>\n",
              "      <th>Touristy</th>\n",
              "      <th>Hipster</th>\n",
              "      <th>Romantic</th>\n",
              "      <th>Divey</th>\n",
              "      <th>Intimate</th>\n",
              "      <th>Trendy</th>\n",
              "      <th>Upscale</th>\n",
              "      <th>Classy</th>\n",
              "      <th>Casual</th>\n",
              "      <th>Alc_None_served</th>\n",
              "      <th>Alc_beer_and_wine</th>\n",
              "      <th>Alc_full_bar</th>\n",
              "      <th>open_breakfast</th>\n",
              "      <th>open_lunch</th>\n",
              "      <th>open_dinner</th>\n",
              "      <th>open_hours_meals</th>\n",
              "      <th>displayed_open_hours</th>\n",
              "    </tr>\n",
              "  </thead>\n",
              "  <tbody>\n",
              "    <tr>\n",
              "      <th>0</th>\n",
              "      <td>bRsDZ44CD3uhGnRY3NeQhQ</td>\n",
              "      <td>Wendy's</td>\n",
              "      <td>6247 Mcneil Drive</td>\n",
              "      <td>Austin</td>\n",
              "      <td>TX</td>\n",
              "      <td>78729</td>\n",
              "      <td>30.441875</td>\n",
              "      <td>-97.746581</td>\n",
              "      <td>2.0</td>\n",
              "      <td>1</td>\n",
              "      <td>0</td>\n",
              "      <td>0</td>\n",
              "      <td>0</td>\n",
              "      <td>0</td>\n",
              "      <td>0</td>\n",
              "      <td>0</td>\n",
              "      <td>0</td>\n",
              "      <td>0</td>\n",
              "      <td>0</td>\n",
              "      <td>0</td>\n",
              "      <td>0</td>\n",
              "      <td>0</td>\n",
              "      <td>0</td>\n",
              "      <td>0</td>\n",
              "      <td>0</td>\n",
              "      <td>0</td>\n",
              "      <td>0</td>\n",
              "      <td>1</td>\n",
              "      <td>8</td>\n",
              "      <td>34</td>\n",
              "      <td>4.25</td>\n",
              "      <td>6.0</td>\n",
              "      <td>27.0</td>\n",
              "      <td>1.0</td>\n",
              "      <td>0.75</td>\n",
              "      <td>3.38</td>\n",
              "      <td>0.12</td>\n",
              "      <td>1</td>\n",
              "      <td>2</td>\n",
              "      <td>1</td>\n",
              "      <td>1</td>\n",
              "      <td>1</td>\n",
              "      <td>0</td>\n",
              "      <td>0</td>\n",
              "      <td>0</td>\n",
              "      <td>0</td>\n",
              "      <td>0</td>\n",
              "      <td>0</td>\n",
              "      <td>0</td>\n",
              "      <td>0</td>\n",
              "      <td>0</td>\n",
              "      <td>0</td>\n",
              "      <td>0</td>\n",
              "      <td>1</td>\n",
              "      <td>0</td>\n",
              "      <td>0</td>\n",
              "      <td>1</td>\n",
              "      <td>0</td>\n",
              "      <td>0</td>\n",
              "      <td>1</td>\n",
              "      <td>1</td>\n",
              "    </tr>\n",
              "    <tr>\n",
              "      <th>1</th>\n",
              "      <td>Pk4ZwXwUU50BDn5gqw_rKg</td>\n",
              "      <td>Johnny Carino's</td>\n",
              "      <td>9500 S IH-35 Service Rd</td>\n",
              "      <td>Austin</td>\n",
              "      <td>TX</td>\n",
              "      <td>78748</td>\n",
              "      <td>30.162081</td>\n",
              "      <td>-97.789132</td>\n",
              "      <td>3.0</td>\n",
              "      <td>1</td>\n",
              "      <td>0</td>\n",
              "      <td>0</td>\n",
              "      <td>0</td>\n",
              "      <td>1</td>\n",
              "      <td>0</td>\n",
              "      <td>0</td>\n",
              "      <td>0</td>\n",
              "      <td>0</td>\n",
              "      <td>0</td>\n",
              "      <td>0</td>\n",
              "      <td>0</td>\n",
              "      <td>0</td>\n",
              "      <td>0</td>\n",
              "      <td>0</td>\n",
              "      <td>0</td>\n",
              "      <td>0</td>\n",
              "      <td>0</td>\n",
              "      <td>0</td>\n",
              "      <td>12</td>\n",
              "      <td>68</td>\n",
              "      <td>5.67</td>\n",
              "      <td>25.0</td>\n",
              "      <td>33.0</td>\n",
              "      <td>10.0</td>\n",
              "      <td>2.08</td>\n",
              "      <td>2.75</td>\n",
              "      <td>0.83</td>\n",
              "      <td>16</td>\n",
              "      <td>12</td>\n",
              "      <td>6</td>\n",
              "      <td>1</td>\n",
              "      <td>2</td>\n",
              "      <td>0</td>\n",
              "      <td>0</td>\n",
              "      <td>0</td>\n",
              "      <td>0</td>\n",
              "      <td>0</td>\n",
              "      <td>0</td>\n",
              "      <td>0</td>\n",
              "      <td>0</td>\n",
              "      <td>0</td>\n",
              "      <td>0</td>\n",
              "      <td>1</td>\n",
              "      <td>0</td>\n",
              "      <td>0</td>\n",
              "      <td>1</td>\n",
              "      <td>0</td>\n",
              "      <td>1</td>\n",
              "      <td>1</td>\n",
              "      <td>2</td>\n",
              "      <td>1</td>\n",
              "    </tr>\n",
              "  </tbody>\n",
              "</table>\n",
              "</div>"
            ],
            "text/plain": [
              "              business_id             name                  address    city  \\\n",
              "0  bRsDZ44CD3uhGnRY3NeQhQ          Wendy's        6247 Mcneil Drive  Austin   \n",
              "1  Pk4ZwXwUU50BDn5gqw_rKg  Johnny Carino's  9500 S IH-35 Service Rd  Austin   \n",
              "\n",
              "  state postal_code   latitude  longitude  stars  is_open  operation_years  \\\n",
              "0    TX       78729  30.441875 -97.746581    2.0        1                0   \n",
              "1    TX       78748  30.162081 -97.789132    3.0        1                0   \n",
              "\n",
              "   American  Mexican  Italian  Japanese  Chinese  Thai  Mediterranean  French  \\\n",
              "0         0        0        0         0        0     0              0       0   \n",
              "1         0        0        1         0        0     0              0       0   \n",
              "\n",
              "   Vietnamese  Greek  Indian  Korean  Hawaiian  African  Spanish  \\\n",
              "0           0      0       0       0         0        0        0   \n",
              "1           0      0       0       0         0        0        0   \n",
              "\n",
              "   Middle_eastern  Other  age  review_count_16_19  review_normalized   pos  \\\n",
              "0               0      1    8                  34               4.25   6.0   \n",
              "1               0      0   12                  68               5.67  25.0   \n",
              "\n",
              "    neg  neutral  pos_norm  neg_norm  neutral_norm  bi_goodfood_text  \\\n",
              "0  27.0      1.0      0.75      3.38          0.12                 1   \n",
              "1  33.0     10.0      2.08      2.75          0.83                16   \n",
              "\n",
              "   bi_goodloc_text  bi_bad_text  Delivery  RestaurantsPriceRange2  \\\n",
              "0                2            1         1                       1   \n",
              "1               12            6         1                       2   \n",
              "\n",
              "   OutdoorSeating  HasTV  Touristy  Hipster  Romantic  Divey  Intimate  \\\n",
              "0               0      0         0        0         0      0         0   \n",
              "1               0      0         0        0         0      0         0   \n",
              "\n",
              "   Trendy  Upscale  Classy  Casual  Alc_None_served  Alc_beer_and_wine  \\\n",
              "0       0        0       0       0                1                  0   \n",
              "1       0        0       0       1                0                  0   \n",
              "\n",
              "   Alc_full_bar  open_breakfast  open_lunch  open_dinner  open_hours_meals  \\\n",
              "0             0               1           0            0                 1   \n",
              "1             1               0           1            1                 2   \n",
              "\n",
              "   displayed_open_hours  \n",
              "0                     1  \n",
              "1                     1  "
            ]
          },
          "metadata": {
            "tags": []
          },
          "execution_count": 48
        }
      ]
    },
    {
      "cell_type": "markdown",
      "metadata": {
        "id": "pcVtd8JdwhXT"
      },
      "source": [
        "#### Saving dataset:"
      ]
    },
    {
      "cell_type": "code",
      "metadata": {
        "id": "rHgzd5fiPQ7E"
      },
      "source": [
        "attr_df.to_csv('attributes_df.csv')"
      ],
      "execution_count": null,
      "outputs": []
    },
    {
      "cell_type": "markdown",
      "metadata": {
        "id": "H2OjOBYs-_W7"
      },
      "source": [
        ""
      ]
    },
    {
      "cell_type": "markdown",
      "metadata": {
        "id": "_8lX9s_t-_dv"
      },
      "source": [
        "#### Plot of attributes vs closure:"
      ]
    },
    {
      "cell_type": "markdown",
      "metadata": {
        "id": "_H_FI9m4wwgo"
      },
      "source": [
        "Ambience:"
      ]
    },
    {
      "cell_type": "code",
      "metadata": {
        "id": "PshYpxX8_TH7"
      },
      "source": [
        "size_of_attr= {'Touristy': attr_df.groupby('Touristy').size()[1], 'Hipster': attr_df.groupby('Hipster').size()[1], 'Romantic': attr_df.groupby('Romantic').size()[1] , \n",
        "    'Divey': attr_df.groupby('Divey').size()[1] ,  'Intimate': attr_df.groupby('Intimate').size()[1] , 'Trendy': attr_df.groupby('Trendy').size()[1] , \n",
        "   'Upscale': attr_df.groupby('Upscale').size()[1] , 'Classy': attr_df.groupby('Classy').size()[1] , 'Casual': attr_df.groupby('Casual').size()[1] }"
      ],
      "execution_count": null,
      "outputs": []
    },
    {
      "cell_type": "code",
      "metadata": {
        "id": "daYhbSi0_cur",
        "colab": {
          "base_uri": "https://localhost:8080/",
          "height": 407
        },
        "outputId": "99a269ab-c598-4032-e469-19706713424a"
      },
      "source": [
        "names = list(size_of_attr.keys())\n",
        "values = list(size_of_attr.values())\n",
        "plt.gcf().set_size_inches(15, 6)\n",
        "plt.bar(range(len(size_of_attr)), values, tick_label= names)\n",
        "\n",
        "plt.title('Distribution of ambience of restaurants')"
      ],
      "execution_count": null,
      "outputs": [
        {
          "output_type": "execute_result",
          "data": {
            "text/plain": [
              "Text(0.5, 1.0, 'Distribution of ambience of restaurants')"
            ]
          },
          "metadata": {
            "tags": []
          },
          "execution_count": 50
        },
        {
          "output_type": "display_data",
          "data": {
            "image/png": "[encoded data removed]",
            "text/plain": [
              "<Figure size 1080x432 with 1 Axes>"
            ]
          },
          "metadata": {
            "tags": [],
            "needs_background": "light"
          }
        }
      ]
    },
    {
      "cell_type": "code",
      "metadata": {
        "id": "aEHcNcJfD8k7"
      },
      "source": [
        "cols= ['Touristy',  'Hipster',  'Romantic',  'Divey',  'Intimate',  'Trendy',  'Upscale',  'Classy',  'Casual' ]"
      ],
      "execution_count": null,
      "outputs": []
    },
    {
      "cell_type": "code",
      "metadata": {
        "id": "u7zLAO6wHv2Y"
      },
      "source": [
        "def ambience_open_val_counts(column):\n",
        "    f= attr_df.groupby([column, 'is_open']).size()[1]\n",
        "    ind= f.index\n",
        "    val_cnt_dict={}\n",
        "    for i,v in enumerate(f):\n",
        "        if i == 0:\n",
        "            i='close'\n",
        "        else:\n",
        "            i='open'\n",
        "        val_cnt_dict[i] = v\n",
        "\n",
        "    return val_cnt_dict"
      ],
      "execution_count": null,
      "outputs": []
    },
    {
      "cell_type": "code",
      "metadata": {
        "id": "6gxWwKQmIQ8z"
      },
      "source": [
        "dict_val_count={}\n",
        "for i in cols:\n",
        "    val_cnt_dict= ambience_open_val_counts(i)\n",
        "    dict_val_count[i]= (val_cnt_dict)"
      ],
      "execution_count": null,
      "outputs": []
    },
    {
      "cell_type": "code",
      "metadata": {
        "colab": {
          "base_uri": "https://localhost:8080/",
          "height": 444
        },
        "id": "U0uZoNdJ071D",
        "outputId": "394b1964-3f26-4873-f708-98cb7c6c5d6a"
      },
      "source": [
        "N = 9\n",
        "open= (dict_val_count['Casual']['open'] , dict_val_count['Classy']['open'], dict_val_count['Divey']['open'], dict_val_count['Hipster']['open'], dict_val_count['Intimate']['open'], dict_val_count['Romantic']['open'], dict_val_count['Touristy']['open'], dict_val_count['Trendy']['open'], dict_val_count['Upscale']['open'])\n",
        "close= (dict_val_count['Casual']['close'] , dict_val_count['Classy']['close'], dict_val_count['Divey']['close'], dict_val_count['Hipster']['close'], dict_val_count['Intimate']['close'], dict_val_count['Romantic']['close'], dict_val_count['Touristy']['close'], dict_val_count['Trendy']['close'], dict_val_count['Upscale']['close'])\n",
        "\n",
        "ind = np.arange(N)  \n",
        "width = 0.35 \n",
        " \n",
        "fig = plt.subplots(figsize =(10, 7))\n",
        "p1 = plt.bar(ind, open, width ) #, yerr = boyStd)\n",
        "p2 = plt.bar(ind, close, width, bottom = open ) #, yerr = girlStd)\n",
        " \n",
        "plt.ylabel('Contribution')\n",
        "plt.title('Ambience vs Closure')\n",
        "plt.xticks(ind, ('Casual', 'Classy', 'Divey', 'Hipster', 'Intimate', 'Romantic', 'Touristy', 'Trendy', 'Upscale'))\n",
        "plt.legend((p1[0], p2[0]), ('open', 'close'))\n",
        " \n",
        "plt.show()"
      ],
      "execution_count": null,
      "outputs": [
        {
          "output_type": "display_data",
          "data": {
            "image/png": "[encoded data removed]",
            "text/plain": [
              "<Figure size 720x504 with 1 Axes>"
            ]
          },
          "metadata": {
            "tags": [],
            "needs_background": "light"
          }
        }
      ]
    },
    {
      "cell_type": "markdown",
      "metadata": {
        "id": "MSyZ7BPy7GtF"
      },
      "source": [
        "Price Range vs Closure:"
      ]
    },
    {
      "cell_type": "code",
      "metadata": {
        "id": "vumZFlWD41Jf"
      },
      "source": [
        "dict_val_count={}\n",
        "for j in [1,2,3,4]:\n",
        "    price_df= attr_df[attr_df['RestaurantsPriceRange2']==j]\n",
        "    f= price_df.groupby(['is_open']).size()\n",
        "    ind= f.index\n",
        "    val_cnt_dict={}\n",
        "    for i,v in enumerate(f):\n",
        "        if i == 0:\n",
        "            i='close'\n",
        "        else:\n",
        "            i='open'\n",
        "        val_cnt_dict[i] = v\n",
        "    dict_val_count[j]= (val_cnt_dict)"
      ],
      "execution_count": null,
      "outputs": []
    },
    {
      "cell_type": "code",
      "metadata": {
        "id": "pKwaFzUXLrFA",
        "colab": {
          "base_uri": "https://localhost:8080/",
          "height": 444
        },
        "outputId": "f36b020a-6bdf-4511-cb99-92f6f1e84621"
      },
      "source": [
        "#plot bar plot\n",
        "\n",
        "N = 4\n",
        "open= (dict_val_count[1]['open'], dict_val_count[2]['open'], dict_val_count[3]['open'], dict_val_count[4]['open'])\n",
        "close= (dict_val_count[1]['close'], dict_val_count[2]['close'], dict_val_count[3]['close'], dict_val_count[4]['close'])\n",
        "\n",
        "ind = np.arange(N)  \n",
        "width = 0.35 \n",
        " \n",
        "fig = plt.subplots(figsize =(10, 7))\n",
        "p1 = plt.bar(ind, open, width ) #, yerr = boyStd)\n",
        "p2 = plt.bar(ind, close, width, bottom = open ) #, yerr = girlStd)\n",
        " \n",
        "plt.ylabel('Contribution')\n",
        "plt.title('Price Range vs Closure')\n",
        "plt.xticks(ind, ('1', '2', '3', '4'))\n",
        "plt.legend((p1[0], p2[0]), ('open', 'close'))\n",
        " \n",
        "plt.show()"
      ],
      "execution_count": null,
      "outputs": [
        {
          "output_type": "display_data",
          "data": {
            "image/png": "[encoded data removed]",
            "text/plain": [
              "<Figure size 720x504 with 1 Axes>"
            ]
          },
          "metadata": {
            "tags": [],
            "needs_background": "light"
          }
        }
      ]
    }
  ]
}