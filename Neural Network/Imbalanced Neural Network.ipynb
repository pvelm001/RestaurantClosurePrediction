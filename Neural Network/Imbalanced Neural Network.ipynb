{
  "nbformat": 4,
  "nbformat_minor": 0,
  "metadata": {
    "accelerator": "GPU",
    "colab": {
      "name": "Yelp_model_training_imbalanced.ipynb",
      "provenance": [],
      "collapsed_sections": []
    },
    "kernelspec": {
      "display_name": "Python 3",
      "name": "python3"
    },
    "language_info": {
      "name": "python"
    }
  },
  "cells": [
    {
      "cell_type": "code",
      "metadata": {
        "colab": {
          "base_uri": "https://localhost:8080/"
        },
        "id": "OUAMQvmK9vJd",
        "outputId": "ce2219e6-2427-4ab6-cf03-d146da85a9b6"
      },
      "source": [
        "from google.colab import drive\n",
        "drive.mount('/content/drive')"
      ],
      "execution_count": 1,
      "outputs": [
        {
          "output_type": "stream",
          "text": [
            "Mounted at /content/drive\n"
          ],
          "name": "stdout"
        }
      ]
    },
    {
      "cell_type": "code",
      "metadata": {
        "id": "RHSGaSlq_wnw"
      },
      "source": [
        "from matplotlib import pyplot as plt\n",
        "import re,string\n",
        "from datetime import datetime as dt\n",
        "import seaborn as sns\n",
        "import numpy as np \n",
        "import pandas as pd \n",
        "pd.set_option('display.max_columns', None)\n",
        "pd.set_option('display.max_rows', None)\n",
        "from sklearn.metrics import accuracy_score\n",
        "from sklearn.metrics import precision_score\n",
        "from sklearn.metrics import recall_score\n",
        "from sklearn.metrics import f1_score\n",
        "from sklearn.model_selection import train_test_split\n",
        "from sklearn.metrics import confusion_matrix\n",
        "from sklearn.metrics import roc_curve\n",
        "import random\n",
        "from keras.models import Sequential\n",
        "from keras.layers import Dense\n",
        "import tensorflow as tf\n",
        "from keras.optimizers import Adam\n",
        "from keras.callbacks import ModelCheckpoint, LearningRateScheduler\n",
        "from keras.callbacks import ReduceLROnPlateau\n",
        "from keras.layers import Dropout\n",
        "from sklearn.preprocessing import StandardScaler\n",
        "from sklearn.model_selection import StratifiedKFold, KFold"
      ],
      "execution_count": 2,
      "outputs": []
    },
    {
      "cell_type": "code",
      "metadata": {
        "id": "sKop0bvI_zy2"
      },
      "source": [
        "final_rest_df= pd.read_csv('/content/drive/MyDrive/datasets/Dataset_latest.csv')"
      ],
      "execution_count": 3,
      "outputs": []
    },
    {
      "cell_type": "code",
      "metadata": {
        "colab": {
          "base_uri": "https://localhost:8080/",
          "height": 243
        },
        "id": "344OSnDu59kK",
        "outputId": "459a0c76-15f3-4eb1-cbfd-35c3f22b9a1d"
      },
      "source": [
        "final_rest_df.head(5)"
      ],
      "execution_count": null,
      "outputs": [
        {
          "output_type": "execute_result",
          "data": {
            "text/html": [
              "<div>\n",
              "<style scoped>\n",
              "    .dataframe tbody tr th:only-of-type {\n",
              "        vertical-align: middle;\n",
              "    }\n",
              "\n",
              "    .dataframe tbody tr th {\n",
              "        vertical-align: top;\n",
              "    }\n",
              "\n",
              "    .dataframe thead th {\n",
              "        text-align: right;\n",
              "    }\n",
              "</style>\n",
              "<table border=\"1\" class=\"dataframe\">\n",
              "  <thead>\n",
              "    <tr style=\"text-align: right;\">\n",
              "      <th></th>\n",
              "      <th>stars</th>\n",
              "      <th>American</th>\n",
              "      <th>Mexican</th>\n",
              "      <th>Italian</th>\n",
              "      <th>Japanese</th>\n",
              "      <th>Chinese</th>\n",
              "      <th>Thai</th>\n",
              "      <th>Mediterranean</th>\n",
              "      <th>French</th>\n",
              "      <th>Vietnamese</th>\n",
              "      <th>Greek</th>\n",
              "      <th>Indian</th>\n",
              "      <th>Korean</th>\n",
              "      <th>Hawaiian</th>\n",
              "      <th>African</th>\n",
              "      <th>Spanish</th>\n",
              "      <th>Middle Eastern</th>\n",
              "      <th>Other</th>\n",
              "      <th>age</th>\n",
              "      <th>review_count_16_19</th>\n",
              "      <th>review_normalized</th>\n",
              "      <th>pos</th>\n",
              "      <th>neg</th>\n",
              "      <th>neutral</th>\n",
              "      <th>pos_norm</th>\n",
              "      <th>neg_norm</th>\n",
              "      <th>neutral_norm</th>\n",
              "      <th>bi_goodfood_text</th>\n",
              "      <th>bi_goodloc_text</th>\n",
              "      <th>bi_bad_text</th>\n",
              "      <th>Delivery</th>\n",
              "      <th>RestaurantsPriceRange2</th>\n",
              "      <th>OutdoorSeating</th>\n",
              "      <th>HasTV</th>\n",
              "      <th>Touristy</th>\n",
              "      <th>Hipster</th>\n",
              "      <th>Romantic</th>\n",
              "      <th>Divey</th>\n",
              "      <th>Intimate</th>\n",
              "      <th>Trendy</th>\n",
              "      <th>Upscale</th>\n",
              "      <th>Classy</th>\n",
              "      <th>Casual</th>\n",
              "      <th>Alc_None_served</th>\n",
              "      <th>Alc_beer_and_wine</th>\n",
              "      <th>Alc_full_bar</th>\n",
              "      <th>open_breakfast</th>\n",
              "      <th>open_lunch</th>\n",
              "      <th>open_dinner</th>\n",
              "      <th>open_hours_meals</th>\n",
              "      <th>displayed_open_hours</th>\n",
              "      <th>is_crowded</th>\n",
              "      <th>is_chain</th>\n",
              "      <th>is_open</th>\n",
              "      <th>operation_years</th>\n",
              "    </tr>\n",
              "  </thead>\n",
              "  <tbody>\n",
              "    <tr>\n",
              "      <th>0</th>\n",
              "      <td>4.0</td>\n",
              "      <td>0</td>\n",
              "      <td>0</td>\n",
              "      <td>0</td>\n",
              "      <td>0</td>\n",
              "      <td>0</td>\n",
              "      <td>0</td>\n",
              "      <td>1</td>\n",
              "      <td>0</td>\n",
              "      <td>0</td>\n",
              "      <td>0</td>\n",
              "      <td>0</td>\n",
              "      <td>0</td>\n",
              "      <td>0</td>\n",
              "      <td>0</td>\n",
              "      <td>1</td>\n",
              "      <td>0</td>\n",
              "      <td>0</td>\n",
              "      <td>3</td>\n",
              "      <td>34</td>\n",
              "      <td>11.33</td>\n",
              "      <td>23</td>\n",
              "      <td>5</td>\n",
              "      <td>6</td>\n",
              "      <td>7.67</td>\n",
              "      <td>1.67</td>\n",
              "      <td>2.00</td>\n",
              "      <td>0</td>\n",
              "      <td>4</td>\n",
              "      <td>1</td>\n",
              "      <td>1</td>\n",
              "      <td>2</td>\n",
              "      <td>1</td>\n",
              "      <td>1</td>\n",
              "      <td>0</td>\n",
              "      <td>0</td>\n",
              "      <td>0</td>\n",
              "      <td>0</td>\n",
              "      <td>0</td>\n",
              "      <td>0</td>\n",
              "      <td>0</td>\n",
              "      <td>0</td>\n",
              "      <td>1</td>\n",
              "      <td>0</td>\n",
              "      <td>1</td>\n",
              "      <td>0</td>\n",
              "      <td>0</td>\n",
              "      <td>1</td>\n",
              "      <td>1</td>\n",
              "      <td>2</td>\n",
              "      <td>1</td>\n",
              "      <td>1</td>\n",
              "      <td>0</td>\n",
              "      <td>0</td>\n",
              "      <td>1</td>\n",
              "    </tr>\n",
              "    <tr>\n",
              "      <th>1</th>\n",
              "      <td>3.5</td>\n",
              "      <td>0</td>\n",
              "      <td>0</td>\n",
              "      <td>0</td>\n",
              "      <td>0</td>\n",
              "      <td>0</td>\n",
              "      <td>0</td>\n",
              "      <td>0</td>\n",
              "      <td>0</td>\n",
              "      <td>0</td>\n",
              "      <td>0</td>\n",
              "      <td>0</td>\n",
              "      <td>0</td>\n",
              "      <td>0</td>\n",
              "      <td>0</td>\n",
              "      <td>0</td>\n",
              "      <td>0</td>\n",
              "      <td>1</td>\n",
              "      <td>10</td>\n",
              "      <td>5</td>\n",
              "      <td>0.50</td>\n",
              "      <td>4</td>\n",
              "      <td>1</td>\n",
              "      <td>0</td>\n",
              "      <td>0.40</td>\n",
              "      <td>0.10</td>\n",
              "      <td>0.00</td>\n",
              "      <td>2</td>\n",
              "      <td>0</td>\n",
              "      <td>0</td>\n",
              "      <td>0</td>\n",
              "      <td>2</td>\n",
              "      <td>1</td>\n",
              "      <td>1</td>\n",
              "      <td>0</td>\n",
              "      <td>0</td>\n",
              "      <td>0</td>\n",
              "      <td>0</td>\n",
              "      <td>0</td>\n",
              "      <td>0</td>\n",
              "      <td>0</td>\n",
              "      <td>0</td>\n",
              "      <td>0</td>\n",
              "      <td>0</td>\n",
              "      <td>0</td>\n",
              "      <td>1</td>\n",
              "      <td>0</td>\n",
              "      <td>0</td>\n",
              "      <td>0</td>\n",
              "      <td>0</td>\n",
              "      <td>0</td>\n",
              "      <td>1</td>\n",
              "      <td>0</td>\n",
              "      <td>0</td>\n",
              "      <td>3</td>\n",
              "    </tr>\n",
              "    <tr>\n",
              "      <th>2</th>\n",
              "      <td>4.0</td>\n",
              "      <td>1</td>\n",
              "      <td>0</td>\n",
              "      <td>0</td>\n",
              "      <td>0</td>\n",
              "      <td>0</td>\n",
              "      <td>0</td>\n",
              "      <td>0</td>\n",
              "      <td>0</td>\n",
              "      <td>0</td>\n",
              "      <td>0</td>\n",
              "      <td>0</td>\n",
              "      <td>0</td>\n",
              "      <td>0</td>\n",
              "      <td>0</td>\n",
              "      <td>0</td>\n",
              "      <td>0</td>\n",
              "      <td>0</td>\n",
              "      <td>5</td>\n",
              "      <td>74</td>\n",
              "      <td>14.80</td>\n",
              "      <td>53</td>\n",
              "      <td>14</td>\n",
              "      <td>7</td>\n",
              "      <td>10.60</td>\n",
              "      <td>2.80</td>\n",
              "      <td>1.40</td>\n",
              "      <td>6</td>\n",
              "      <td>3</td>\n",
              "      <td>2</td>\n",
              "      <td>1</td>\n",
              "      <td>2</td>\n",
              "      <td>1</td>\n",
              "      <td>1</td>\n",
              "      <td>0</td>\n",
              "      <td>0</td>\n",
              "      <td>0</td>\n",
              "      <td>1</td>\n",
              "      <td>0</td>\n",
              "      <td>0</td>\n",
              "      <td>0</td>\n",
              "      <td>0</td>\n",
              "      <td>1</td>\n",
              "      <td>0</td>\n",
              "      <td>0</td>\n",
              "      <td>1</td>\n",
              "      <td>1</td>\n",
              "      <td>1</td>\n",
              "      <td>1</td>\n",
              "      <td>3</td>\n",
              "      <td>1</td>\n",
              "      <td>1</td>\n",
              "      <td>0</td>\n",
              "      <td>1</td>\n",
              "      <td>0</td>\n",
              "    </tr>\n",
              "    <tr>\n",
              "      <th>3</th>\n",
              "      <td>4.0</td>\n",
              "      <td>1</td>\n",
              "      <td>0</td>\n",
              "      <td>0</td>\n",
              "      <td>0</td>\n",
              "      <td>0</td>\n",
              "      <td>0</td>\n",
              "      <td>0</td>\n",
              "      <td>0</td>\n",
              "      <td>0</td>\n",
              "      <td>0</td>\n",
              "      <td>0</td>\n",
              "      <td>0</td>\n",
              "      <td>0</td>\n",
              "      <td>0</td>\n",
              "      <td>0</td>\n",
              "      <td>0</td>\n",
              "      <td>0</td>\n",
              "      <td>15</td>\n",
              "      <td>216</td>\n",
              "      <td>14.40</td>\n",
              "      <td>163</td>\n",
              "      <td>33</td>\n",
              "      <td>20</td>\n",
              "      <td>10.87</td>\n",
              "      <td>2.20</td>\n",
              "      <td>1.33</td>\n",
              "      <td>30</td>\n",
              "      <td>34</td>\n",
              "      <td>12</td>\n",
              "      <td>0</td>\n",
              "      <td>2</td>\n",
              "      <td>0</td>\n",
              "      <td>0</td>\n",
              "      <td>0</td>\n",
              "      <td>0</td>\n",
              "      <td>0</td>\n",
              "      <td>0</td>\n",
              "      <td>0</td>\n",
              "      <td>0</td>\n",
              "      <td>0</td>\n",
              "      <td>1</td>\n",
              "      <td>0</td>\n",
              "      <td>0</td>\n",
              "      <td>0</td>\n",
              "      <td>1</td>\n",
              "      <td>1</td>\n",
              "      <td>1</td>\n",
              "      <td>0</td>\n",
              "      <td>2</td>\n",
              "      <td>1</td>\n",
              "      <td>1</td>\n",
              "      <td>0</td>\n",
              "      <td>1</td>\n",
              "      <td>0</td>\n",
              "    </tr>\n",
              "    <tr>\n",
              "      <th>4</th>\n",
              "      <td>4.5</td>\n",
              "      <td>0</td>\n",
              "      <td>0</td>\n",
              "      <td>0</td>\n",
              "      <td>0</td>\n",
              "      <td>0</td>\n",
              "      <td>0</td>\n",
              "      <td>1</td>\n",
              "      <td>0</td>\n",
              "      <td>0</td>\n",
              "      <td>0</td>\n",
              "      <td>0</td>\n",
              "      <td>0</td>\n",
              "      <td>0</td>\n",
              "      <td>0</td>\n",
              "      <td>0</td>\n",
              "      <td>0</td>\n",
              "      <td>0</td>\n",
              "      <td>4</td>\n",
              "      <td>14</td>\n",
              "      <td>3.50</td>\n",
              "      <td>13</td>\n",
              "      <td>1</td>\n",
              "      <td>0</td>\n",
              "      <td>3.25</td>\n",
              "      <td>0.25</td>\n",
              "      <td>0.00</td>\n",
              "      <td>4</td>\n",
              "      <td>1</td>\n",
              "      <td>1</td>\n",
              "      <td>1</td>\n",
              "      <td>1</td>\n",
              "      <td>0</td>\n",
              "      <td>0</td>\n",
              "      <td>0</td>\n",
              "      <td>0</td>\n",
              "      <td>0</td>\n",
              "      <td>0</td>\n",
              "      <td>0</td>\n",
              "      <td>0</td>\n",
              "      <td>0</td>\n",
              "      <td>0</td>\n",
              "      <td>0</td>\n",
              "      <td>1</td>\n",
              "      <td>0</td>\n",
              "      <td>0</td>\n",
              "      <td>0</td>\n",
              "      <td>0</td>\n",
              "      <td>1</td>\n",
              "      <td>1</td>\n",
              "      <td>1</td>\n",
              "      <td>1</td>\n",
              "      <td>0</td>\n",
              "      <td>0</td>\n",
              "      <td>3</td>\n",
              "    </tr>\n",
              "  </tbody>\n",
              "</table>\n",
              "</div>"
            ],
            "text/plain": [
              "   stars  American  Mexican  Italian  Japanese  Chinese  Thai  Mediterranean  \\\n",
              "0    4.0         0        0        0         0        0     0              1   \n",
              "1    3.5         0        0        0         0        0     0              0   \n",
              "2    4.0         1        0        0         0        0     0              0   \n",
              "3    4.0         1        0        0         0        0     0              0   \n",
              "4    4.5         0        0        0         0        0     0              1   \n",
              "\n",
              "   French  Vietnamese  Greek  Indian  Korean  Hawaiian  African  Spanish  \\\n",
              "0       0           0      0       0       0         0        0        1   \n",
              "1       0           0      0       0       0         0        0        0   \n",
              "2       0           0      0       0       0         0        0        0   \n",
              "3       0           0      0       0       0         0        0        0   \n",
              "4       0           0      0       0       0         0        0        0   \n",
              "\n",
              "   Middle Eastern  Other  age  review_count_16_19  review_normalized  pos  \\\n",
              "0               0      0    3                  34              11.33   23   \n",
              "1               0      1   10                   5               0.50    4   \n",
              "2               0      0    5                  74              14.80   53   \n",
              "3               0      0   15                 216              14.40  163   \n",
              "4               0      0    4                  14               3.50   13   \n",
              "\n",
              "   neg  neutral  pos_norm  neg_norm  neutral_norm  bi_goodfood_text  \\\n",
              "0    5        6      7.67      1.67          2.00                 0   \n",
              "1    1        0      0.40      0.10          0.00                 2   \n",
              "2   14        7     10.60      2.80          1.40                 6   \n",
              "3   33       20     10.87      2.20          1.33                30   \n",
              "4    1        0      3.25      0.25          0.00                 4   \n",
              "\n",
              "   bi_goodloc_text  bi_bad_text  Delivery  RestaurantsPriceRange2  \\\n",
              "0                4            1         1                       2   \n",
              "1                0            0         0                       2   \n",
              "2                3            2         1                       2   \n",
              "3               34           12         0                       2   \n",
              "4                1            1         1                       1   \n",
              "\n",
              "   OutdoorSeating  HasTV  Touristy  Hipster  Romantic  Divey  Intimate  \\\n",
              "0               1      1         0        0         0      0         0   \n",
              "1               1      1         0        0         0      0         0   \n",
              "2               1      1         0        0         0      1         0   \n",
              "3               0      0         0        0         0      0         0   \n",
              "4               0      0         0        0         0      0         0   \n",
              "\n",
              "   Trendy  Upscale  Classy  Casual  Alc_None_served  Alc_beer_and_wine  \\\n",
              "0       0        0       0       1                0                  1   \n",
              "1       0        0       0       0                0                  0   \n",
              "2       0        0       0       1                0                  0   \n",
              "3       0        0       1       0                0                  0   \n",
              "4       0        0       0       0                1                  0   \n",
              "\n",
              "   Alc_full_bar  open_breakfast  open_lunch  open_dinner  open_hours_meals  \\\n",
              "0             0               0           1            1                 2   \n",
              "1             1               0           0            0                 0   \n",
              "2             1               1           1            1                 3   \n",
              "3             1               1           1            0                 2   \n",
              "4             0               0           0            1                 1   \n",
              "\n",
              "   displayed_open_hours  is_crowded  is_chain  is_open  operation_years  \n",
              "0                     1           1         0        0                1  \n",
              "1                     0           1         0        0                3  \n",
              "2                     1           1         0        1                0  \n",
              "3                     1           1         0        1                0  \n",
              "4                     1           1         0        0                3  "
            ]
          },
          "metadata": {
            "tags": []
          },
          "execution_count": 4
        }
      ]
    },
    {
      "cell_type": "markdown",
      "metadata": {
        "id": "7LFq6fP7QS7c"
      },
      "source": [
        "Dropped age and operation years column as there was data leakage to target variable. And the normalized variables were dropped as the inuition for creating this variable considering the age parameter was not entirely justified. "
      ]
    },
    {
      "cell_type": "code",
      "metadata": {
        "id": "L-6opFsW6ESd"
      },
      "source": [
        "drop_cols= ['age', 'review_normalized', 'pos_norm', 'neg_norm', 'neutral_norm', 'operation_years']"
      ],
      "execution_count": 4,
      "outputs": []
    },
    {
      "cell_type": "code",
      "metadata": {
        "id": "73Z-rNpL6P4i"
      },
      "source": [
        "df= final_rest_df.drop(drop_cols, axis=1)"
      ],
      "execution_count": 5,
      "outputs": []
    },
    {
      "cell_type": "code",
      "metadata": {
        "colab": {
          "base_uri": "https://localhost:8080/",
          "height": 180
        },
        "id": "dEI14xFF6T-S",
        "outputId": "fced55f5-3c7b-4e24-af76-a7b278ba1abd"
      },
      "source": [
        "df.head(3)"
      ],
      "execution_count": null,
      "outputs": [
        {
          "output_type": "execute_result",
          "data": {
            "text/html": [
              "<div>\n",
              "<style scoped>\n",
              "    .dataframe tbody tr th:only-of-type {\n",
              "        vertical-align: middle;\n",
              "    }\n",
              "\n",
              "    .dataframe tbody tr th {\n",
              "        vertical-align: top;\n",
              "    }\n",
              "\n",
              "    .dataframe thead th {\n",
              "        text-align: right;\n",
              "    }\n",
              "</style>\n",
              "<table border=\"1\" class=\"dataframe\">\n",
              "  <thead>\n",
              "    <tr style=\"text-align: right;\">\n",
              "      <th></th>\n",
              "      <th>stars</th>\n",
              "      <th>American</th>\n",
              "      <th>Mexican</th>\n",
              "      <th>Italian</th>\n",
              "      <th>Japanese</th>\n",
              "      <th>Chinese</th>\n",
              "      <th>Thai</th>\n",
              "      <th>Mediterranean</th>\n",
              "      <th>French</th>\n",
              "      <th>Vietnamese</th>\n",
              "      <th>Greek</th>\n",
              "      <th>Indian</th>\n",
              "      <th>Korean</th>\n",
              "      <th>Hawaiian</th>\n",
              "      <th>African</th>\n",
              "      <th>Spanish</th>\n",
              "      <th>Middle Eastern</th>\n",
              "      <th>Other</th>\n",
              "      <th>review_count_16_19</th>\n",
              "      <th>pos</th>\n",
              "      <th>neg</th>\n",
              "      <th>neutral</th>\n",
              "      <th>bi_goodfood_text</th>\n",
              "      <th>bi_goodloc_text</th>\n",
              "      <th>bi_bad_text</th>\n",
              "      <th>Delivery</th>\n",
              "      <th>RestaurantsPriceRange2</th>\n",
              "      <th>OutdoorSeating</th>\n",
              "      <th>HasTV</th>\n",
              "      <th>Touristy</th>\n",
              "      <th>Hipster</th>\n",
              "      <th>Romantic</th>\n",
              "      <th>Divey</th>\n",
              "      <th>Intimate</th>\n",
              "      <th>Trendy</th>\n",
              "      <th>Upscale</th>\n",
              "      <th>Classy</th>\n",
              "      <th>Casual</th>\n",
              "      <th>Alc_None_served</th>\n",
              "      <th>Alc_beer_and_wine</th>\n",
              "      <th>Alc_full_bar</th>\n",
              "      <th>open_breakfast</th>\n",
              "      <th>open_lunch</th>\n",
              "      <th>open_dinner</th>\n",
              "      <th>open_hours_meals</th>\n",
              "      <th>displayed_open_hours</th>\n",
              "      <th>is_crowded</th>\n",
              "      <th>is_chain</th>\n",
              "      <th>is_open</th>\n",
              "    </tr>\n",
              "  </thead>\n",
              "  <tbody>\n",
              "    <tr>\n",
              "      <th>0</th>\n",
              "      <td>4.0</td>\n",
              "      <td>0</td>\n",
              "      <td>0</td>\n",
              "      <td>0</td>\n",
              "      <td>0</td>\n",
              "      <td>0</td>\n",
              "      <td>0</td>\n",
              "      <td>1</td>\n",
              "      <td>0</td>\n",
              "      <td>0</td>\n",
              "      <td>0</td>\n",
              "      <td>0</td>\n",
              "      <td>0</td>\n",
              "      <td>0</td>\n",
              "      <td>0</td>\n",
              "      <td>1</td>\n",
              "      <td>0</td>\n",
              "      <td>0</td>\n",
              "      <td>34</td>\n",
              "      <td>23</td>\n",
              "      <td>5</td>\n",
              "      <td>6</td>\n",
              "      <td>0</td>\n",
              "      <td>4</td>\n",
              "      <td>1</td>\n",
              "      <td>1</td>\n",
              "      <td>2</td>\n",
              "      <td>1</td>\n",
              "      <td>1</td>\n",
              "      <td>0</td>\n",
              "      <td>0</td>\n",
              "      <td>0</td>\n",
              "      <td>0</td>\n",
              "      <td>0</td>\n",
              "      <td>0</td>\n",
              "      <td>0</td>\n",
              "      <td>0</td>\n",
              "      <td>1</td>\n",
              "      <td>0</td>\n",
              "      <td>1</td>\n",
              "      <td>0</td>\n",
              "      <td>0</td>\n",
              "      <td>1</td>\n",
              "      <td>1</td>\n",
              "      <td>2</td>\n",
              "      <td>1</td>\n",
              "      <td>1</td>\n",
              "      <td>0</td>\n",
              "      <td>0</td>\n",
              "    </tr>\n",
              "    <tr>\n",
              "      <th>1</th>\n",
              "      <td>3.5</td>\n",
              "      <td>0</td>\n",
              "      <td>0</td>\n",
              "      <td>0</td>\n",
              "      <td>0</td>\n",
              "      <td>0</td>\n",
              "      <td>0</td>\n",
              "      <td>0</td>\n",
              "      <td>0</td>\n",
              "      <td>0</td>\n",
              "      <td>0</td>\n",
              "      <td>0</td>\n",
              "      <td>0</td>\n",
              "      <td>0</td>\n",
              "      <td>0</td>\n",
              "      <td>0</td>\n",
              "      <td>0</td>\n",
              "      <td>1</td>\n",
              "      <td>5</td>\n",
              "      <td>4</td>\n",
              "      <td>1</td>\n",
              "      <td>0</td>\n",
              "      <td>2</td>\n",
              "      <td>0</td>\n",
              "      <td>0</td>\n",
              "      <td>0</td>\n",
              "      <td>2</td>\n",
              "      <td>1</td>\n",
              "      <td>1</td>\n",
              "      <td>0</td>\n",
              "      <td>0</td>\n",
              "      <td>0</td>\n",
              "      <td>0</td>\n",
              "      <td>0</td>\n",
              "      <td>0</td>\n",
              "      <td>0</td>\n",
              "      <td>0</td>\n",
              "      <td>0</td>\n",
              "      <td>0</td>\n",
              "      <td>0</td>\n",
              "      <td>1</td>\n",
              "      <td>0</td>\n",
              "      <td>0</td>\n",
              "      <td>0</td>\n",
              "      <td>0</td>\n",
              "      <td>0</td>\n",
              "      <td>1</td>\n",
              "      <td>0</td>\n",
              "      <td>0</td>\n",
              "    </tr>\n",
              "    <tr>\n",
              "      <th>2</th>\n",
              "      <td>4.0</td>\n",
              "      <td>1</td>\n",
              "      <td>0</td>\n",
              "      <td>0</td>\n",
              "      <td>0</td>\n",
              "      <td>0</td>\n",
              "      <td>0</td>\n",
              "      <td>0</td>\n",
              "      <td>0</td>\n",
              "      <td>0</td>\n",
              "      <td>0</td>\n",
              "      <td>0</td>\n",
              "      <td>0</td>\n",
              "      <td>0</td>\n",
              "      <td>0</td>\n",
              "      <td>0</td>\n",
              "      <td>0</td>\n",
              "      <td>0</td>\n",
              "      <td>74</td>\n",
              "      <td>53</td>\n",
              "      <td>14</td>\n",
              "      <td>7</td>\n",
              "      <td>6</td>\n",
              "      <td>3</td>\n",
              "      <td>2</td>\n",
              "      <td>1</td>\n",
              "      <td>2</td>\n",
              "      <td>1</td>\n",
              "      <td>1</td>\n",
              "      <td>0</td>\n",
              "      <td>0</td>\n",
              "      <td>0</td>\n",
              "      <td>1</td>\n",
              "      <td>0</td>\n",
              "      <td>0</td>\n",
              "      <td>0</td>\n",
              "      <td>0</td>\n",
              "      <td>1</td>\n",
              "      <td>0</td>\n",
              "      <td>0</td>\n",
              "      <td>1</td>\n",
              "      <td>1</td>\n",
              "      <td>1</td>\n",
              "      <td>1</td>\n",
              "      <td>3</td>\n",
              "      <td>1</td>\n",
              "      <td>1</td>\n",
              "      <td>0</td>\n",
              "      <td>1</td>\n",
              "    </tr>\n",
              "  </tbody>\n",
              "</table>\n",
              "</div>"
            ],
            "text/plain": [
              "   stars  American  Mexican  Italian  Japanese  Chinese  Thai  Mediterranean  \\\n",
              "0    4.0         0        0        0         0        0     0              1   \n",
              "1    3.5         0        0        0         0        0     0              0   \n",
              "2    4.0         1        0        0         0        0     0              0   \n",
              "\n",
              "   French  Vietnamese  Greek  Indian  Korean  Hawaiian  African  Spanish  \\\n",
              "0       0           0      0       0       0         0        0        1   \n",
              "1       0           0      0       0       0         0        0        0   \n",
              "2       0           0      0       0       0         0        0        0   \n",
              "\n",
              "   Middle Eastern  Other  review_count_16_19  pos  neg  neutral  \\\n",
              "0               0      0                  34   23    5        6   \n",
              "1               0      1                   5    4    1        0   \n",
              "2               0      0                  74   53   14        7   \n",
              "\n",
              "   bi_goodfood_text  bi_goodloc_text  bi_bad_text  Delivery  \\\n",
              "0                 0                4            1         1   \n",
              "1                 2                0            0         0   \n",
              "2                 6                3            2         1   \n",
              "\n",
              "   RestaurantsPriceRange2  OutdoorSeating  HasTV  Touristy  Hipster  Romantic  \\\n",
              "0                       2               1      1         0        0         0   \n",
              "1                       2               1      1         0        0         0   \n",
              "2                       2               1      1         0        0         0   \n",
              "\n",
              "   Divey  Intimate  Trendy  Upscale  Classy  Casual  Alc_None_served  \\\n",
              "0      0         0       0        0       0       1                0   \n",
              "1      0         0       0        0       0       0                0   \n",
              "2      1         0       0        0       0       1                0   \n",
              "\n",
              "   Alc_beer_and_wine  Alc_full_bar  open_breakfast  open_lunch  open_dinner  \\\n",
              "0                  1             0               0           1            1   \n",
              "1                  0             1               0           0            0   \n",
              "2                  0             1               1           1            1   \n",
              "\n",
              "   open_hours_meals  displayed_open_hours  is_crowded  is_chain  is_open  \n",
              "0                 2                     1           1         0        0  \n",
              "1                 0                     0           1         0        0  \n",
              "2                 3                     1           1         0        1  "
            ]
          },
          "metadata": {
            "tags": []
          },
          "execution_count": 7
        }
      ]
    },
    {
      "cell_type": "markdown",
      "metadata": {
        "id": "zoE625mwUaGJ"
      },
      "source": [
        "### Correlation"
      ]
    },
    {
      "cell_type": "code",
      "metadata": {
        "id": "KljjsuPxTZBS"
      },
      "source": [
        "# https://towardsdatascience.com/feature-selection-correlation-and-p-value-da8921bfb3cf"
      ],
      "execution_count": null,
      "outputs": []
    },
    {
      "cell_type": "code",
      "metadata": {
        "colab": {
          "base_uri": "https://localhost:8080/",
          "height": 601
        },
        "id": "Hu_xQEBNWUj3",
        "outputId": "cbb33cc4-bc6b-49bc-b267-0d6873ced215"
      },
      "source": [
        "corr = df.corr()\n",
        "fig = plt.figure(figsize=(16,8))\n",
        "ax = fig.add_subplot(111)\n",
        "cax = ax.matshow(corr,cmap='coolwarm', vmin=-1, vmax=1)\n",
        "fig.colorbar(cax)\n",
        "ticks = np.arange(0,len(df.columns),1)\n",
        "ax.set_xticks(ticks)\n",
        "plt.xticks(rotation=90)\n",
        "ax.set_yticks(ticks)\n",
        "ax.set_xticklabels(df.columns)\n",
        "ax.set_yticklabels(df.columns)\n",
        "plt.show()"
      ],
      "execution_count": null,
      "outputs": [
        {
          "output_type": "display_data",
          "data": {
            "image/png": "[encoded data removed]",
            "text/plain": [
              "<Figure size 1152x576 with 2 Axes>"
            ]
          },
          "metadata": {
            "tags": [],
            "needs_background": "light"
          }
        }
      ]
    },
    {
      "cell_type": "code",
      "metadata": {
        "id": "LnJZRxdMflTB"
      },
      "source": [
        "cols_drop= ['pos', 'neg', 'neutral', 'bi_goodfood_text', 'bi_goodloc_text', 'bi_bad_text', 'HasTV', 'open_hours_meals', 'displayed_open_hours'] #review_count_16_19 # \n",
        "df_new = df.drop(cols_drop, axis=1)"
      ],
      "execution_count": 6,
      "outputs": []
    },
    {
      "cell_type": "code",
      "metadata": {
        "colab": {
          "base_uri": "https://localhost:8080/",
          "height": 601
        },
        "id": "la5gVs21f0pq",
        "outputId": "f8acf0ba-33df-4819-a3c6-aa52b30707af"
      },
      "source": [
        "corr = df_new.corr()\n",
        "fig = plt.figure(figsize=(16,8))\n",
        "ax = fig.add_subplot(111)\n",
        "cax = ax.matshow(corr,cmap='coolwarm', vmin=-1, vmax=1)\n",
        "fig.colorbar(cax)\n",
        "ticks = np.arange(0,len(df_new.columns),1)\n",
        "ax.set_xticks(ticks)\n",
        "plt.xticks(rotation=90)\n",
        "ax.set_yticks(ticks)\n",
        "ax.set_xticklabels(df_new.columns)\n",
        "ax.set_yticklabels(df_new.columns)\n",
        "plt.show()"
      ],
      "execution_count": null,
      "outputs": [
        {
          "output_type": "display_data",
          "data": {
            "image/png": "[encoded data removed]",
            "text/plain": [
              "<Figure size 1152x576 with 2 Axes>"
            ]
          },
          "metadata": {
            "tags": [],
            "needs_background": "light"
          }
        }
      ]
    },
    {
      "cell_type": "markdown",
      "metadata": {
        "id": "UZu60W1vUs_e"
      },
      "source": [
        "#### Scaling"
      ]
    },
    {
      "cell_type": "code",
      "metadata": {
        "id": "smCgmEq0Hs0F"
      },
      "source": [
        "def scaling_func(x_train, x_test, category_cols):\n",
        "    x_train_scale= x_train[num_feature]\n",
        "    x_test_scale= x_test[num_feature]\n",
        "\n",
        "    #filter categorical columns\n",
        "    cat_train= x_train[category_cols]\n",
        "    cat_test= x_test[category_cols]\n",
        "\n",
        "    scaler = StandardScaler()\n",
        "    train_trans= scaler.fit_transform(x_train_scale.values)\n",
        "    test_trans= scaler.transform(x_test_scale)\n",
        "    x_train_scale.iloc[:][:]= train_trans\n",
        "    x_test_scale.iloc[:][:]= test_trans\n",
        "\n",
        "    #Concat numerical scaled cols to category columns\n",
        "    scale_train= pd.concat([x_train_scale, cat_train], axis=1, ignore_index=True)\n",
        "    scale_test= pd.concat([x_test_scale, cat_test], axis=1, ignore_index=True)\n",
        "\n",
        "    return scale_train.values, scale_test.values"
      ],
      "execution_count": 7,
      "outputs": []
    },
    {
      "cell_type": "markdown",
      "metadata": {
        "id": "8wz2Qc_sJDJS"
      },
      "source": [
        "#### With dropped co-related features:"
      ]
    },
    {
      "cell_type": "code",
      "metadata": {
        "colab": {
          "base_uri": "https://localhost:8080/"
        },
        "id": "fZeAY7KKJ-NI",
        "outputId": "d66d2f0b-64c8-4d32-f289-7fc77be354eb"
      },
      "source": [
        "#scale only numerical columns:\n",
        "\n",
        "num_feature= ['stars', 'review_count_16_19', 'RestaurantsPriceRange2']\n",
        "\n",
        "x_train_cols= list(df_new.columns)\n",
        "category_cols= []\n",
        "\n",
        "for i in x_train_cols:\n",
        "    if i not in num_feature:\n",
        "        category_cols.append(i)\n",
        "\n",
        "category_cols= category_cols[:-1]\n",
        "print(category_cols)\n",
        "\n",
        "features= df_new.iloc[:,:-1]\n",
        "labels= df_new.iloc[:,-1].values\n",
        "x_train, x_test, y_train, y_test= train_test_split(features, labels, test_size=0.20, random_state=37)  \n",
        "\n",
        "x_train.reset_index(drop=True, inplace=True)\n",
        "x_test.reset_index(drop=True, inplace=True)\n",
        "scale_train, scale_test= scaling_func(x_train, x_test, category_cols)"
      ],
      "execution_count": 8,
      "outputs": [
        {
          "output_type": "stream",
          "text": [
            "['American', 'Mexican', 'Italian', 'Japanese', 'Chinese', 'Thai', 'Mediterranean', 'French', 'Vietnamese', 'Greek', 'Indian', 'Korean', 'Hawaiian', 'African', 'Spanish', 'Middle Eastern', 'Other', 'Delivery', 'OutdoorSeating', 'Touristy', 'Hipster', 'Romantic', 'Divey', 'Intimate', 'Trendy', 'Upscale', 'Classy', 'Casual', 'Alc_None_served', 'Alc_beer_and_wine', 'Alc_full_bar', 'open_breakfast', 'open_lunch', 'open_dinner', 'is_crowded', 'is_chain']\n"
          ],
          "name": "stdout"
        }
      ]
    },
    {
      "cell_type": "markdown",
      "metadata": {
        "id": "BUXSddglzAXt"
      },
      "source": [
        "#### Using F1-score:"
      ]
    },
    {
      "cell_type": "code",
      "metadata": {
        "id": "aSkIgVgtzGo3"
      },
      "source": [
        "def run_cross_validation_f1_score(X, Y, acc_list, plots_enabled=False, return_model= False, predict_test=False, x_test=None, y_test=None):\n",
        "    skf = StratifiedKFold(n_splits = 5, shuffle = True) \n",
        "    ctr=1\n",
        "    test_f1=[]\n",
        "    for train_index, val_index in skf.split(X, Y):\n",
        "\n",
        "        print('Running for K= ', ctr)\n",
        "        X_train, X_val = X[train_index], X[val_index]\n",
        "        Y_train, Y_val = Y[train_index], Y[val_index]\n",
        "\n",
        "        #print(X_train.shape, X_val.shape, Y_train.shape, Y_val.shape)\n",
        "        model, history= model_train(X_train, Y_train, X_val, Y_val, 100, 10, 64, 'tanh')\n",
        "    \n",
        "        ######plots\n",
        "        if plots_enabled:\n",
        "            fig, axs= plt.subplots(1,1)\n",
        "            fig.suptitle(f\"For K= {ctr}\")\n",
        "            axs.plot(history.history['loss'], label='train')\n",
        "            axs.plot(history.history['val_loss'], label='validation')\n",
        "            axs.title.set_text('Loss Plot')\n",
        "            axs.legend()\n",
        "            plt.show()\n",
        "        \n",
        "        ## predict probabilities for test set\n",
        "        yhat_probs = model.predict(X_val, verbose=0)\n",
        "        yhat_probs = yhat_probs[:, 0]\n",
        "        yhat_classes = 1*(yhat_probs > 0.5)       \n",
        "        # f1: 2 tp / (2 tp + fp + fn)\n",
        "        f1 = f1_score(Y_val, yhat_classes)\n",
        "        acc_list.append(f1) \n",
        "\n",
        "        if predict_test:\n",
        "            yhat_probs = model.predict(x_test, verbose=0)\n",
        "            yhat_probs = yhat_probs[:, 0]\n",
        "            yhat_classes = 1*(yhat_probs > 0.5)       \n",
        "            # f1: 2 tp / (2 tp + fp + fn)\n",
        "            f1 = f1_score(y_test, yhat_classes)\n",
        "            test_f1.append(f1)\n",
        "\n",
        "        ctr+=1\n",
        "\n",
        "        #if return_model:\n",
        "        #    print('ff')\n",
        "        #    matrix = confusion_matrix(Y_val, yhat_classes)\n",
        "        #    sns.heatmap(matrix, annot=True)\n",
        "        #    plt.show()\n",
        "    if return_model:\n",
        "        return model,history, acc_list, test_f1\n",
        "    return acc_list"
      ],
      "execution_count": 57,
      "outputs": []
    },
    {
      "cell_type": "markdown",
      "metadata": {
        "id": "Wep_dv2Wfv64"
      },
      "source": [
        "Considering 'total count' and dropping 'pos' 'neg' 'neutral':"
      ]
    },
    {
      "cell_type": "code",
      "metadata": {
        "id": "xwn4cJw_GDtR"
      },
      "source": [
        "cols_drop= ['pos', 'neg', 'neutral', 'bi_goodfood_text', 'bi_goodloc_text', 'bi_bad_text', 'HasTV', 'open_hours_meals', 'displayed_open_hours']\n",
        "\n",
        "df_new = df.drop(cols_drop, axis=1)"
      ],
      "execution_count": 10,
      "outputs": []
    },
    {
      "cell_type": "code",
      "metadata": {
        "colab": {
          "base_uri": "https://localhost:8080/"
        },
        "id": "Fgmg4GIUGFgu",
        "outputId": "06c06c2b-9e06-4012-8d7f-b60bdd6160c9"
      },
      "source": [
        "#scale only numerical columns:\n",
        "num_feature= ['stars', 'review_count_16_19', 'RestaurantsPriceRange2']\n",
        "\n",
        "x_train_cols= list(df_new.columns)\n",
        "category_cols= []\n",
        "\n",
        "for i in x_train_cols:\n",
        "    if i not in num_feature:\n",
        "        category_cols.append(i)\n",
        "\n",
        "category_cols= category_cols[:-1]\n",
        "print(category_cols)\n",
        "\n",
        "\n",
        "features= df_new.iloc[:,:-1]\n",
        "labels= df_new.iloc[:,-1].values\n",
        "x_train, x_test, y_train, y_test= train_test_split(features, labels, test_size=0.20, random_state=37)  \n",
        "\n",
        "x_train.reset_index(drop=True, inplace=True)\n",
        "x_test.reset_index(drop=True, inplace=True)\n",
        "scale_train, scale_test= scaling_func(x_train, x_test, category_cols)"
      ],
      "execution_count": 11,
      "outputs": [
        {
          "output_type": "stream",
          "text": [
            "['American', 'Mexican', 'Italian', 'Japanese', 'Chinese', 'Thai', 'Mediterranean', 'French', 'Vietnamese', 'Greek', 'Indian', 'Korean', 'Hawaiian', 'African', 'Spanish', 'Middle Eastern', 'Other', 'Delivery', 'OutdoorSeating', 'Touristy', 'Hipster', 'Romantic', 'Divey', 'Intimate', 'Trendy', 'Upscale', 'Classy', 'Casual', 'Alc_None_served', 'Alc_beer_and_wine', 'Alc_full_bar', 'open_breakfast', 'open_lunch', 'open_dinner', 'is_crowded', 'is_chain']\n"
          ],
          "name": "stdout"
        }
      ]
    },
    {
      "cell_type": "code",
      "metadata": {
        "id": "zO4x2R8E3hdL",
        "colab": {
          "base_uri": "https://localhost:8080/"
        },
        "outputId": "aaa965cc-fdb1-4060-eeef-10b888d8b328"
      },
      "source": [
        "f1_Score1=[]\n",
        "plots_enabled= False\n",
        "f1_Score1= run_cross_validation_f1_score(scale_train, y_train, f1_Score1, plots_enabled)"
      ],
      "execution_count": 16,
      "outputs": [
        {
          "output_type": "stream",
          "text": [
            "Running for K=  1\n",
            "Running for K=  2\n",
            "Running for K=  3\n",
            "Running for K=  4\n",
            "Running for K=  5\n"
          ],
          "name": "stdout"
        }
      ]
    },
    {
      "cell_type": "markdown",
      "metadata": {
        "id": "CYUOvKxDuVZQ"
      },
      "source": [
        "#### Considering 'pos' 'neg' 'neutral' and dropping 'total count':"
      ]
    },
    {
      "cell_type": "code",
      "metadata": {
        "id": "mC5BNy8VuqdJ"
      },
      "source": [
        "cols_drop= ['review_count_16_19', 'bi_goodfood_text', 'bi_goodloc_text', 'bi_bad_text', 'HasTV', 'open_hours_meals', 'displayed_open_hours']\n",
        "\n",
        "df_new = df.drop(cols_drop, axis=1)"
      ],
      "execution_count": null,
      "outputs": []
    },
    {
      "cell_type": "code",
      "metadata": {
        "colab": {
          "base_uri": "https://localhost:8080/"
        },
        "id": "OmSOvmINup69",
        "outputId": "f5edc025-3cf3-491e-c5bb-8221fa8f4ef6"
      },
      "source": [
        "#scale only numerical columns:\n",
        "num_feature= ['stars', 'pos', 'neg','neutral', 'RestaurantsPriceRange2']\n",
        "\n",
        "x_train_cols= list(df_new.columns)\n",
        "category_cols= []\n",
        "\n",
        "for i in x_train_cols:\n",
        "    if i not in num_feature:\n",
        "        category_cols.append(i)\n",
        "\n",
        "category_cols= category_cols[:-1]\n",
        "print(category_cols)\n",
        "\n",
        "features= df_new.iloc[:,:-1]\n",
        "labels= df_new.iloc[:,-1].values\n",
        "x_train, x_test, y_train, y_test= train_test_split(features, labels, test_size=0.20, random_state=37)  \n",
        "\n",
        "x_train.reset_index(drop=True, inplace=True)\n",
        "x_test.reset_index(drop=True, inplace=True)\n",
        "scale_train, scale_test= scaling_func(x_train, x_test, category_cols)"
      ],
      "execution_count": null,
      "outputs": [
        {
          "output_type": "stream",
          "text": [
            "['American', 'Mexican', 'Italian', 'Japanese', 'Chinese', 'Thai', 'Mediterranean', 'French', 'Vietnamese', 'Greek', 'Indian', 'Korean', 'Hawaiian', 'African', 'Spanish', 'Middle Eastern', 'Other', 'Delivery', 'OutdoorSeating', 'Touristy', 'Hipster', 'Romantic', 'Divey', 'Intimate', 'Trendy', 'Upscale', 'Classy', 'Casual', 'Alc_None_served', 'Alc_beer_and_wine', 'Alc_full_bar', 'open_breakfast', 'open_lunch', 'open_dinner', 'is_crowded', 'is_chain']\n"
          ],
          "name": "stdout"
        }
      ]
    },
    {
      "cell_type": "code",
      "metadata": {
        "id": "utkrIbVDvNje"
      },
      "source": [
        "f1_Score2=[]\n",
        "plots_enabled= False\n",
        "f1_Score2= run_cross_validation_f1_score(scale_train, y_train, f1_Score2, plots_enabled)"
      ],
      "execution_count": null,
      "outputs": []
    },
    {
      "cell_type": "markdown",
      "metadata": {
        "id": "ONNOjAtvujI_"
      },
      "source": [
        "##### All categorical"
      ]
    },
    {
      "cell_type": "code",
      "metadata": {
        "id": "FyS6l2SO7Gxg"
      },
      "source": [
        "cols_drop= ['stars', 'pos', 'neg','neutral', 'RestaurantsPriceRange2', 'review_count_16_19', 'bi_goodfood_text', 'bi_goodloc_text', 'bi_bad_text', 'HasTV', 'open_hours_meals', 'displayed_open_hours']\n",
        "\n",
        "df_new = df.drop(cols_drop, axis=1)"
      ],
      "execution_count": null,
      "outputs": []
    },
    {
      "cell_type": "code",
      "metadata": {
        "colab": {
          "base_uri": "https://localhost:8080/"
        },
        "id": "8QFRYDYt7Sbw",
        "outputId": "9795e160-e4cd-4345-b235-5e2f8095b6ad"
      },
      "source": [
        "num_feature= []\n",
        "\n",
        "x_train_cols= list(df_new.columns)\n",
        "category_cols= []\n",
        "\n",
        "for i in x_train_cols:\n",
        "    if i not in num_feature:\n",
        "        category_cols.append(i)\n",
        "\n",
        "category_cols= category_cols[:-1]\n",
        "print(category_cols)\n",
        "\n",
        "features= df_new.iloc[:,:-1]\n",
        "labels= df_new.iloc[:,-1].values\n",
        "x_train, x_test, y_train, y_test= train_test_split(features, labels, test_size=0.20, random_state=37)  \n",
        "\n",
        "x_train.reset_index(drop=True, inplace=True)\n",
        "x_test.reset_index(drop=True, inplace=True)\n",
        "\n",
        "x_train= x_train.values\n",
        "x_test= x_test.values"
      ],
      "execution_count": null,
      "outputs": [
        {
          "output_type": "stream",
          "text": [
            "['American', 'Mexican', 'Italian', 'Japanese', 'Chinese', 'Thai', 'Mediterranean', 'French', 'Vietnamese', 'Greek', 'Indian', 'Korean', 'Hawaiian', 'African', 'Spanish', 'Middle Eastern', 'Other', 'Delivery', 'OutdoorSeating', 'Touristy', 'Hipster', 'Romantic', 'Divey', 'Intimate', 'Trendy', 'Upscale', 'Classy', 'Casual', 'Alc_None_served', 'Alc_beer_and_wine', 'Alc_full_bar', 'open_breakfast', 'open_lunch', 'open_dinner', 'is_crowded', 'is_chain']\n"
          ],
          "name": "stdout"
        }
      ]
    },
    {
      "cell_type": "code",
      "metadata": {
        "id": "QSksSE8i7o9M"
      },
      "source": [
        "f1_Score3=[]\n",
        "f1_Score3= run_cross_validation_f1_score(x_train, y_train, f1_Score3)"
      ],
      "execution_count": null,
      "outputs": []
    },
    {
      "cell_type": "markdown",
      "metadata": {
        "id": "695A80i47zWx"
      },
      "source": [
        "error plots:"
      ]
    },
    {
      "cell_type": "code",
      "metadata": {
        "id": "A921xBPU8EyX"
      },
      "source": [
        "f1_Score1_arr= np.array(f1_Score1)\n",
        "f1_Score2_arr= np.array(f1_Score2)\n",
        "f1_Score3_arr= np.array(f1_Score3)\n",
        "\n",
        "CTEs = [f1_Score1_arr.mean(), f1_Score2_arr.mean(), f1_Score3_arr.mean()]\n",
        "error = [f1_Score1_arr.std(), f1_Score2_arr.std(), f1_Score3_arr.std()]"
      ],
      "execution_count": null,
      "outputs": []
    },
    {
      "cell_type": "code",
      "metadata": {
        "colab": {
          "base_uri": "https://localhost:8080/",
          "height": 404
        },
        "id": "n3dFzcmp7yZF",
        "outputId": "b67ee64a-eebd-4634-c1d4-009410feff3d"
      },
      "source": [
        "labels= ['Case1', \"Case2\", 'Case3']\n",
        "x_pos = np.arange(len(labels))\n",
        "fig, ax = plt.subplots(figsize=(6,6))\n",
        "ax.bar(x_pos, CTEs, yerr=error, align='center', alpha=0.5, ecolor='black', capsize=55)\n",
        "ax.set_ylabel('F1 score')\n",
        "ax.set_xticks(x_pos)\n",
        "ax.set_xticklabels(ax.get_xticks(), rotation = 30)\n",
        "ax.set_xticklabels(labels)\n",
        "ax.set_title('F1 score with error bars')\n",
        "ax.yaxis.grid(True)\n",
        "plt.show()"
      ],
      "execution_count": null,
      "outputs": [
        {
          "output_type": "display_data",
          "data": {
            "image/png": "[encoded data removed]",
            "text/plain": [
              "<Figure size 432x432 with 1 Axes>"
            ]
          },
          "metadata": {
            "tags": [],
            "needs_background": "light"
          }
        }
      ]
    },
    {
      "cell_type": "markdown",
      "metadata": {
        "id": "yuYj0g_AlNJM"
      },
      "source": [
        "#### Final model:"
      ]
    },
    {
      "cell_type": "code",
      "metadata": {
        "id": "ODm9oLU_lMKd"
      },
      "source": [
        "cols_drop= ['pos', 'neg', 'neutral', 'bi_goodfood_text', 'bi_goodloc_text', 'bi_bad_text', 'HasTV', 'open_hours_meals', 'displayed_open_hours']\n",
        "\n",
        "df_new = df.drop(cols_drop, axis=1)\n",
        "\n",
        "#scale only numerical columns:\n",
        "num_feature= ['stars', 'review_count_16_19', 'RestaurantsPriceRange2']\n",
        "\n",
        "x_train_cols= list(df_new.columns)\n",
        "category_cols= []\n",
        "\n",
        "for i in x_train_cols:\n",
        "    if i not in num_feature:\n",
        "        category_cols.append(i)\n",
        "\n",
        "category_cols= category_cols[:-1]\n",
        "#print(category_cols)\n",
        "\n",
        "\n",
        "features= df_new.iloc[:,:-1]\n",
        "labels= df_new.iloc[:,-1].values\n",
        "x_train, x_test, y_train, y_test= train_test_split(features, labels, test_size=0.20, random_state=37)  \n",
        "\n",
        "x_train.reset_index(drop=True, inplace=True)\n",
        "x_test.reset_index(drop=True, inplace=True)\n",
        "scale_train, scale_test= scaling_func(x_train, x_test, category_cols)\n"
      ],
      "execution_count": 18,
      "outputs": []
    },
    {
      "cell_type": "code",
      "metadata": {
        "colab": {
          "base_uri": "https://localhost:8080/"
        },
        "id": "u3gZkI5onu1l",
        "outputId": "db40cf20-a3eb-4c9e-d933-e53bd806d71e"
      },
      "source": [
        "model, history, val_f1_list, test_f1= run_cross_validation_f1_score(scale_train, y_train, [], False, True, True, scale_test, y_test)"
      ],
      "execution_count": 58,
      "outputs": [
        {
          "output_type": "stream",
          "text": [
            "Running for K=  1\n",
            "Running for K=  2\n",
            "Running for K=  3\n",
            "Running for K=  4\n",
            "Running for K=  5\n"
          ],
          "name": "stdout"
        }
      ]
    },
    {
      "cell_type": "code",
      "metadata": {
        "colab": {
          "base_uri": "https://localhost:8080/"
        },
        "id": "tSMil3n5wOmR",
        "outputId": "e3f1727e-76d9-460f-96b1-88982381deae"
      },
      "source": [
        "np.mean(val_f1_list), np.mean(test_f1)"
      ],
      "execution_count": 61,
      "outputs": [
        {
          "output_type": "execute_result",
          "data": {
            "text/plain": [
              "(0.899778174236215, 0.8909975410731004)"
            ]
          },
          "metadata": {
            "tags": []
          },
          "execution_count": 61
        }
      ]
    },
    {
      "cell_type": "code",
      "metadata": {
        "id": "C2xivCMZlnjN"
      },
      "source": [
        "# predict probabilities for test set\n",
        "yhat_probs = model.predict(scale_test, verbose=0)\n",
        "yhat_probs = yhat_probs[:, 0]"
      ],
      "execution_count": 49,
      "outputs": []
    },
    {
      "cell_type": "code",
      "metadata": {
        "colab": {
          "base_uri": "https://localhost:8080/",
          "height": 396
        },
        "id": "ApH2jNv3sLza",
        "outputId": "4fd10ccd-5457-48f1-de93-e6254fe714db"
      },
      "source": [
        "#dt f measure:\n",
        "f1_dt= np.array([0.8425655976676385, 0.8622222222222222, 0.8357771260997067, 0.8330871491875922, 0.8410104011887073])\n",
        "test_f1= np.array(test_f1)\n",
        "\n",
        "CTEs = [f1_dt.mean(), test_f1.mean()]\n",
        "error = [f1_dt.std(), test_f1.std()]\n",
        "\n",
        "labels= ['DT', \"NN\"]\n",
        "x_pos = np.arange(len(labels))\n",
        "fig, ax = plt.subplots(figsize=(6,6))\n",
        "ax.bar(x_pos, CTEs, yerr=error, align='center', alpha=0.5, ecolor='black', capsize=55)\n",
        "ax.set_ylabel('F1 measure')\n",
        "ax.set_xticks(x_pos)\n",
        "ax.set_xticklabels(ax.get_xticks(), rotation = 30)\n",
        "ax.set_xticklabels(labels)\n",
        "ax.set_title('F1 measure with error bars')\n",
        "ax.yaxis.grid(True)\n",
        "plt.show()"
      ],
      "execution_count": 60,
      "outputs": [
        {
          "output_type": "display_data",
          "data": {
            "image/png": "[encoded data removed]",
            "text/plain": [
              "<Figure size 432x432 with 1 Axes>"
            ]
          },
          "metadata": {
            "tags": [],
            "needs_background": "light"
          }
        }
      ]
    },
    {
      "cell_type": "code",
      "metadata": {
        "id": "Q57m5Bv0nQnm"
      },
      "source": [
        "import seaborn as sns\n",
        "from sklearn.metrics import plot_confusion_matrix"
      ],
      "execution_count": 52,
      "outputs": []
    },
    {
      "cell_type": "code",
      "metadata": {
        "colab": {
          "base_uri": "https://localhost:8080/",
          "height": 279
        },
        "id": "8LUkkjeGtpn4",
        "outputId": "785b1bbc-6a12-471b-8296-22ec6aa78f7b"
      },
      "source": [
        "#https://medium.com/@dtuk81/confusion-matrix-visualization-fc31e3f30fea\n",
        "\n",
        "group_names = ['True Neg','False Pos','False Neg','True Pos']\n",
        "group_percentages = [\"{0:.2%}\".format(value) for value in matrix.flatten()/np.sum(matrix)]\n",
        "group_counts = [\"{0:0.0f}\".format(value) for value in matrix.flatten()]\n",
        "labels = [f\"{v1}\\n\\n{v2}\\n\\n{v3}\" for v1, v2, v3 in  zip(group_names,group_counts,group_percentages)]\n",
        "labels = np.asarray(labels).reshape(2,2)\n",
        "sns.heatmap(matrix, annot=labels, fmt='', cmap='Blues')\n",
        "plt.xlabel('Predicted')\n",
        "plt.ylabel('Actual')\n",
        "plt.show()"
      ],
      "execution_count": 51,
      "outputs": [
        {
          "output_type": "display_data",
          "data": {
            "image/png": "[encoded data removed]",
            "text/plain": [
              "<Figure size 432x288 with 2 Axes>"
            ]
          },
          "metadata": {
            "tags": [],
            "needs_background": "light"
          }
        }
      ]
    },
    {
      "cell_type": "code",
      "metadata": {
        "id": "PCJVjujCu_70"
      },
      "source": [
        "from sklearn.metrics import precision_recall_curve\n",
        "from sklearn.metrics import auc"
      ],
      "execution_count": 29,
      "outputs": []
    },
    {
      "cell_type": "code",
      "metadata": {
        "id": "RXaFtZOLvEBz"
      },
      "source": [
        "precision, recall, thresholds = precision_recall_curve(y_test, yhat_probs)"
      ],
      "execution_count": 55,
      "outputs": []
    },
    {
      "cell_type": "code",
      "metadata": {
        "id": "GAOurvcsvKnY",
        "colab": {
          "base_uri": "https://localhost:8080/"
        },
        "outputId": "8ec362b6-86b2-420f-ecdc-58949d482aed"
      },
      "source": [
        "auc_score = auc(recall, precision)\n",
        "print('NN: auc=%.3f' % (auc_score))"
      ],
      "execution_count": 26,
      "outputs": [
        {
          "output_type": "stream",
          "text": [
            "NN: auc=0.954\n"
          ],
          "name": "stdout"
        }
      ]
    },
    {
      "cell_type": "code",
      "metadata": {
        "id": "apgt7sXsP5Bc"
      },
      "source": [
        "#decison tree:\n",
        "pr_dt = [0.7551963,  0.76811594, 0.76941748, 0.77525253, 0.81534091, 0.81714286, 0.81791908, 0.81976744, 0.82215743, 0.82282282, 0.85140562, 0.85483871, 0.87234043, 0.87068966, 0.87428571, 0.89583333, 0.87234043, 1.]\n",
        "rr_dt=   [1., 0.97247706, 0.96941896, 0.93883792, 0.87767584, 0.87461774, 0.86544343, 0.86238532, 0.86238532, 0.83792049, 0.64831804, 0.64831804, 0.62691131, 0.617737, 0.46788991, 0.39449541, 0.12538226, 0.]"
      ],
      "execution_count": 40,
      "outputs": []
    },
    {
      "cell_type": "code",
      "metadata": {
        "colab": {
          "base_uri": "https://localhost:8080/",
          "height": 279
        },
        "id": "acf0uMTCvmIe",
        "outputId": "6b8c044b-82fa-4d69-9ebd-bab457c436b0"
      },
      "source": [
        "plt.plot(recall, precision, marker='.', label='NN')\n",
        "plt.plot(rr_dt, pr_dt, marker='.', label='DT')\n",
        "plt.xlabel('Recall')\n",
        "plt.ylabel('Precision')\n",
        "plt.legend()\n",
        "plt.show()"
      ],
      "execution_count": 56,
      "outputs": [
        {
          "output_type": "display_data",
          "data": {
            "image/png": "[encoded data removed]",
            "text/plain": [
              "<Figure size 432x288 with 1 Axes>"
            ]
          },
          "metadata": {
            "tags": [],
            "needs_background": "light"
          }
        }
      ]
    },
    {
      "cell_type": "markdown",
      "metadata": {
        "id": "piFTBkhMVXHC"
      },
      "source": [
        "#### ANN"
      ]
    },
    {
      "cell_type": "code",
      "metadata": {
        "id": "2oiqKrgH_DUE"
      },
      "source": [
        "def lr_schedule(epoch):\n",
        "    lr = 1e-3\n",
        "    if epoch > 180:\n",
        "        lr *= 0.5e-3\n",
        "    elif epoch > 160:\n",
        "        lr *= 1e-3\n",
        "    elif epoch > 120:\n",
        "        lr *= 1e-2\n",
        "    elif epoch > 80:\n",
        "        lr *= 1e-1\n",
        "    #print('Learning rate: ', lr)\n",
        "    return lr\n",
        "\n",
        "lr_scheduler = LearningRateScheduler(lr_schedule)\n",
        "lr_reducer = ReduceLROnPlateau(factor=np.sqrt(0.1),cooldown=0, patience=5,min_lr=0.5e-6)\n",
        "callbacks = [lr_scheduler, lr_reducer]"
      ],
      "execution_count": 13,
      "outputs": []
    },
    {
      "cell_type": "code",
      "metadata": {
        "id": "uHHOS3t7eE85"
      },
      "source": [
        "def model_train(X_train, Y_train, X_val, Y_val,epochs, neurons, batch, act_func, lrate=None):\n",
        "    # define model\n",
        "    ################################################################# Reproducibility #########################################################\n",
        "    #tf.keras.backend.clear_session()\n",
        "    #np.random.seed(42)\n",
        "    #random.seed(12345)\n",
        "    #session_conf = tf.compat.v1.ConfigProto(intra_op_parallelism_threads=1, inter_op_parallelism_threads=1)\n",
        "    #tf.random.set_seed(1234)\n",
        "    #sess = tf.compat.v1.Session(graph=tf.compat.v1.get_default_graph(), config=session_conf)\n",
        "    #tf.compat.v1.keras.backend.set_session(sess)\n",
        "    #############################################################################################################################################\n",
        "    #np.random.seed(0)\n",
        "    #print(np.random.rand(4))\n",
        "    initializer = tf.keras.initializers.GlorotNormal()\n",
        "    opt= tf.keras.optimizers.Adam()\n",
        "    model = Sequential()\n",
        "    model.add(Dense(neurons, input_dim=X_train.shape[1], activation=act_func, kernel_initializer=initializer))\n",
        "    model.add(Dense(1, activation='sigmoid'))\n",
        "    model.compile(loss='binary_crossentropy',optimizer=opt,metrics=['accuracy'])\n",
        "    \n",
        "    history= model.fit(X_train, Y_train, epochs=epochs, batch_size= batch, validation_data=(X_val, Y_val), shuffle= True, verbose=0, callbacks=callbacks)\n",
        "    return model, history"
      ],
      "execution_count": 14,
      "outputs": []
    },
    {
      "cell_type": "markdown",
      "metadata": {
        "id": "wtPYZyVqPInl"
      },
      "source": [
        "#### Tuning NN:"
      ]
    },
    {
      "cell_type": "code",
      "metadata": {
        "id": "6hPJhyppV-JD"
      },
      "source": [
        "# define model\n",
        "\n",
        "def create_model(X_train, Y_train, X_val, Y_val, batch, epoch, neurons, init_param, optname, act_func, decay_lr= True, dropout=False, drop_val= None):\n",
        "    ################################################################# Reproducibility #########################################################\n",
        "    tf.keras.backend.clear_session()\n",
        "    np.random.seed(42)\n",
        "    random.seed(12345)\n",
        "    session_conf = tf.compat.v1.ConfigProto(intra_op_parallelism_threads=1, inter_op_parallelism_threads=1)\n",
        "    tf.random.set_seed(1234)\n",
        "    sess = tf.compat.v1.Session(graph=tf.compat.v1.get_default_graph(), config=session_conf)\n",
        "    tf.compat.v1.keras.backend.set_session(sess)\n",
        "    #############################################################################################################################################\n",
        "    np.random.seed(0)\n",
        "    #print(np.random.rand(4))\n",
        "    if init_param== 'HE':\n",
        "        initializer= tf.keras.initializers.HeNormal(seed=42)\n",
        "    elif init_param=='GN':\n",
        "        initializer = tf.keras.initializers.GlorotNormal(seed=42)\n",
        "    elif init_param=='GU':\n",
        "        initializer = tf.keras.initializers.GlorotUniform(seed=42)\n",
        "    elif init_param== 'RU':\n",
        "        initializer= tf.keras.initializers.RandomUniform(minval=-0.05, maxval=0.05, seed=42)\n",
        "\n",
        "    if optname== 'ADAM':\n",
        "        opt= tf.keras.optimizers.Adam(learning_rate=lr_schedule(0))  \n",
        "    elif optname== 'RMSProp':\n",
        "        opt= tf.keras.optimizers.RMSprop(learning_rate=lr_schedule(0), momentum=0.9)\n",
        "    elif optname== 'SGD':\n",
        "        opt= tf.keras.optimizers.SGD(learning_rate=lr_schedule(0))\n",
        "\n",
        "    model = Sequential()\n",
        "    model.add(Dense(neurons, input_dim=X_train.shape[1], activation=act_func, kernel_initializer=initializer))\n",
        "    if dropout:\n",
        "        model.add(Dropout= drop_val)\n",
        "    #model.add(Dense(50, input_dim=scale_x.shape[1], activation='tanh'))\n",
        "    model.add(Dense(1, activation='sigmoid'))\n",
        "    model.compile(loss='binary_crossentropy',optimizer=opt,metrics=['accuracy'])\n",
        "    \n",
        "    history= model.fit(X_train, Y_train, epochs=epoch, batch_size= batch, validation_data=(X_val, Y_val),shuffle= True, verbose=0, callbacks=callbacks)\n",
        "    \n",
        "    return model,history"
      ],
      "execution_count": null,
      "outputs": []
    },
    {
      "cell_type": "code",
      "metadata": {
        "id": "GQrhOJW3OFAA"
      },
      "source": [
        "epochs= [50, 100, 200]\n",
        "neurons= [10, 20, 30, 40, 50]\n",
        "batches= [16, 32, 64]\n",
        "act_funcs= ['relu', 'tanh']\n",
        "drop_out_list= [0.5, 0.6, 0.7, 0.8, 0.9]\n",
        "optnames= ['SGD', 'RMSProp', 'ADAM']"
      ],
      "execution_count": null,
      "outputs": []
    },
    {
      "cell_type": "code",
      "metadata": {
        "colab": {
          "background_save": true
        },
        "id": "_3KEqUF6_YtD"
      },
      "source": [
        "mean_f1_Scores={}\n",
        "for opt in optnames:\n",
        "    for e in epochs:\n",
        "        for n in neurons:\n",
        "            for batch in batches:\n",
        "                for act in act_funcs:\n",
        "                    print('Running for OPT= {}, Epochs= {}, Neurons= {}, batch= {}, ACT_F={}' .format(opt, e, n, batch, act))\n",
        "                    str_name=str(opt)+'_'+str(e)+'_'+str(n)+'_'+str(batch)+'_'+str(act)\n",
        "                    f1_scorelist= []\n",
        "                    skf = StratifiedKFold(n_splits = 5, shuffle = True) \n",
        "                    for train_index, val_index in skf.split(scale_train, y_train):\n",
        "                        X_train, X_val = scale_train[train_index], scale_train[val_index]\n",
        "                        Y_train, Y_val = y_train[train_index], y_train[val_index]\n",
        "\n",
        "                        model, history= create_model(X_train, Y_train, X_val, Y_val, batch, e, n, 'GN', opt, act)\n",
        "                        yhat_probs = model.predict(X_val, verbose=0)\n",
        "                        yhat_probs = yhat_probs[:, 0]\n",
        "                        # predict crisp classes for test set\n",
        "                        yhat_classes = 1*(yhat_probs > 0.5)       \n",
        "                        # f1: 2 tp / (2 tp + fp + fn)\n",
        "                        f1 = f1_score(Y_val, yhat_classes)\n",
        "\n",
        "                        f1_scorelist.append(f1)\n",
        "\n",
        "                    mean_f1_Scores[str_name]= np.round(np.mean(f1_scorelist), 3)      "
      ],
      "execution_count": null,
      "outputs": []
    },
    {
      "cell_type": "code",
      "metadata": {
        "id": "HKFCO1ApTe6O"
      },
      "source": [
        "filenm= '/content/drive/MyDrive/datasets/f1_score.txt'\n",
        "import json\n",
        "with open(filenm, 'w') as convert_file:\n",
        "     convert_file.write(json.dumps(mean_f1_Scores))"
      ],
      "execution_count": null,
      "outputs": []
    }
  ]
}