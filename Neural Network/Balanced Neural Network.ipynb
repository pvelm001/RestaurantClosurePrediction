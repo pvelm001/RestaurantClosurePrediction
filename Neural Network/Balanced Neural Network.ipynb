{
  "nbformat": 4,
  "nbformat_minor": 0,
  "metadata": {
    "accelerator": "GPU",
    "colab": {
      "name": "Yelp_model training_balanced.ipynb",
      "provenance": [],
      "collapsed_sections": []
    },
    "kernelspec": {
      "display_name": "Python 3",
      "name": "python3"
    },
    "language_info": {
      "name": "python"
    }
  },
  "cells": [
    {
      "cell_type": "code",
      "metadata": {
        "colab": {
          "base_uri": "https://localhost:8080/"
        },
        "id": "OUAMQvmK9vJd",
        "outputId": "18eb21dc-3c81-404b-f4cd-ba8aeca1a407"
      },
      "source": [
        "from google.colab import drive\n",
        "drive.mount('/content/drive')"
      ],
      "execution_count": 108,
      "outputs": [
        {
          "output_type": "stream",
          "text": [
            "Drive already mounted at /content/drive; to attempt to forcibly remount, call drive.mount(\"/content/drive\", force_remount=True).\n"
          ],
          "name": "stdout"
        }
      ]
    },
    {
      "cell_type": "code",
      "metadata": {
        "id": "RHSGaSlq_wnw"
      },
      "source": [
        "from matplotlib import pyplot as plt\n",
        "import re,string\n",
        "from datetime import datetime as dt\n",
        "import seaborn as sns\n",
        "import numpy as np \n",
        "import pandas as pd \n",
        "pd.set_option('display.max_columns', None)\n",
        "pd.set_option('display.max_rows', None)\n",
        "from sklearn.metrics import accuracy_score\n",
        "from sklearn.metrics import precision_score\n",
        "from sklearn.metrics import recall_score\n",
        "from sklearn.metrics import f1_score\n",
        "from sklearn.model_selection import train_test_split\n",
        "from sklearn.metrics import confusion_matrix\n",
        "from sklearn.metrics import roc_curve\n",
        "import random\n",
        "from keras.models import Sequential\n",
        "from keras.layers import Dense\n",
        "import tensorflow as tf\n",
        "from keras.optimizers import Adam\n",
        "from keras.callbacks import ModelCheckpoint, LearningRateScheduler\n",
        "from keras.callbacks import ReduceLROnPlateau\n",
        "from keras.layers import Dropout\n",
        "from sklearn.preprocessing import StandardScaler"
      ],
      "execution_count": 2,
      "outputs": []
    },
    {
      "cell_type": "code",
      "metadata": {
        "id": "sKop0bvI_zy2"
      },
      "source": [
        "final_rest_df= pd.read_csv('/content/drive/MyDrive/datasets/Dataset_latest.csv')"
      ],
      "execution_count": 3,
      "outputs": []
    },
    {
      "cell_type": "code",
      "metadata": {
        "colab": {
          "base_uri": "https://localhost:8080/",
          "height": 243
        },
        "id": "344OSnDu59kK",
        "outputId": "bd051b9f-0a07-4492-fdac-92ae5a025b7a"
      },
      "source": [
        "final_rest_df.head(5)"
      ],
      "execution_count": 5,
      "outputs": [
        {
          "output_type": "execute_result",
          "data": {
            "text/html": [
              "<div>\n",
              "<style scoped>\n",
              "    .dataframe tbody tr th:only-of-type {\n",
              "        vertical-align: middle;\n",
              "    }\n",
              "\n",
              "    .dataframe tbody tr th {\n",
              "        vertical-align: top;\n",
              "    }\n",
              "\n",
              "    .dataframe thead th {\n",
              "        text-align: right;\n",
              "    }\n",
              "</style>\n",
              "<table border=\"1\" class=\"dataframe\">\n",
              "  <thead>\n",
              "    <tr style=\"text-align: right;\">\n",
              "      <th></th>\n",
              "      <th>stars</th>\n",
              "      <th>American</th>\n",
              "      <th>Mexican</th>\n",
              "      <th>Italian</th>\n",
              "      <th>Japanese</th>\n",
              "      <th>Chinese</th>\n",
              "      <th>Thai</th>\n",
              "      <th>Mediterranean</th>\n",
              "      <th>French</th>\n",
              "      <th>Vietnamese</th>\n",
              "      <th>Greek</th>\n",
              "      <th>Indian</th>\n",
              "      <th>Korean</th>\n",
              "      <th>Hawaiian</th>\n",
              "      <th>African</th>\n",
              "      <th>Spanish</th>\n",
              "      <th>Middle Eastern</th>\n",
              "      <th>Other</th>\n",
              "      <th>age</th>\n",
              "      <th>review_count_16_19</th>\n",
              "      <th>review_normalized</th>\n",
              "      <th>pos</th>\n",
              "      <th>neg</th>\n",
              "      <th>neutral</th>\n",
              "      <th>pos_norm</th>\n",
              "      <th>neg_norm</th>\n",
              "      <th>neutral_norm</th>\n",
              "      <th>bi_goodfood_text</th>\n",
              "      <th>bi_goodloc_text</th>\n",
              "      <th>bi_bad_text</th>\n",
              "      <th>Delivery</th>\n",
              "      <th>RestaurantsPriceRange2</th>\n",
              "      <th>OutdoorSeating</th>\n",
              "      <th>HasTV</th>\n",
              "      <th>Touristy</th>\n",
              "      <th>Hipster</th>\n",
              "      <th>Romantic</th>\n",
              "      <th>Divey</th>\n",
              "      <th>Intimate</th>\n",
              "      <th>Trendy</th>\n",
              "      <th>Upscale</th>\n",
              "      <th>Classy</th>\n",
              "      <th>Casual</th>\n",
              "      <th>Alc_None_served</th>\n",
              "      <th>Alc_beer_and_wine</th>\n",
              "      <th>Alc_full_bar</th>\n",
              "      <th>open_breakfast</th>\n",
              "      <th>open_lunch</th>\n",
              "      <th>open_dinner</th>\n",
              "      <th>open_hours_meals</th>\n",
              "      <th>displayed_open_hours</th>\n",
              "      <th>is_crowded</th>\n",
              "      <th>is_chain</th>\n",
              "      <th>is_open</th>\n",
              "      <th>operation_years</th>\n",
              "    </tr>\n",
              "  </thead>\n",
              "  <tbody>\n",
              "    <tr>\n",
              "      <th>0</th>\n",
              "      <td>4.0</td>\n",
              "      <td>0</td>\n",
              "      <td>0</td>\n",
              "      <td>0</td>\n",
              "      <td>0</td>\n",
              "      <td>0</td>\n",
              "      <td>0</td>\n",
              "      <td>1</td>\n",
              "      <td>0</td>\n",
              "      <td>0</td>\n",
              "      <td>0</td>\n",
              "      <td>0</td>\n",
              "      <td>0</td>\n",
              "      <td>0</td>\n",
              "      <td>0</td>\n",
              "      <td>1</td>\n",
              "      <td>0</td>\n",
              "      <td>0</td>\n",
              "      <td>3</td>\n",
              "      <td>34</td>\n",
              "      <td>11.33</td>\n",
              "      <td>23</td>\n",
              "      <td>5</td>\n",
              "      <td>6</td>\n",
              "      <td>7.67</td>\n",
              "      <td>1.67</td>\n",
              "      <td>2.00</td>\n",
              "      <td>0</td>\n",
              "      <td>4</td>\n",
              "      <td>1</td>\n",
              "      <td>1</td>\n",
              "      <td>2</td>\n",
              "      <td>1</td>\n",
              "      <td>1</td>\n",
              "      <td>0</td>\n",
              "      <td>0</td>\n",
              "      <td>0</td>\n",
              "      <td>0</td>\n",
              "      <td>0</td>\n",
              "      <td>0</td>\n",
              "      <td>0</td>\n",
              "      <td>0</td>\n",
              "      <td>1</td>\n",
              "      <td>0</td>\n",
              "      <td>1</td>\n",
              "      <td>0</td>\n",
              "      <td>0</td>\n",
              "      <td>1</td>\n",
              "      <td>1</td>\n",
              "      <td>2</td>\n",
              "      <td>1</td>\n",
              "      <td>1</td>\n",
              "      <td>0</td>\n",
              "      <td>1</td>\n",
              "      <td>1</td>\n",
              "    </tr>\n",
              "    <tr>\n",
              "      <th>1</th>\n",
              "      <td>3.5</td>\n",
              "      <td>0</td>\n",
              "      <td>0</td>\n",
              "      <td>0</td>\n",
              "      <td>0</td>\n",
              "      <td>0</td>\n",
              "      <td>0</td>\n",
              "      <td>0</td>\n",
              "      <td>0</td>\n",
              "      <td>0</td>\n",
              "      <td>0</td>\n",
              "      <td>0</td>\n",
              "      <td>0</td>\n",
              "      <td>0</td>\n",
              "      <td>0</td>\n",
              "      <td>0</td>\n",
              "      <td>0</td>\n",
              "      <td>1</td>\n",
              "      <td>10</td>\n",
              "      <td>5</td>\n",
              "      <td>0.50</td>\n",
              "      <td>4</td>\n",
              "      <td>1</td>\n",
              "      <td>0</td>\n",
              "      <td>0.40</td>\n",
              "      <td>0.10</td>\n",
              "      <td>0.00</td>\n",
              "      <td>2</td>\n",
              "      <td>0</td>\n",
              "      <td>0</td>\n",
              "      <td>0</td>\n",
              "      <td>2</td>\n",
              "      <td>1</td>\n",
              "      <td>1</td>\n",
              "      <td>0</td>\n",
              "      <td>0</td>\n",
              "      <td>0</td>\n",
              "      <td>0</td>\n",
              "      <td>0</td>\n",
              "      <td>0</td>\n",
              "      <td>0</td>\n",
              "      <td>0</td>\n",
              "      <td>0</td>\n",
              "      <td>0</td>\n",
              "      <td>0</td>\n",
              "      <td>1</td>\n",
              "      <td>0</td>\n",
              "      <td>0</td>\n",
              "      <td>0</td>\n",
              "      <td>0</td>\n",
              "      <td>0</td>\n",
              "      <td>1</td>\n",
              "      <td>0</td>\n",
              "      <td>1</td>\n",
              "      <td>3</td>\n",
              "    </tr>\n",
              "    <tr>\n",
              "      <th>2</th>\n",
              "      <td>4.0</td>\n",
              "      <td>1</td>\n",
              "      <td>0</td>\n",
              "      <td>0</td>\n",
              "      <td>0</td>\n",
              "      <td>0</td>\n",
              "      <td>0</td>\n",
              "      <td>0</td>\n",
              "      <td>0</td>\n",
              "      <td>0</td>\n",
              "      <td>0</td>\n",
              "      <td>0</td>\n",
              "      <td>0</td>\n",
              "      <td>0</td>\n",
              "      <td>0</td>\n",
              "      <td>0</td>\n",
              "      <td>0</td>\n",
              "      <td>0</td>\n",
              "      <td>5</td>\n",
              "      <td>74</td>\n",
              "      <td>14.80</td>\n",
              "      <td>53</td>\n",
              "      <td>14</td>\n",
              "      <td>7</td>\n",
              "      <td>10.60</td>\n",
              "      <td>2.80</td>\n",
              "      <td>1.40</td>\n",
              "      <td>6</td>\n",
              "      <td>3</td>\n",
              "      <td>2</td>\n",
              "      <td>1</td>\n",
              "      <td>2</td>\n",
              "      <td>1</td>\n",
              "      <td>1</td>\n",
              "      <td>0</td>\n",
              "      <td>0</td>\n",
              "      <td>0</td>\n",
              "      <td>1</td>\n",
              "      <td>0</td>\n",
              "      <td>0</td>\n",
              "      <td>0</td>\n",
              "      <td>0</td>\n",
              "      <td>1</td>\n",
              "      <td>0</td>\n",
              "      <td>0</td>\n",
              "      <td>1</td>\n",
              "      <td>1</td>\n",
              "      <td>1</td>\n",
              "      <td>1</td>\n",
              "      <td>3</td>\n",
              "      <td>1</td>\n",
              "      <td>1</td>\n",
              "      <td>0</td>\n",
              "      <td>0</td>\n",
              "      <td>0</td>\n",
              "    </tr>\n",
              "    <tr>\n",
              "      <th>3</th>\n",
              "      <td>4.0</td>\n",
              "      <td>1</td>\n",
              "      <td>0</td>\n",
              "      <td>0</td>\n",
              "      <td>0</td>\n",
              "      <td>0</td>\n",
              "      <td>0</td>\n",
              "      <td>0</td>\n",
              "      <td>0</td>\n",
              "      <td>0</td>\n",
              "      <td>0</td>\n",
              "      <td>0</td>\n",
              "      <td>0</td>\n",
              "      <td>0</td>\n",
              "      <td>0</td>\n",
              "      <td>0</td>\n",
              "      <td>0</td>\n",
              "      <td>0</td>\n",
              "      <td>15</td>\n",
              "      <td>216</td>\n",
              "      <td>14.40</td>\n",
              "      <td>163</td>\n",
              "      <td>33</td>\n",
              "      <td>20</td>\n",
              "      <td>10.87</td>\n",
              "      <td>2.20</td>\n",
              "      <td>1.33</td>\n",
              "      <td>30</td>\n",
              "      <td>34</td>\n",
              "      <td>12</td>\n",
              "      <td>0</td>\n",
              "      <td>2</td>\n",
              "      <td>0</td>\n",
              "      <td>0</td>\n",
              "      <td>0</td>\n",
              "      <td>0</td>\n",
              "      <td>0</td>\n",
              "      <td>0</td>\n",
              "      <td>0</td>\n",
              "      <td>0</td>\n",
              "      <td>0</td>\n",
              "      <td>1</td>\n",
              "      <td>0</td>\n",
              "      <td>0</td>\n",
              "      <td>0</td>\n",
              "      <td>1</td>\n",
              "      <td>1</td>\n",
              "      <td>1</td>\n",
              "      <td>0</td>\n",
              "      <td>2</td>\n",
              "      <td>1</td>\n",
              "      <td>1</td>\n",
              "      <td>0</td>\n",
              "      <td>0</td>\n",
              "      <td>0</td>\n",
              "    </tr>\n",
              "    <tr>\n",
              "      <th>4</th>\n",
              "      <td>4.5</td>\n",
              "      <td>0</td>\n",
              "      <td>0</td>\n",
              "      <td>0</td>\n",
              "      <td>0</td>\n",
              "      <td>0</td>\n",
              "      <td>0</td>\n",
              "      <td>1</td>\n",
              "      <td>0</td>\n",
              "      <td>0</td>\n",
              "      <td>0</td>\n",
              "      <td>0</td>\n",
              "      <td>0</td>\n",
              "      <td>0</td>\n",
              "      <td>0</td>\n",
              "      <td>0</td>\n",
              "      <td>0</td>\n",
              "      <td>0</td>\n",
              "      <td>4</td>\n",
              "      <td>14</td>\n",
              "      <td>3.50</td>\n",
              "      <td>13</td>\n",
              "      <td>1</td>\n",
              "      <td>0</td>\n",
              "      <td>3.25</td>\n",
              "      <td>0.25</td>\n",
              "      <td>0.00</td>\n",
              "      <td>4</td>\n",
              "      <td>1</td>\n",
              "      <td>1</td>\n",
              "      <td>1</td>\n",
              "      <td>1</td>\n",
              "      <td>0</td>\n",
              "      <td>0</td>\n",
              "      <td>0</td>\n",
              "      <td>0</td>\n",
              "      <td>0</td>\n",
              "      <td>0</td>\n",
              "      <td>0</td>\n",
              "      <td>0</td>\n",
              "      <td>0</td>\n",
              "      <td>0</td>\n",
              "      <td>0</td>\n",
              "      <td>1</td>\n",
              "      <td>0</td>\n",
              "      <td>0</td>\n",
              "      <td>0</td>\n",
              "      <td>0</td>\n",
              "      <td>1</td>\n",
              "      <td>1</td>\n",
              "      <td>1</td>\n",
              "      <td>1</td>\n",
              "      <td>0</td>\n",
              "      <td>1</td>\n",
              "      <td>3</td>\n",
              "    </tr>\n",
              "  </tbody>\n",
              "</table>\n",
              "</div>"
            ],
            "text/plain": [
              "   stars  American  Mexican  Italian  Japanese  Chinese  Thai  Mediterranean  \\\n",
              "0    4.0         0        0        0         0        0     0              1   \n",
              "1    3.5         0        0        0         0        0     0              0   \n",
              "2    4.0         1        0        0         0        0     0              0   \n",
              "3    4.0         1        0        0         0        0     0              0   \n",
              "4    4.5         0        0        0         0        0     0              1   \n",
              "\n",
              "   French  Vietnamese  Greek  Indian  Korean  Hawaiian  African  Spanish  \\\n",
              "0       0           0      0       0       0         0        0        1   \n",
              "1       0           0      0       0       0         0        0        0   \n",
              "2       0           0      0       0       0         0        0        0   \n",
              "3       0           0      0       0       0         0        0        0   \n",
              "4       0           0      0       0       0         0        0        0   \n",
              "\n",
              "   Middle Eastern  Other  age  review_count_16_19  review_normalized  pos  \\\n",
              "0               0      0    3                  34              11.33   23   \n",
              "1               0      1   10                   5               0.50    4   \n",
              "2               0      0    5                  74              14.80   53   \n",
              "3               0      0   15                 216              14.40  163   \n",
              "4               0      0    4                  14               3.50   13   \n",
              "\n",
              "   neg  neutral  pos_norm  neg_norm  neutral_norm  bi_goodfood_text  \\\n",
              "0    5        6      7.67      1.67          2.00                 0   \n",
              "1    1        0      0.40      0.10          0.00                 2   \n",
              "2   14        7     10.60      2.80          1.40                 6   \n",
              "3   33       20     10.87      2.20          1.33                30   \n",
              "4    1        0      3.25      0.25          0.00                 4   \n",
              "\n",
              "   bi_goodloc_text  bi_bad_text  Delivery  RestaurantsPriceRange2  \\\n",
              "0                4            1         1                       2   \n",
              "1                0            0         0                       2   \n",
              "2                3            2         1                       2   \n",
              "3               34           12         0                       2   \n",
              "4                1            1         1                       1   \n",
              "\n",
              "   OutdoorSeating  HasTV  Touristy  Hipster  Romantic  Divey  Intimate  \\\n",
              "0               1      1         0        0         0      0         0   \n",
              "1               1      1         0        0         0      0         0   \n",
              "2               1      1         0        0         0      1         0   \n",
              "3               0      0         0        0         0      0         0   \n",
              "4               0      0         0        0         0      0         0   \n",
              "\n",
              "   Trendy  Upscale  Classy  Casual  Alc_None_served  Alc_beer_and_wine  \\\n",
              "0       0        0       0       1                0                  1   \n",
              "1       0        0       0       0                0                  0   \n",
              "2       0        0       0       1                0                  0   \n",
              "3       0        0       1       0                0                  0   \n",
              "4       0        0       0       0                1                  0   \n",
              "\n",
              "   Alc_full_bar  open_breakfast  open_lunch  open_dinner  open_hours_meals  \\\n",
              "0             0               0           1            1                 2   \n",
              "1             1               0           0            0                 0   \n",
              "2             1               1           1            1                 3   \n",
              "3             1               1           1            0                 2   \n",
              "4             0               0           0            1                 1   \n",
              "\n",
              "   displayed_open_hours  is_crowded  is_chain  is_open  operation_years  \n",
              "0                     1           1         0        1                1  \n",
              "1                     0           1         0        1                3  \n",
              "2                     1           1         0        0                0  \n",
              "3                     1           1         0        0                0  \n",
              "4                     1           1         0        1                3  "
            ]
          },
          "metadata": {
            "tags": []
          },
          "execution_count": 5
        }
      ]
    },
    {
      "cell_type": "markdown",
      "metadata": {
        "id": "7LFq6fP7QS7c"
      },
      "source": [
        "Dropped age and operation years column as there was data leakage to target variable. And the normalized variables were dropped as the inuition for creating this variable considering the age parameter was not entirely justified. "
      ]
    },
    {
      "cell_type": "code",
      "metadata": {
        "id": "L-6opFsW6ESd"
      },
      "source": [
        "drop_cols= ['age', 'review_normalized', 'pos_norm', 'neg_norm', 'neutral_norm', 'operation_years']"
      ],
      "execution_count": 6,
      "outputs": []
    },
    {
      "cell_type": "code",
      "metadata": {
        "id": "73Z-rNpL6P4i"
      },
      "source": [
        "dict_val= {1:0, 0:1}\n",
        "final_rest_df['is_open']= final_rest_df['is_open'].map(dict_val)\n",
        "df= final_rest_df.drop(drop_cols, axis=1)"
      ],
      "execution_count": 7,
      "outputs": []
    },
    {
      "cell_type": "code",
      "metadata": {
        "colab": {
          "base_uri": "https://localhost:8080/",
          "height": 180
        },
        "id": "dEI14xFF6T-S",
        "outputId": "fced55f5-3c7b-4e24-af76-a7b278ba1abd"
      },
      "source": [
        "df.head(3)"
      ],
      "execution_count": null,
      "outputs": [
        {
          "output_type": "execute_result",
          "data": {
            "text/html": [
              "<div>\n",
              "<style scoped>\n",
              "    .dataframe tbody tr th:only-of-type {\n",
              "        vertical-align: middle;\n",
              "    }\n",
              "\n",
              "    .dataframe tbody tr th {\n",
              "        vertical-align: top;\n",
              "    }\n",
              "\n",
              "    .dataframe thead th {\n",
              "        text-align: right;\n",
              "    }\n",
              "</style>\n",
              "<table border=\"1\" class=\"dataframe\">\n",
              "  <thead>\n",
              "    <tr style=\"text-align: right;\">\n",
              "      <th></th>\n",
              "      <th>stars</th>\n",
              "      <th>American</th>\n",
              "      <th>Mexican</th>\n",
              "      <th>Italian</th>\n",
              "      <th>Japanese</th>\n",
              "      <th>Chinese</th>\n",
              "      <th>Thai</th>\n",
              "      <th>Mediterranean</th>\n",
              "      <th>French</th>\n",
              "      <th>Vietnamese</th>\n",
              "      <th>Greek</th>\n",
              "      <th>Indian</th>\n",
              "      <th>Korean</th>\n",
              "      <th>Hawaiian</th>\n",
              "      <th>African</th>\n",
              "      <th>Spanish</th>\n",
              "      <th>Middle Eastern</th>\n",
              "      <th>Other</th>\n",
              "      <th>review_count_16_19</th>\n",
              "      <th>pos</th>\n",
              "      <th>neg</th>\n",
              "      <th>neutral</th>\n",
              "      <th>bi_goodfood_text</th>\n",
              "      <th>bi_goodloc_text</th>\n",
              "      <th>bi_bad_text</th>\n",
              "      <th>Delivery</th>\n",
              "      <th>RestaurantsPriceRange2</th>\n",
              "      <th>OutdoorSeating</th>\n",
              "      <th>HasTV</th>\n",
              "      <th>Touristy</th>\n",
              "      <th>Hipster</th>\n",
              "      <th>Romantic</th>\n",
              "      <th>Divey</th>\n",
              "      <th>Intimate</th>\n",
              "      <th>Trendy</th>\n",
              "      <th>Upscale</th>\n",
              "      <th>Classy</th>\n",
              "      <th>Casual</th>\n",
              "      <th>Alc_None_served</th>\n",
              "      <th>Alc_beer_and_wine</th>\n",
              "      <th>Alc_full_bar</th>\n",
              "      <th>open_breakfast</th>\n",
              "      <th>open_lunch</th>\n",
              "      <th>open_dinner</th>\n",
              "      <th>open_hours_meals</th>\n",
              "      <th>displayed_open_hours</th>\n",
              "      <th>is_crowded</th>\n",
              "      <th>is_chain</th>\n",
              "      <th>is_open</th>\n",
              "    </tr>\n",
              "  </thead>\n",
              "  <tbody>\n",
              "    <tr>\n",
              "      <th>0</th>\n",
              "      <td>4.0</td>\n",
              "      <td>0</td>\n",
              "      <td>0</td>\n",
              "      <td>0</td>\n",
              "      <td>0</td>\n",
              "      <td>0</td>\n",
              "      <td>0</td>\n",
              "      <td>1</td>\n",
              "      <td>0</td>\n",
              "      <td>0</td>\n",
              "      <td>0</td>\n",
              "      <td>0</td>\n",
              "      <td>0</td>\n",
              "      <td>0</td>\n",
              "      <td>0</td>\n",
              "      <td>1</td>\n",
              "      <td>0</td>\n",
              "      <td>0</td>\n",
              "      <td>34</td>\n",
              "      <td>23</td>\n",
              "      <td>5</td>\n",
              "      <td>6</td>\n",
              "      <td>0</td>\n",
              "      <td>4</td>\n",
              "      <td>1</td>\n",
              "      <td>1</td>\n",
              "      <td>2</td>\n",
              "      <td>1</td>\n",
              "      <td>1</td>\n",
              "      <td>0</td>\n",
              "      <td>0</td>\n",
              "      <td>0</td>\n",
              "      <td>0</td>\n",
              "      <td>0</td>\n",
              "      <td>0</td>\n",
              "      <td>0</td>\n",
              "      <td>0</td>\n",
              "      <td>1</td>\n",
              "      <td>0</td>\n",
              "      <td>1</td>\n",
              "      <td>0</td>\n",
              "      <td>0</td>\n",
              "      <td>1</td>\n",
              "      <td>1</td>\n",
              "      <td>2</td>\n",
              "      <td>1</td>\n",
              "      <td>1</td>\n",
              "      <td>0</td>\n",
              "      <td>0</td>\n",
              "    </tr>\n",
              "    <tr>\n",
              "      <th>1</th>\n",
              "      <td>3.5</td>\n",
              "      <td>0</td>\n",
              "      <td>0</td>\n",
              "      <td>0</td>\n",
              "      <td>0</td>\n",
              "      <td>0</td>\n",
              "      <td>0</td>\n",
              "      <td>0</td>\n",
              "      <td>0</td>\n",
              "      <td>0</td>\n",
              "      <td>0</td>\n",
              "      <td>0</td>\n",
              "      <td>0</td>\n",
              "      <td>0</td>\n",
              "      <td>0</td>\n",
              "      <td>0</td>\n",
              "      <td>0</td>\n",
              "      <td>1</td>\n",
              "      <td>5</td>\n",
              "      <td>4</td>\n",
              "      <td>1</td>\n",
              "      <td>0</td>\n",
              "      <td>2</td>\n",
              "      <td>0</td>\n",
              "      <td>0</td>\n",
              "      <td>0</td>\n",
              "      <td>2</td>\n",
              "      <td>1</td>\n",
              "      <td>1</td>\n",
              "      <td>0</td>\n",
              "      <td>0</td>\n",
              "      <td>0</td>\n",
              "      <td>0</td>\n",
              "      <td>0</td>\n",
              "      <td>0</td>\n",
              "      <td>0</td>\n",
              "      <td>0</td>\n",
              "      <td>0</td>\n",
              "      <td>0</td>\n",
              "      <td>0</td>\n",
              "      <td>1</td>\n",
              "      <td>0</td>\n",
              "      <td>0</td>\n",
              "      <td>0</td>\n",
              "      <td>0</td>\n",
              "      <td>0</td>\n",
              "      <td>1</td>\n",
              "      <td>0</td>\n",
              "      <td>0</td>\n",
              "    </tr>\n",
              "    <tr>\n",
              "      <th>2</th>\n",
              "      <td>4.0</td>\n",
              "      <td>1</td>\n",
              "      <td>0</td>\n",
              "      <td>0</td>\n",
              "      <td>0</td>\n",
              "      <td>0</td>\n",
              "      <td>0</td>\n",
              "      <td>0</td>\n",
              "      <td>0</td>\n",
              "      <td>0</td>\n",
              "      <td>0</td>\n",
              "      <td>0</td>\n",
              "      <td>0</td>\n",
              "      <td>0</td>\n",
              "      <td>0</td>\n",
              "      <td>0</td>\n",
              "      <td>0</td>\n",
              "      <td>0</td>\n",
              "      <td>74</td>\n",
              "      <td>53</td>\n",
              "      <td>14</td>\n",
              "      <td>7</td>\n",
              "      <td>6</td>\n",
              "      <td>3</td>\n",
              "      <td>2</td>\n",
              "      <td>1</td>\n",
              "      <td>2</td>\n",
              "      <td>1</td>\n",
              "      <td>1</td>\n",
              "      <td>0</td>\n",
              "      <td>0</td>\n",
              "      <td>0</td>\n",
              "      <td>1</td>\n",
              "      <td>0</td>\n",
              "      <td>0</td>\n",
              "      <td>0</td>\n",
              "      <td>0</td>\n",
              "      <td>1</td>\n",
              "      <td>0</td>\n",
              "      <td>0</td>\n",
              "      <td>1</td>\n",
              "      <td>1</td>\n",
              "      <td>1</td>\n",
              "      <td>1</td>\n",
              "      <td>3</td>\n",
              "      <td>1</td>\n",
              "      <td>1</td>\n",
              "      <td>0</td>\n",
              "      <td>1</td>\n",
              "    </tr>\n",
              "  </tbody>\n",
              "</table>\n",
              "</div>"
            ],
            "text/plain": [
              "   stars  American  Mexican  Italian  Japanese  Chinese  Thai  Mediterranean  \\\n",
              "0    4.0         0        0        0         0        0     0              1   \n",
              "1    3.5         0        0        0         0        0     0              0   \n",
              "2    4.0         1        0        0         0        0     0              0   \n",
              "\n",
              "   French  Vietnamese  Greek  Indian  Korean  Hawaiian  African  Spanish  \\\n",
              "0       0           0      0       0       0         0        0        1   \n",
              "1       0           0      0       0       0         0        0        0   \n",
              "2       0           0      0       0       0         0        0        0   \n",
              "\n",
              "   Middle Eastern  Other  review_count_16_19  pos  neg  neutral  \\\n",
              "0               0      0                  34   23    5        6   \n",
              "1               0      1                   5    4    1        0   \n",
              "2               0      0                  74   53   14        7   \n",
              "\n",
              "   bi_goodfood_text  bi_goodloc_text  bi_bad_text  Delivery  \\\n",
              "0                 0                4            1         1   \n",
              "1                 2                0            0         0   \n",
              "2                 6                3            2         1   \n",
              "\n",
              "   RestaurantsPriceRange2  OutdoorSeating  HasTV  Touristy  Hipster  Romantic  \\\n",
              "0                       2               1      1         0        0         0   \n",
              "1                       2               1      1         0        0         0   \n",
              "2                       2               1      1         0        0         0   \n",
              "\n",
              "   Divey  Intimate  Trendy  Upscale  Classy  Casual  Alc_None_served  \\\n",
              "0      0         0       0        0       0       1                0   \n",
              "1      0         0       0        0       0       0                0   \n",
              "2      1         0       0        0       0       1                0   \n",
              "\n",
              "   Alc_beer_and_wine  Alc_full_bar  open_breakfast  open_lunch  open_dinner  \\\n",
              "0                  1             0               0           1            1   \n",
              "1                  0             1               0           0            0   \n",
              "2                  0             1               1           1            1   \n",
              "\n",
              "   open_hours_meals  displayed_open_hours  is_crowded  is_chain  is_open  \n",
              "0                 2                     1           1         0        0  \n",
              "1                 0                     0           1         0        0  \n",
              "2                 3                     1           1         0        1  "
            ]
          },
          "metadata": {
            "tags": []
          },
          "execution_count": 7
        }
      ]
    },
    {
      "cell_type": "markdown",
      "metadata": {
        "id": "zoE625mwUaGJ"
      },
      "source": [
        "### Correlation"
      ]
    },
    {
      "cell_type": "code",
      "metadata": {
        "id": "KljjsuPxTZBS"
      },
      "source": [
        "# https://towardsdatascience.com/feature-selection-correlation-and-p-value-da8921bfb3cf"
      ],
      "execution_count": null,
      "outputs": []
    },
    {
      "cell_type": "code",
      "metadata": {
        "colab": {
          "base_uri": "https://localhost:8080/",
          "height": 601
        },
        "id": "Hu_xQEBNWUj3",
        "outputId": "01da0c3b-6462-46af-bdc7-158639f745c3"
      },
      "source": [
        "corr = df.corr()\n",
        "fig = plt.figure(figsize=(16,8))\n",
        "ax = fig.add_subplot(111)\n",
        "cax = ax.matshow(corr,cmap='coolwarm', vmin=-1, vmax=1)\n",
        "fig.colorbar(cax)\n",
        "ticks = np.arange(0,len(df.columns),1)\n",
        "ax.set_xticks(ticks)\n",
        "plt.xticks(rotation=90)\n",
        "ax.set_yticks(ticks)\n",
        "ax.set_xticklabels(df.columns)\n",
        "ax.set_yticklabels(df.columns)\n",
        "plt.show()"
      ],
      "execution_count": null,
      "outputs": [
        {
          "output_type": "display_data",
          "data": {
            "image/png": "[encoded data removed]",
            "text/plain": [
              "<Figure size 1152x576 with 2 Axes>"
            ]
          },
          "metadata": {
            "tags": []
          }
        }
      ]
    },
    {
      "cell_type": "code",
      "metadata": {
        "id": "LnJZRxdMflTB"
      },
      "source": [
        "cols_drop= ['pos', 'neg', 'neutral', 'bi_goodfood_text', 'bi_goodloc_text', 'bi_bad_text', 'HasTV', 'open_hours_meals', 'displayed_open_hours'] #review_count_16_19 # \n",
        "df_new = df.drop(cols_drop, axis=1)"
      ],
      "execution_count": 8,
      "outputs": []
    },
    {
      "cell_type": "code",
      "metadata": {
        "colab": {
          "base_uri": "https://localhost:8080/",
          "height": 601
        },
        "id": "la5gVs21f0pq",
        "outputId": "58f55743-234b-4eac-e2bf-3a00b3b99061"
      },
      "source": [
        "corr = df_new.corr()\n",
        "fig = plt.figure(figsize=(16,8))\n",
        "ax = fig.add_subplot(111)\n",
        "cax = ax.matshow(corr,cmap='coolwarm', vmin=-1, vmax=1)\n",
        "fig.colorbar(cax)\n",
        "ticks = np.arange(0,len(df_new.columns),1)\n",
        "ax.set_xticks(ticks)\n",
        "plt.xticks(rotation=90)\n",
        "ax.set_yticks(ticks)\n",
        "ax.set_xticklabels(df_new.columns)\n",
        "ax.set_yticklabels(df_new.columns)\n",
        "plt.show()"
      ],
      "execution_count": null,
      "outputs": [
        {
          "output_type": "display_data",
          "data": {
            "image/png": "[encoded data removed]",
            "text/plain": [
              "<Figure size 1152x576 with 2 Axes>"
            ]
          },
          "metadata": {
            "tags": []
          }
        }
      ]
    },
    {
      "cell_type": "markdown",
      "metadata": {
        "id": "UZu60W1vUs_e"
      },
      "source": [
        "#### Scaling"
      ]
    },
    {
      "cell_type": "code",
      "metadata": {
        "id": "smCgmEq0Hs0F"
      },
      "source": [
        "def scaling_func(x_train, x_test, category_cols):\n",
        "    x_train_scale= x_train[num_feature]\n",
        "    x_test_scale= x_test[num_feature]\n",
        "\n",
        "    #filter categorical columns\n",
        "    cat_train= x_train[category_cols]\n",
        "    cat_test= x_test[category_cols]\n",
        "\n",
        "    scaler = StandardScaler()\n",
        "    train_trans= scaler.fit_transform(x_train_scale.values)\n",
        "    test_trans= scaler.transform(x_test_scale)\n",
        "    x_train_scale.iloc[:][:]= train_trans\n",
        "    x_test_scale.iloc[:][:]= test_trans\n",
        "\n",
        "    #Concat numerical scaled cols to category columns\n",
        "    scale_train= pd.concat([x_train_scale, cat_train], axis=1, ignore_index=True)\n",
        "    scale_test= pd.concat([x_test_scale, cat_test], axis=1, ignore_index=True)\n",
        "\n",
        "    return scale_train.values, scale_test.values"
      ],
      "execution_count": 9,
      "outputs": []
    },
    {
      "cell_type": "markdown",
      "metadata": {
        "id": "piFTBkhMVXHC"
      },
      "source": [
        "#### ANN"
      ]
    },
    {
      "cell_type": "code",
      "metadata": {
        "id": "VT6U566K-YOJ"
      },
      "source": [
        "def model_train(X_train, Y_train, X_val, Y_val, epochs, neurons, batch, act_func, lrate=None):\n",
        "    # define model\n",
        "    initializer = tf.keras.initializers.GlorotNormal() #seed=42)\n",
        "    opt= tf.keras.optimizers.Adam(learning_rate=0.00001)\n",
        "    model = Sequential()\n",
        "    model.add(Dense(neurons, input_dim=X_train.shape[1], activation=act_func, kernel_initializer=initializer))\n",
        "    #model.add(Dropout(0.1)))\n",
        "    model.add(Dense(1, activation='sigmoid'))\n",
        "    model.compile(loss='binary_crossentropy',optimizer=opt,metrics=['accuracy'])\n",
        "    \n",
        "    history= model.fit(X_train, Y_train, epochs=epochs, batch_size= batch, validation_data=(X_val, Y_val), shuffle= True, verbose=0) #, callbacks=callbacks)\n",
        "    return model, history"
      ],
      "execution_count": 10,
      "outputs": []
    },
    {
      "cell_type": "markdown",
      "metadata": {
        "id": "8wz2Qc_sJDJS"
      },
      "source": [
        "#### With dropped co-related features:"
      ]
    },
    {
      "cell_type": "code",
      "metadata": {
        "id": "2zhUb3cw-s8L"
      },
      "source": [
        "from sklearn.model_selection import StratifiedKFold"
      ],
      "execution_count": 11,
      "outputs": []
    },
    {
      "cell_type": "code",
      "metadata": {
        "colab": {
          "base_uri": "https://localhost:8080/"
        },
        "id": "fZeAY7KKJ-NI",
        "outputId": "25436685-b50d-48b0-faf4-dfc528141040"
      },
      "source": [
        "#scale only numerical columns:\n",
        "\n",
        "num_feature= ['stars', 'review_count_16_19', 'RestaurantsPriceRange2']\n",
        "\n",
        "x_train_cols= list(df_new.columns)\n",
        "category_cols= []\n",
        "\n",
        "for i in x_train_cols:\n",
        "    if i not in num_feature:\n",
        "        category_cols.append(i)\n",
        "\n",
        "category_cols= category_cols[:-1]\n",
        "print(category_cols)"
      ],
      "execution_count": 12,
      "outputs": [
        {
          "output_type": "stream",
          "text": [
            "['American', 'Mexican', 'Italian', 'Japanese', 'Chinese', 'Thai', 'Mediterranean', 'French', 'Vietnamese', 'Greek', 'Indian', 'Korean', 'Hawaiian', 'African', 'Spanish', 'Middle Eastern', 'Other', 'Delivery', 'OutdoorSeating', 'Touristy', 'Hipster', 'Romantic', 'Divey', 'Intimate', 'Trendy', 'Upscale', 'Classy', 'Casual', 'Alc_None_served', 'Alc_beer_and_wine', 'Alc_full_bar', 'open_breakfast', 'open_lunch', 'open_dinner', 'is_crowded', 'is_chain']\n"
          ],
          "name": "stdout"
        }
      ]
    },
    {
      "cell_type": "code",
      "metadata": {
        "id": "cSSvNadBYtxt"
      },
      "source": [
        "features= df_new.iloc[:,:-1]\n",
        "labels= df_new.iloc[:,-1].values\n",
        "x_train, x_test, y_train, y_test= train_test_split(features, labels, test_size=0.20, random_state=37)  \n",
        "\n",
        "x_train.reset_index(drop=True, inplace=True)\n",
        "x_test.reset_index(drop=True, inplace=True)\n",
        "scale_train, scale_test= scaling_func(x_train, x_test, category_cols)"
      ],
      "execution_count": 13,
      "outputs": []
    },
    {
      "cell_type": "code",
      "metadata": {
        "id": "_-5BdvB2wtiq"
      },
      "source": [
        "def run_cross_validation(X, Y, acc_list, plots_enabled=False, return_model=False, predict_test=False, x_test=None, y_test=None, test_acc=None, roc=False):\n",
        "    skf = StratifiedKFold(n_splits = 5, random_state = 7, shuffle = True) \n",
        "    ctr=1\n",
        "    yhat_prob_list= []\n",
        "    for train_index, val_index in skf.split(X, Y):\n",
        "\n",
        "        print('Running for K= ', ctr)\n",
        "        X_train, X_val = X[train_index], X[val_index]\n",
        "        Y_train, Y_val = Y[train_index], Y[val_index]\n",
        "        model, history= model_train(X_train, Y_train, X_val, Y_val, 300, 200, 64, 'tanh')\n",
        "    \n",
        "        ######plots\n",
        "        if plots_enabled:\n",
        "            fig, axs= plt.subplots(1,2)\n",
        "            fig.suptitle(f\"For K= {ctr}\")\n",
        "            axs[0].plot(history.history['loss'], label='train')\n",
        "            axs[0].plot(history.history['val_loss'], label='validation')\n",
        "            axs[0].title.set_text('Loss Plot')\n",
        "            axs[0].legend()\n",
        "            axs[1].plot(history.history['accuracy'], label='train')\n",
        "            axs[1].plot(history.history['val_accuracy'], label='validation')\n",
        "            axs[1].title.set_text('accuracy Plot')\n",
        "            axs[1].legend()\n",
        "            plt.show()\n",
        "\n",
        "        acc_list.append(history.history['val_accuracy'][-1]) \n",
        "\n",
        "        if predict_test:\n",
        "            yhat_probs = model.predict(x_test, verbose=0)\n",
        "            yhat_probs = yhat_probs[:, 0]\n",
        "            yhat_classes = 1*(yhat_probs > 0.5)\n",
        "            accuracy = accuracy_score(y_test, yhat_classes) \n",
        "            #print('accuracy: ', accuracy)\n",
        "            test_acc.append(accuracy)\n",
        "            #matrix = confusion_matrix(y_test, yhat_classes)\n",
        "            #print('Confusion matrix: ')\n",
        "            #print(matrix)\n",
        "            #print()\n",
        "        \n",
        "            if roc:\n",
        "                yhat_prob_list.append(yhat_probs)\n",
        "\n",
        "        ctr+=1\n",
        "    \n",
        "    if (return_model and predict_test):\n",
        "        yhat_probs = model.predict(x_test, verbose=0)\n",
        "        yhat_probs = yhat_probs[:, 0]\n",
        "        yhat_classes = 1*(yhat_probs > 0.5)\n",
        "        accuracy = accuracy_score(y_test, yhat_classes) \n",
        "        print('accuracy: ', accuracy)\n",
        "        return model, history, acc_list, test_acc, yhat_prob_list\n",
        "    if return_model:\n",
        "        return model, history, acc_list\n",
        "\n",
        "    return acc_list"
      ],
      "execution_count": 113,
      "outputs": []
    },
    {
      "cell_type": "markdown",
      "metadata": {
        "id": "QEtWIf7JeYGW"
      },
      "source": [
        "#### Undersample majority class (Accuracy):"
      ]
    },
    {
      "cell_type": "code",
      "metadata": {
        "id": "0yy1L3B4ecwg"
      },
      "source": [
        "from imblearn.under_sampling import NearMiss \n",
        "from collections import Counter\n",
        "from imblearn.under_sampling import CondensedNearestNeighbour\n",
        "from imblearn.under_sampling import TomekLinks\n",
        "from imblearn.under_sampling import NeighbourhoodCleaningRule\n",
        "import warnings\n",
        "warnings.simplefilter(action='ignore', category=FutureWarning)"
      ],
      "execution_count": null,
      "outputs": []
    },
    {
      "cell_type": "markdown",
      "metadata": {
        "id": "dxfS4PVflI3Q"
      },
      "source": [
        "NearMiss:"
      ]
    },
    {
      "cell_type": "code",
      "metadata": {
        "colab": {
          "base_uri": "https://localhost:8080/"
        },
        "id": "GfQDeCA7etR8",
        "outputId": "16b0065e-5b2f-4e3e-9260-8d1c22a1bfa0"
      },
      "source": [
        "c=Counter(y_train)\n",
        "print(c)\n",
        "nr = NearMiss(version=3, n_neighbors_ver3=3)\n",
        "X_near, Y_near= nr.fit_sample(scale_train, y_train) \n",
        "c=Counter(Y_near)\n",
        "print(c)\n",
        "\n",
        "near_accuracy=[]\n",
        "plots_enabled= False\n",
        "\n",
        "mod, hist, near_accuracy= run_cross_validation(X_near, Y_near, near_accuracy, plots_enabled, True)"
      ],
      "execution_count": 27,
      "outputs": [
        {
          "output_type": "stream",
          "text": [
            "Counter({0: 1839, 1: 467})\n",
            "Counter({0: 467, 1: 467})\n",
            "Running for K=  1\n",
            "Running for K=  2\n",
            "Running for K=  3\n",
            "Running for K=  4\n",
            "Running for K=  5\n"
          ],
          "name": "stdout"
        }
      ]
    },
    {
      "cell_type": "markdown",
      "metadata": {
        "id": "XIJjZjO0mJj3"
      },
      "source": [
        "Condensed Nearest Neighbour:"
      ]
    },
    {
      "cell_type": "code",
      "metadata": {
        "colab": {
          "base_uri": "https://localhost:8080/"
        },
        "id": "NG9JCszDlYvZ",
        "outputId": "dccbbf18-b18f-4df3-a6ad-2190654bd520"
      },
      "source": [
        "# define the undersampling method\n",
        "c=Counter(y_train)\n",
        "undersample = CondensedNearestNeighbour(n_neighbors=2)\n",
        "# transform the dataset\n",
        "X_cnn, Y_cnn= undersample.fit_resample(scale_train, y_train)\n",
        "\n",
        "# summarize the new class distribution\n",
        "counter = Counter(Y_cnn)\n",
        "print(counter)"
      ],
      "execution_count": 19,
      "outputs": [
        {
          "output_type": "stream",
          "text": [
            "Counter({1: 467, 0: 368})\n"
          ],
          "name": "stdout"
        }
      ]
    },
    {
      "cell_type": "code",
      "metadata": {
        "colab": {
          "base_uri": "https://localhost:8080/"
        },
        "id": "M_bZxgZLmabg",
        "outputId": "933845e5-c539-4e4b-b554-97e35029c193"
      },
      "source": [
        "cnn_accuracy=[]\n",
        "plots_enabled= False\n",
        "\n",
        "mod, hist, cnn_accuracy= run_cross_validation(X_cnn, Y_cnn, cnn_accuracy, plots_enabled, True)"
      ],
      "execution_count": 21,
      "outputs": [
        {
          "output_type": "stream",
          "text": [
            "Running for K=  1\n",
            "Running for K=  2\n",
            "Running for K=  3\n",
            "Running for K=  4\n",
            "Running for K=  5\n"
          ],
          "name": "stdout"
        }
      ]
    },
    {
      "cell_type": "code",
      "metadata": {
        "id": "6TWjzlHwNw6Q"
      },
      "source": [
        "def run_cross_validation_f1_score(X, Y, acc_list, plots_enabled=False, return_model= False):\n",
        "    skf = StratifiedKFold(n_splits = 5, shuffle = True) \n",
        "    ctr=1\n",
        "    for train_index, val_index in skf.split(X, Y):\n",
        "\n",
        "        print('Running for K= ', ctr)\n",
        "        X_train, X_val = X[train_index], X[val_index]\n",
        "        Y_train, Y_val = Y[train_index], Y[val_index]\n",
        "\n",
        "        #print(X_train.shape, X_val.shape, Y_train.shape, Y_val.shape)\n",
        "        model, history= model_train(X_train, Y_train, X_val, Y_val, 300, 200, 16, 'tanh')\n",
        "    \n",
        "        ######plots\n",
        "        if plots_enabled:\n",
        "            fig, axs= plt.subplots(1,1)\n",
        "            fig.suptitle(f\"For K= {ctr}\")\n",
        "            axs.plot(history.history['loss'], label='train')\n",
        "            axs.plot(history.history['val_loss'], label='validation')\n",
        "            axs.title.set_text('Loss Plot')\n",
        "            axs.legend()\n",
        "            plt.show()\n",
        "        \n",
        "        ## predict probabilities for test set\n",
        "        yhat_probs = model.predict(X_val, verbose=0)\n",
        "        yhat_probs = yhat_probs[:, 0]\n",
        "        # predict crisp classes for test set\n",
        "        yhat_classes = 1*(yhat_probs > 0.5)       \n",
        "        # f1: 2 tp / (2 tp + fp + fn)\n",
        "        f1 = f1_score(Y_val, yhat_classes)\n",
        "\n",
        "        acc_list.append(f1) \n",
        "        ctr+=1\n",
        "\n",
        "        #if return_model:\n",
        "        #    print('ff')\n",
        "        #    matrix = confusion_matrix(Y_val, yhat_classes)\n",
        "        #    sns.heatmap(matrix, annot=True)\n",
        "        #    plt.show()\n",
        "    if return_model:\n",
        "        return model,history, acc_list\n",
        "    return acc_list"
      ],
      "execution_count": 23,
      "outputs": []
    },
    {
      "cell_type": "markdown",
      "metadata": {
        "id": "Od0ZTHgpmeU8"
      },
      "source": [
        "Tomek Links"
      ]
    },
    {
      "cell_type": "code",
      "metadata": {
        "colab": {
          "base_uri": "https://localhost:8080/"
        },
        "id": "WxJW4EHjOZI3",
        "outputId": "94d427d3-4440-4383-c6c9-58a477fb665d"
      },
      "source": [
        "# define the undersampling method\n",
        "undersample = TomekLinks()\n",
        "# transform the dataset\n",
        "X_toml, Y_toml= undersample.fit_resample(scale_train, y_train)\n",
        "counter = Counter(Y_toml)\n",
        "print(counter)"
      ],
      "execution_count": 24,
      "outputs": [
        {
          "output_type": "stream",
          "text": [
            "Counter({0: 1719, 1: 467})\n"
          ],
          "name": "stdout"
        }
      ]
    },
    {
      "cell_type": "code",
      "metadata": {
        "colab": {
          "base_uri": "https://localhost:8080/"
        },
        "id": "T5r1lvY8mWjW",
        "outputId": "a90a52d4-16b0-4204-a1d8-024dac4efef3"
      },
      "source": [
        "toml_f1=[]\n",
        "plots_enabled= False\n",
        "\n",
        "mod, hist,toml_f1= run_cross_validation_f1_score(X_toml, Y_toml, toml_f1, plots_enabled, True)"
      ],
      "execution_count": 25,
      "outputs": [
        {
          "output_type": "stream",
          "text": [
            "Running for K=  1\n",
            "Running for K=  2\n",
            "Running for K=  3\n",
            "Running for K=  4\n",
            "Running for K=  5\n"
          ],
          "name": "stdout"
        }
      ]
    },
    {
      "cell_type": "markdown",
      "metadata": {
        "id": "WOkYsTdgm3kX"
      },
      "source": [
        "Neighbourhood cleaning Rule:"
      ]
    },
    {
      "cell_type": "code",
      "metadata": {
        "colab": {
          "base_uri": "https://localhost:8080/"
        },
        "id": "i_Pd7lt1wktY",
        "outputId": "8e5c2851-d5a0-446b-cfaa-e8b16c50cb8e"
      },
      "source": [
        "# define the undersampling method\n",
        "c=Counter(y_train)\n",
        "undersample = NeighbourhoodCleaningRule(n_neighbors=3, threshold_cleaning=0.5)\n",
        "# transform the dataset\n",
        "print('Before: ',c)\n",
        "X_ncr, Y_ncr= undersample.fit_resample(scale_train, y_train)\n",
        "counter = Counter(Y_ncr)\n",
        "print('After: ',counter)"
      ],
      "execution_count": 28,
      "outputs": [
        {
          "output_type": "stream",
          "text": [
            "Before:  Counter({0: 1839, 1: 467})\n",
            "After:  Counter({0: 1208, 1: 467})\n"
          ],
          "name": "stdout"
        }
      ]
    },
    {
      "cell_type": "code",
      "metadata": {
        "colab": {
          "base_uri": "https://localhost:8080/"
        },
        "id": "4kkDZGbsm9Ql",
        "outputId": "581fd701-2bdb-43ac-844e-2309fa653ace"
      },
      "source": [
        "ncr_f1=[]\n",
        "plots_enabled= False\n",
        "\n",
        "mod, hist,ncr_f1= run_cross_validation_f1_score(X_ncr, Y_ncr, ncr_f1, plots_enabled, True)"
      ],
      "execution_count": 30,
      "outputs": [
        {
          "output_type": "stream",
          "text": [
            "Running for K=  1\n",
            "Running for K=  2\n",
            "Running for K=  3\n",
            "Running for K=  4\n",
            "Running for K=  5\n"
          ],
          "name": "stdout"
        }
      ]
    },
    {
      "cell_type": "code",
      "metadata": {
        "id": "gS-g1vIWrDc-"
      },
      "source": [
        "near_arr= np.array(near_accuracy)\n",
        "cnn_arr= np.array(cnn_accuracy)\n",
        "toml_arr= np.array(toml_f1)\n",
        "ncr_arr= np.array(ncr_f1)\n",
        "\n",
        "CTEs = [near_arr.mean(), cnn_arr.mean()]\n",
        "error = [near_arr.std(), cnn_arr.std()]"
      ],
      "execution_count": 93,
      "outputs": []
    },
    {
      "cell_type": "code",
      "metadata": {
        "colab": {
          "base_uri": "https://localhost:8080/",
          "height": 413
        },
        "id": "UueXsMdakjiS",
        "outputId": "07fc6714-cb29-4b92-ef28-ae9460840834"
      },
      "source": [
        "labels= ['Near Miss', \"CNN\"]\n",
        "x_pos = np.arange(len(labels))\n",
        "fig, ax = plt.subplots(figsize=(6,6))\n",
        "ax.bar(x_pos, CTEs, yerr=error, align='center', alpha=0.5, ecolor='black', capsize=80)\n",
        "ax.set_ylabel('Validation Accuracy')\n",
        "ax.set_xticks(x_pos)\n",
        "ax.set_xticklabels(ax.get_xticks(), rotation = 30)\n",
        "ax.set_xticklabels(labels)\n",
        "ax.set_title('Accuracy with error bars')\n",
        "ax.yaxis.grid(True)\n",
        "plt.show()"
      ],
      "execution_count": 94,
      "outputs": [
        {
          "output_type": "display_data",
          "data": {
            "image/png": "[encoded data removed]",
            "text/plain": [
              "<Figure size 432x432 with 1 Axes>"
            ]
          },
          "metadata": {
            "tags": [],
            "needs_background": "light"
          }
        }
      ]
    },
    {
      "cell_type": "code",
      "metadata": {
        "colab": {
          "base_uri": "https://localhost:8080/"
        },
        "id": "vcVrSOArTIYb",
        "outputId": "1b039f61-b2f4-422c-d2e8-bdca0b80ea9e"
      },
      "source": [
        "yhat_probs = mod.predict(scale_test, verbose=0)\n",
        "yhat_probs = yhat_probs[:, 0]\n",
        "yhat_classes = 1*(yhat_probs > 0.5)\n",
        "accuracy = accuracy_score(y_test, yhat_classes) \n",
        "print('accuracy: ', accuracy)"
      ],
      "execution_count": 39,
      "outputs": [
        {
          "output_type": "stream",
          "text": [
            "accuracy:  0.7816291161178509\n"
          ],
          "name": "stdout"
        }
      ]
    },
    {
      "cell_type": "code",
      "metadata": {
        "colab": {
          "base_uri": "https://localhost:8080/"
        },
        "id": "hhYfm6HuTKQz",
        "outputId": "d9c70073-b566-4df2-f574-49d4b20406c0"
      },
      "source": [
        "# precision tp / (tp + fp)\n",
        "precision = precision_score(y_test, yhat_classes)\n",
        "print('Precision: %f' % precision)\n",
        "# recall: tp / (tp + fn)\n",
        "recall = recall_score(y_test, yhat_classes)\n",
        "print('Recall: %f' % recall)\n",
        "# f1: 2 tp / (2 tp + fp + fn)\n",
        "f1 = f1_score(y_test, yhat_classes)\n",
        "print('F1 score: %f' % f1)\n",
        "# confusion matrix\n",
        "matrix = confusion_matrix(y_test, yhat_classes)\n",
        "print('Confusion matrix: ')\n",
        "print(matrix)"
      ],
      "execution_count": 40,
      "outputs": [
        {
          "output_type": "stream",
          "text": [
            "Precision: 0.463576\n",
            "Recall: 0.608696\n",
            "F1 score: 0.526316\n",
            "Confusion matrix: \n",
            "[[381  81]\n",
            " [ 45  70]]\n"
          ],
          "name": "stdout"
        }
      ]
    },
    {
      "cell_type": "code",
      "metadata": {
        "id": "5MlTMse_RJRy"
      },
      "source": [
        "CTEs = [toml_arr.mean(), ncr_arr.mean()]\n",
        "error = [toml_arr.std(), ncr_arr.std()]"
      ],
      "execution_count": 95,
      "outputs": []
    },
    {
      "cell_type": "code",
      "metadata": {
        "colab": {
          "base_uri": "https://localhost:8080/",
          "height": 419
        },
        "id": "oc2jdztIRKaE",
        "outputId": "228d0ee4-de69-4af6-8dec-db12e1ec37c4"
      },
      "source": [
        "labels= ['Tomek Links', \"NCR\"]\n",
        "x_pos = np.arange(len(labels))\n",
        "fig, ax = plt.subplots(figsize=(6,6))\n",
        "ax.bar(x_pos, CTEs, yerr=error, align='center', alpha=0.5, ecolor='black', capsize=10)\n",
        "ax.set_ylabel('Validation F1 score')\n",
        "ax.set_xticks(x_pos)\n",
        "ax.set_xticklabels(ax.get_xticks(), rotation = 30)\n",
        "ax.set_xticklabels(labels)\n",
        "ax.set_title('F1 score with error bars')\n",
        "ax.yaxis.grid(True)\n",
        "plt.show()"
      ],
      "execution_count": 96,
      "outputs": [
        {
          "output_type": "display_data",
          "data": {
            "image/png": "[encoded data removed]",
            "text/plain": [
              "<Figure size 432x432 with 1 Axes>"
            ]
          },
          "metadata": {
            "tags": [],
            "needs_background": "light"
          }
        }
      ]
    },
    {
      "cell_type": "markdown",
      "metadata": {
        "id": "Wep_dv2Wfv64"
      },
      "source": [
        "#### Considering 'total count' and dropping 'pos' 'neg' 'neutral':"
      ]
    },
    {
      "cell_type": "code",
      "metadata": {
        "id": "xwn4cJw_GDtR"
      },
      "source": [
        "cols_drop= ['pos', 'neg', 'neutral', 'bi_goodfood_text', 'bi_goodloc_text', 'bi_bad_text', 'HasTV', 'open_hours_meals', 'displayed_open_hours']\n",
        "\n",
        "df_new = df.drop(cols_drop, axis=1)"
      ],
      "execution_count": 41,
      "outputs": []
    },
    {
      "cell_type": "code",
      "metadata": {
        "colab": {
          "base_uri": "https://localhost:8080/"
        },
        "id": "Fgmg4GIUGFgu",
        "outputId": "beeae865-ad5c-41c8-a1dd-1ccffad35564"
      },
      "source": [
        "#scale only numerical columns:\n",
        "num_feature= ['stars', 'review_count_16_19', 'RestaurantsPriceRange2']\n",
        "\n",
        "x_train_cols= list(df_new.columns)\n",
        "category_cols= []\n",
        "\n",
        "for i in x_train_cols:\n",
        "    if i not in num_feature:\n",
        "        category_cols.append(i)\n",
        "\n",
        "category_cols= category_cols[:-1]\n",
        "print(category_cols)\n",
        "\n",
        "\n",
        "features= df_new.iloc[:,:-1]\n",
        "labels= df_new.iloc[:,-1].values\n",
        "x_train, x_test, y_train, y_test= train_test_split(features, labels, test_size=0.20, random_state=37)  \n",
        "\n",
        "x_train.reset_index(drop=True, inplace=True)\n",
        "x_test.reset_index(drop=True, inplace=True)\n",
        "scale_train, scale_test= scaling_func(x_train, x_test, category_cols)\n",
        "\n",
        "c=Counter(y_train)\n",
        "print(c)\n",
        "nr = NearMiss(version=3)\n",
        "X_near, Y_near= nr.fit_sample(scale_train, y_train) \n",
        "c=Counter(Y_near)\n",
        "print(c)\n"
      ],
      "execution_count": 42,
      "outputs": [
        {
          "output_type": "stream",
          "text": [
            "['American', 'Mexican', 'Italian', 'Japanese', 'Chinese', 'Thai', 'Mediterranean', 'French', 'Vietnamese', 'Greek', 'Indian', 'Korean', 'Hawaiian', 'African', 'Spanish', 'Middle Eastern', 'Other', 'Delivery', 'OutdoorSeating', 'Touristy', 'Hipster', 'Romantic', 'Divey', 'Intimate', 'Trendy', 'Upscale', 'Classy', 'Casual', 'Alc_None_served', 'Alc_beer_and_wine', 'Alc_full_bar', 'open_breakfast', 'open_lunch', 'open_dinner', 'is_crowded', 'is_chain']\n",
            "Counter({0: 1839, 1: 467})\n",
            "Counter({0: 467, 1: 467})\n"
          ],
          "name": "stdout"
        }
      ]
    },
    {
      "cell_type": "code",
      "metadata": {
        "colab": {
          "base_uri": "https://localhost:8080/"
        },
        "id": "zO4x2R8E3hdL",
        "outputId": "41f1d31c-de9b-4209-b6c6-f4cae6ebcf9c"
      },
      "source": [
        "acc_case1=[]\n",
        "plots_enabled= False\n",
        "\n",
        "mod, hist, acc_case1= run_cross_validation(X_near, Y_near, acc_case1, plots_enabled, True)"
      ],
      "execution_count": 47,
      "outputs": [
        {
          "output_type": "stream",
          "text": [
            "Running for K=  1\n",
            "Running for K=  2\n",
            "Running for K=  3\n",
            "Running for K=  4\n",
            "Running for K=  5\n"
          ],
          "name": "stdout"
        }
      ]
    },
    {
      "cell_type": "markdown",
      "metadata": {
        "id": "CYUOvKxDuVZQ"
      },
      "source": [
        "#### Considering 'pos' 'neg' 'neutral' and dropping 'total count':"
      ]
    },
    {
      "cell_type": "code",
      "metadata": {
        "id": "mC5BNy8VuqdJ"
      },
      "source": [
        "cols_drop= ['review_count_16_19', 'bi_goodfood_text', 'bi_goodloc_text', 'bi_bad_text', 'HasTV', 'open_hours_meals', 'displayed_open_hours']\n",
        "\n",
        "df_new = df.drop(cols_drop, axis=1)"
      ],
      "execution_count": 48,
      "outputs": []
    },
    {
      "cell_type": "code",
      "metadata": {
        "colab": {
          "base_uri": "https://localhost:8080/"
        },
        "id": "OmSOvmINup69",
        "outputId": "e84e7c14-49cc-47b7-9441-ed6c6115a6f1"
      },
      "source": [
        "#scale only numerical columns:\n",
        "num_feature= ['stars', 'pos', 'neg','neutral', 'RestaurantsPriceRange2']\n",
        "\n",
        "x_train_cols= list(df_new.columns)\n",
        "category_cols= []\n",
        "\n",
        "for i in x_train_cols:\n",
        "    if i not in num_feature:\n",
        "        category_cols.append(i)\n",
        "\n",
        "category_cols= category_cols[:-1]\n",
        "print(category_cols)\n",
        "\n",
        "features= df_new.iloc[:,:-1]\n",
        "labels= df_new.iloc[:,-1].values\n",
        "x_train, x_test, y_train, y_test= train_test_split(features, labels, test_size=0.20, random_state=37)  \n",
        "\n",
        "x_train.reset_index(drop=True, inplace=True)\n",
        "x_test.reset_index(drop=True, inplace=True)\n",
        "scale_train, scale_test= scaling_func(x_train, x_test, category_cols)\n",
        "\n",
        "c=Counter(y_train)\n",
        "print(c)\n",
        "nr = NearMiss(version=3)\n",
        "X_near, Y_near= nr.fit_sample(scale_train, y_train) \n",
        "c=Counter(Y_near)\n",
        "print(c)"
      ],
      "execution_count": 49,
      "outputs": [
        {
          "output_type": "stream",
          "text": [
            "['American', 'Mexican', 'Italian', 'Japanese', 'Chinese', 'Thai', 'Mediterranean', 'French', 'Vietnamese', 'Greek', 'Indian', 'Korean', 'Hawaiian', 'African', 'Spanish', 'Middle Eastern', 'Other', 'Delivery', 'OutdoorSeating', 'Touristy', 'Hipster', 'Romantic', 'Divey', 'Intimate', 'Trendy', 'Upscale', 'Classy', 'Casual', 'Alc_None_served', 'Alc_beer_and_wine', 'Alc_full_bar', 'open_breakfast', 'open_lunch', 'open_dinner', 'is_crowded', 'is_chain']\n",
            "Counter({0: 1839, 1: 467})\n",
            "Counter({0: 467, 1: 467})\n"
          ],
          "name": "stdout"
        }
      ]
    },
    {
      "cell_type": "code",
      "metadata": {
        "id": "utkrIbVDvNje"
      },
      "source": [
        "acc_case2=[]\n",
        "plots_enabled= False\n",
        "mod, hist, acc_case2= run_cross_validation(X_near, Y_near, acc_case2, plots_enabled, True)"
      ],
      "execution_count": null,
      "outputs": []
    },
    {
      "cell_type": "markdown",
      "metadata": {
        "id": "ONNOjAtvujI_"
      },
      "source": [
        "##### All categorical"
      ]
    },
    {
      "cell_type": "code",
      "metadata": {
        "id": "FyS6l2SO7Gxg"
      },
      "source": [
        "cols_drop= ['stars', 'pos', 'neg','neutral', 'RestaurantsPriceRange2', 'review_count_16_19', 'bi_goodfood_text', 'bi_goodloc_text', 'bi_bad_text', 'HasTV', 'open_hours_meals', 'displayed_open_hours']\n",
        "\n",
        "df_new = df.drop(cols_drop, axis=1)"
      ],
      "execution_count": 54,
      "outputs": []
    },
    {
      "cell_type": "code",
      "metadata": {
        "colab": {
          "base_uri": "https://localhost:8080/"
        },
        "id": "8QFRYDYt7Sbw",
        "outputId": "dc8f0cd2-50c9-4d68-b026-d0e324b70eda"
      },
      "source": [
        "num_feature= []\n",
        "\n",
        "x_train_cols= list(df_new.columns)\n",
        "category_cols= []\n",
        "\n",
        "for i in x_train_cols:\n",
        "    if i not in num_feature:\n",
        "        category_cols.append(i)\n",
        "\n",
        "category_cols= category_cols[:-1]\n",
        "print(category_cols)"
      ],
      "execution_count": 55,
      "outputs": [
        {
          "output_type": "stream",
          "text": [
            "['American', 'Mexican', 'Italian', 'Japanese', 'Chinese', 'Thai', 'Mediterranean', 'French', 'Vietnamese', 'Greek', 'Indian', 'Korean', 'Hawaiian', 'African', 'Spanish', 'Middle Eastern', 'Other', 'Delivery', 'OutdoorSeating', 'Touristy', 'Hipster', 'Romantic', 'Divey', 'Intimate', 'Trendy', 'Upscale', 'Classy', 'Casual', 'Alc_None_served', 'Alc_beer_and_wine', 'Alc_full_bar', 'open_breakfast', 'open_lunch', 'open_dinner', 'is_crowded', 'is_chain']\n"
          ],
          "name": "stdout"
        }
      ]
    },
    {
      "cell_type": "code",
      "metadata": {
        "colab": {
          "base_uri": "https://localhost:8080/"
        },
        "id": "Ysy0LCmQiiD0",
        "outputId": "b0a9b71b-df0a-40aa-8392-ae8ff483bc54"
      },
      "source": [
        "features= df_new.iloc[:,:-1]\n",
        "labels= df_new.iloc[:,-1].values\n",
        "x_train, x_test, y_train, y_test= train_test_split(features, labels, test_size=0.20, random_state=37)  \n",
        "\n",
        "x_train.reset_index(drop=True, inplace=True)\n",
        "x_test.reset_index(drop=True, inplace=True)\n",
        "\n",
        "x_train= x_train.values\n",
        "x_test= x_test.values\n",
        "\n",
        "c=Counter(y_train)\n",
        "print(c)\n",
        "nr = NearMiss(version=3)\n",
        "X_near, Y_near= nr.fit_sample(x_train, y_train) \n",
        "c=Counter(Y_near)\n",
        "print(c)"
      ],
      "execution_count": 62,
      "outputs": [
        {
          "output_type": "stream",
          "text": [
            "Counter({0: 1839, 1: 467})\n",
            "Counter({0: 467, 1: 467})\n"
          ],
          "name": "stdout"
        }
      ]
    },
    {
      "cell_type": "code",
      "metadata": {
        "id": "QSksSE8i7o9M",
        "colab": {
          "base_uri": "https://localhost:8080/"
        },
        "outputId": "14b60fa3-7c22-4daa-ee87-51d2f52a5a4b"
      },
      "source": [
        "acc_case3=[]\n",
        "plots_enabled= False\n",
        "acc_case3= run_cross_validation(X_near, Y_near, acc_case3, plots_enabled)"
      ],
      "execution_count": 63,
      "outputs": [
        {
          "output_type": "stream",
          "text": [
            "Running for K=  1\n",
            "Running for K=  2\n",
            "Running for K=  3\n",
            "Running for K=  4\n",
            "Running for K=  5\n"
          ],
          "name": "stdout"
        }
      ]
    },
    {
      "cell_type": "markdown",
      "metadata": {
        "id": "695A80i47zWx"
      },
      "source": [
        "Error plots:"
      ]
    },
    {
      "cell_type": "code",
      "metadata": {
        "id": "A921xBPU8EyX"
      },
      "source": [
        "acc1_arr= np.array(acc_case1)\n",
        "acc2_arr= np.array(acc_case2)\n",
        "acc3_arr= np.array(acc_case3)\n",
        "\n",
        "CTEs = [acc1_arr.mean(), acc2_arr.mean(), acc3_arr.mean()]\n",
        "error = [acc1_arr.std(), acc2_arr.std(), acc3_arr.std()]"
      ],
      "execution_count": 98,
      "outputs": []
    },
    {
      "cell_type": "code",
      "metadata": {
        "colab": {
          "base_uri": "https://localhost:8080/",
          "height": 404
        },
        "id": "n3dFzcmp7yZF",
        "outputId": "eb9dadd1-06ad-414a-b445-92411dbddbb5"
      },
      "source": [
        "labels= ['Case1', \"Case2\", 'Case3']\n",
        "x_pos = np.arange(len(labels))\n",
        "fig, ax = plt.subplots(figsize=(6,6))\n",
        "ax.bar(x_pos, CTEs, yerr=error, align='center', alpha=0.5, ecolor='black', capsize=55)\n",
        "ax.set_ylabel('Validation Accuracy')\n",
        "ax.set_xticks(x_pos)\n",
        "ax.set_xticklabels(ax.get_xticks(), rotation = 30)\n",
        "ax.set_xticklabels(labels)\n",
        "ax.set_title('Accuracy with error bars')\n",
        "ax.yaxis.grid(True)\n",
        "plt.show()"
      ],
      "execution_count": 99,
      "outputs": [
        {
          "output_type": "display_data",
          "data": {
            "image/png": "[encoded data removed]",
            "text/plain": [
              "<Figure size 432x432 with 1 Axes>"
            ]
          },
          "metadata": {
            "tags": [],
            "needs_background": "light"
          }
        }
      ]
    },
    {
      "cell_type": "markdown",
      "metadata": {
        "id": "yuYj0g_AlNJM"
      },
      "source": [
        "#### Final model:"
      ]
    },
    {
      "cell_type": "code",
      "metadata": {
        "colab": {
          "base_uri": "https://localhost:8080/"
        },
        "id": "ODm9oLU_lMKd",
        "outputId": "d1b9d4d1-b193-4e27-bd8e-0694625c56f2"
      },
      "source": [
        "cols_drop= ['pos', 'neg', 'neutral', 'bi_goodfood_text', 'bi_goodloc_text', 'bi_bad_text', 'HasTV', 'open_hours_meals', 'displayed_open_hours']\n",
        "\n",
        "df_new = df.drop(cols_drop, axis=1)\n",
        "\n",
        "#scale only numerical columns:\n",
        "num_feature= ['stars', 'review_count_16_19', 'RestaurantsPriceRange2']\n",
        "\n",
        "x_train_cols= list(df_new.columns)\n",
        "category_cols= []\n",
        "\n",
        "for i in x_train_cols:\n",
        "    if i not in num_feature:\n",
        "        category_cols.append(i)\n",
        "\n",
        "category_cols= category_cols[:-1]\n",
        "#print(category_cols)\n",
        "\n",
        "\n",
        "features= df_new.iloc[:,:-1]\n",
        "labels= df_new.iloc[:,-1].values\n",
        "x_train, x_test, y_train, y_test= train_test_split(features, labels, test_size=0.20) #, random_state=37)  \n",
        "\n",
        "x_train.reset_index(drop=True, inplace=True)\n",
        "x_test.reset_index(drop=True, inplace=True)\n",
        "scale_train, scale_test= scaling_func(x_train, x_test, category_cols)\n",
        "\n",
        "c=Counter(y_train)\n",
        "print(c)\n",
        "nr = NearMiss(version=3)\n",
        "X_near, Y_near= nr.fit_sample(scale_train, y_train) \n",
        "c=Counter(Y_near)\n",
        "print(c)"
      ],
      "execution_count": 126,
      "outputs": [
        {
          "output_type": "stream",
          "text": [
            "Counter({0: 1844, 1: 462})\n",
            "Counter({0: 462, 1: 462})\n"
          ],
          "name": "stdout"
        }
      ]
    },
    {
      "cell_type": "code",
      "metadata": {
        "id": "u3gZkI5onu1l",
        "colab": {
          "base_uri": "https://localhost:8080/"
        },
        "outputId": "3e0fe874-29cd-474d-fa2d-778aeb199ead"
      },
      "source": [
        "plots_enabled= False\n",
        "return_model=True\n",
        "predict_test= True\n",
        "model, history, acc_list, test_acc, y_prob_list= run_cross_validation(X_near, Y_near, [], plots_enabled, True, predict_test, scale_test, y_test, [], True)"
      ],
      "execution_count": 127,
      "outputs": [
        {
          "output_type": "stream",
          "text": [
            "Running for K=  1\n",
            "Running for K=  2\n",
            "Running for K=  3\n",
            "Running for K=  4\n",
            "Running for K=  5\n",
            "accuracy:  0.7175043327556326\n"
          ],
          "name": "stdout"
        }
      ]
    },
    {
      "cell_type": "code",
      "metadata": {
        "colab": {
          "base_uri": "https://localhost:8080/"
        },
        "id": "mMr7vL78ie4b",
        "outputId": "2efb329e-229c-447c-f029-b36830fbf8cf"
      },
      "source": [
        "yhat_probs = model.predict(scale_test, verbose=0)\n",
        "yhat_probs = yhat_probs[:, 0]\n",
        "yhat_classes = 1*(yhat_probs > 0.5)\n",
        "\n",
        "matrix = confusion_matrix(y_test, yhat_classes)\n",
        "print('Confusion matrix: ')\n",
        "print(matrix)"
      ],
      "execution_count": 140,
      "outputs": [
        {
          "output_type": "stream",
          "text": [
            "Confusion matrix: \n",
            "[[343 114]\n",
            " [ 49  71]]\n"
          ],
          "name": "stdout"
        }
      ]
    },
    {
      "cell_type": "code",
      "metadata": {
        "colab": {
          "base_uri": "https://localhost:8080/",
          "height": 279
        },
        "id": "5MrGWeVXbymK",
        "outputId": "7abab778-b616-4f84-c5e5-39b797f6921e"
      },
      "source": [
        "group_names = ['True Neg','False Pos','False Neg','True Pos']\n",
        "group_percentages = [\"{0:.2%}\".format(value) for value in matrix.flatten()/np.sum(matrix)]\n",
        "group_counts = [\"{0:0.0f}\".format(value) for value in matrix.flatten()]\n",
        "labels = [f\"{v1}\\n\\n{v2}\\n\\n{v3}\" for v1, v2, v3 in  zip(group_names,group_counts,group_percentages)]\n",
        "labels = np.asarray(labels).reshape(2,2)\n",
        "sns.heatmap(matrix, annot=labels, fmt='', cmap='Blues')\n",
        "plt.xlabel('Predicted')\n",
        "plt.ylabel('Actual')\n",
        "plt.show()"
      ],
      "execution_count": 141,
      "outputs": [
        {
          "output_type": "display_data",
          "data": {
            "image/png": "[encoded data removed]",
            "text/plain": [
              "<Figure size 432x288 with 2 Axes>"
            ]
          },
          "metadata": {
            "tags": [],
            "needs_background": "light"
          }
        }
      ]
    },
    {
      "cell_type": "code",
      "metadata": {
        "colab": {
          "base_uri": "https://localhost:8080/",
          "height": 396
        },
        "id": "u553taKnrPfz",
        "outputId": "9b051f68-58c4-4368-d404-aa1815363a25"
      },
      "source": [
        "#Dt accuracy values:\n",
        "\n",
        "dt_acc= np.array([0.5965665236051502, 0.6223175965665236, 0.592274678111588, 0.575107296137339, 0.6163793103448276])\n",
        "test_acc= np.array(test_acc)\n",
        "\n",
        "CTEs = [dt_acc.mean(), test_acc.mean()]\n",
        "error = [dt_acc.std(), test_acc.std()]\n",
        "\n",
        "labels= ['DT', \"NN\"]\n",
        "x_pos = np.arange(len(labels))\n",
        "fig, ax = plt.subplots(figsize=(6,6))\n",
        "ax.bar(x_pos, CTEs, yerr=error, align='center', alpha=0.5, ecolor='black', capsize=55)\n",
        "ax.set_ylabel('Accuracy')\n",
        "ax.set_xticks(x_pos)\n",
        "ax.set_xticklabels(ax.get_xticks(), rotation = 30)\n",
        "ax.set_xticklabels(labels)\n",
        "ax.set_title('Accuracy with error bars')\n",
        "ax.yaxis.grid(True)\n",
        "plt.show()"
      ],
      "execution_count": 148,
      "outputs": [
        {
          "output_type": "display_data",
          "data": {
            "image/png": "[encoded data removed]",
            "text/plain": [
              "<Figure size 432x432 with 1 Axes>"
            ]
          },
          "metadata": {
            "tags": [],
            "needs_background": "light"
          }
        }
      ]
    },
    {
      "cell_type": "code",
      "metadata": {
        "colab": {
          "base_uri": "https://localhost:8080/"
        },
        "id": "8CRhL5s85HK5",
        "outputId": "14306357-0fb1-4b40-9cf4-3544ef345799"
      },
      "source": [
        "from sklearn.metrics import roc_curve\n",
        "from sklearn.metrics import roc_auc_score\n",
        "\n",
        "fpr, tpr, _ = roc_curve(y_test, yhat_probs)\n",
        "auc = roc_auc_score(y_test, yhat_probs)\n",
        "print('AUC: %.3f' % auc)"
      ],
      "execution_count": 130,
      "outputs": [
        {
          "output_type": "stream",
          "text": [
            "AUC: 0.739\n"
          ],
          "name": "stdout"
        }
      ]
    },
    {
      "cell_type": "code",
      "metadata": {
        "id": "EXHD0EmQPVVi"
      },
      "source": [
        "#Decision Tree: \n",
        "fpr_dt= [0. ,0.07563025, 0.07563025, 0.08403361, 0.08403361, 0.08403361, 0.08403361, 0.14285714, 0.20168067, 0.2605042,  0.32773109, 0.47058824, 0.55462185, 0.68907563, 0.78151261, 0.78151261, 0.80672269, 0.80672269, 0.83193277, 1.]\n",
        "tpr_dt= [0.,  0.20175439, 0.22807018, 0.23684211, 0.24561404, 0.28070175, 0.30701754, 0.35087719, 0.42982456, 0.49122807, 0.52631579, 0.68421053, 0.68421053, 0.76315789, 0.78070175, 0.78947368, 0.83333333, 0.84210526,  0.85087719, 1.]       "
      ],
      "execution_count": 136,
      "outputs": []
    },
    {
      "cell_type": "code",
      "metadata": {
        "colab": {
          "base_uri": "https://localhost:8080/",
          "height": 279
        },
        "id": "jB7cELThnaw-",
        "outputId": "1071ef3f-161f-40ad-e95e-9502851af043"
      },
      "source": [
        "plt.plot(fpr, tpr, linestyle='-', label='ROC_NN')\n",
        "plt.plot(fpr_dt, tpr_dt, linestyle='-', label='ROC_DT')\n",
        "plt.plot([0, 1], [0, 1], 'k--', label='Random guess')\n",
        "plt.xlabel('False Positive Rate')\n",
        "plt.ylabel('True Positive Rate')\n",
        "plt.legend()\n",
        "plt.show()"
      ],
      "execution_count": 142,
      "outputs": [
        {
          "output_type": "display_data",
          "data": {
            "image/png": "[encoded data removed]",
            "text/plain": [
              "<Figure size 432x288 with 1 Axes>"
            ]
          },
          "metadata": {
            "tags": [],
            "needs_background": "light"
          }
        }
      ]
    },
    {
      "cell_type": "markdown",
      "metadata": {
        "id": "wtPYZyVqPInl"
      },
      "source": [
        "#### Tuning NN:"
      ]
    },
    {
      "cell_type": "code",
      "metadata": {
        "id": "6hPJhyppV-JD"
      },
      "source": [
        "# define model\n",
        "\n",
        "def create_model(X_train, Y_train, X_val, Y_val, batch, epoch, neurons, init_param, optname, act_func, lrate, decay_lr= True):\n",
        "    ################################################################# Reproducibility #########################################################\n",
        "    tf.keras.backend.clear_session()\n",
        "    np.random.seed(42)\n",
        "    random.seed(12345)\n",
        "    session_conf = tf.compat.v1.ConfigProto(intra_op_parallelism_threads=1, inter_op_parallelism_threads=1)\n",
        "    tf.random.set_seed(1234)\n",
        "    sess = tf.compat.v1.Session(graph=tf.compat.v1.get_default_graph(), config=session_conf)\n",
        "    tf.compat.v1.keras.backend.set_session(sess)\n",
        "    #############################################################################################################################################\n",
        "    np.random.seed(0)\n",
        "    #print(np.random.rand(4))\n",
        "    if init_param== 'HE':\n",
        "        initializer= tf.keras.initializers.HeNormal(seed=42)\n",
        "    elif init_param=='GN':\n",
        "        initializer = tf.keras.initializers.GlorotNormal(seed=42)\n",
        "    elif init_param=='GU':\n",
        "        initializer = tf.keras.initializers.GlorotUniform(seed=42)\n",
        "    elif init_param== 'RU':\n",
        "        initializer= tf.keras.initializers.RandomUniform(minval=-0.05, maxval=0.05, seed=42)\n",
        "\n",
        "    if optname== 'ADAM':\n",
        "        opt= tf.keras.optimizers.Adam(lrate)  \n",
        "    elif optname== 'RMSProp':\n",
        "        opt= tf.keras.optimizers.RMSprop(lrate, momentum=0.9)\n",
        "    elif optname== 'SGD':\n",
        "        opt= tf.keras.optimizers.SGD(lrate)\n",
        "\n",
        "    model = Sequential()\n",
        "    model.add(Dense(neurons, input_dim=X_train.shape[1], activation=act_func, kernel_initializer=initializer))\n",
        "    #model.add(Dense(50, input_dim=scale_x.shape[1], activation='tanh'))\n",
        "    model.add(Dense(1, activation='sigmoid'))\n",
        "    model.compile(loss='binary_crossentropy',optimizer=opt,metrics=['accuracy'])\n",
        "    \n",
        "    history= model.fit(X_train, Y_train, epochs=epoch, batch_size= batch, validation_data=(X_val, Y_val),shuffle= True, verbose=0) #, callbacks=callbacks)\n",
        "    \n",
        "    return model,history"
      ],
      "execution_count": 9,
      "outputs": []
    },
    {
      "cell_type": "code",
      "metadata": {
        "id": "GQrhOJW3OFAA"
      },
      "source": [
        "epochs= [300]\n",
        "neurons= [200, 300]\n",
        "batches= [16, 32, 64]\n",
        "act_funcs= ['relu', 'tanh']\n",
        "init_param= ['HE', 'GN', 'GU', 'RU']\n",
        "optnames= ['SGD', 'RMSProp', 'ADAM']"
      ],
      "execution_count": 8,
      "outputs": []
    },
    {
      "cell_type": "code",
      "metadata": {
        "colab": {
          "base_uri": "https://localhost:8080/"
        },
        "id": "E4Vrkn7OTZub",
        "outputId": "821ea8e3-2f76-4a04-a9f7-d41abb2f8c1c"
      },
      "source": [
        "cols_drop= ['pos', 'neg', 'neutral', 'bi_goodfood_text', 'bi_goodloc_text', 'bi_bad_text', 'HasTV', 'open_hours_meals', 'displayed_open_hours']\n",
        "\n",
        "df_new = df.drop(cols_drop, axis=1)\n",
        "\n",
        "#scale only numerical columns:\n",
        "num_feature= ['stars', 'review_count_16_19', 'RestaurantsPriceRange2']\n",
        "\n",
        "x_train_cols= list(df_new.columns)\n",
        "category_cols= []\n",
        "\n",
        "for i in x_train_cols:\n",
        "    if i not in num_feature:\n",
        "        category_cols.append(i)\n",
        "\n",
        "category_cols= category_cols[:-1]\n",
        "#print(category_cols)\n",
        "\n",
        "\n",
        "features= df_new.iloc[:,:-1]\n",
        "labels= df_new.iloc[:,-1].values\n",
        "x_train, x_test, y_train, y_test= train_test_split(features, labels, test_size=0.20, random_state=37)  \n",
        "\n",
        "x_train.reset_index(drop=True, inplace=True)\n",
        "x_test.reset_index(drop=True, inplace=True)\n",
        "scale_train, scale_test= scaling_func(x_train, x_test, category_cols)\n",
        "\n",
        "# define the undersampling method\n",
        "undersample = NeighbourhoodCleaningRule(n_neighbors=3, threshold_cleaning=0.5)\n",
        "# transform the dataset\n",
        "X_ncr, Y_ncr= undersample.fit_resample(x_train, y_train)\n",
        "counter = Counter(Y_ncr)\n",
        "print(counter)"
      ],
      "execution_count": 12,
      "outputs": [
        {
          "output_type": "stream",
          "text": [
            "Counter({0: 1202, 1: 467})\n"
          ],
          "name": "stdout"
        }
      ]
    },
    {
      "cell_type": "code",
      "metadata": {
        "id": "_3KEqUF6_YtD"
      },
      "source": [
        "mean_acc_Scores={}\n",
        "for opt in optnames:\n",
        "    for e in epochs:\n",
        "        for n in neurons:\n",
        "            for batch in batches:\n",
        "                for act in act_funcs:\n",
        "                    for param in init_param:\n",
        "                        print('Running for OPT= {}, Epochs= {}, Neurons= {}, batch= {}, ACT_F={}, Param={}' .format(opt, e, n, batch, act, param)) \n",
        "                        str_name=str(opt)+'_'+str(e)+'_'+str(n)+'_'+str(batch)+'_'+str(act)\n",
        "                        acc_scorelist= []\n",
        "                        skf = StratifiedKFold(n_splits = 5, shuffle = True) \n",
        "                        for train_index, val_index in skf.split(X_ncr, Y_ncr):\n",
        "                            X_train, X_val = X_ncr[train_index], X_ncr[val_index]\n",
        "                            Y_train, Y_val = Y_ncr[train_index], Y_ncr[val_index]\n",
        "\n",
        "                            model, history= create_model(X_train, Y_train, X_val, Y_val, batch, e, n, param, opt, act,  0.00001, False)\n",
        "                            acc_scorelist.append(history.history['val_accuracy'][-1])\n",
        "\n",
        "                        mean_acc_Scores[str_name]= np.round(np.mean(acc_scorelist), 3)     \n",
        "                        #print('accuracy: ', np.round(np.mean(acc_scorelist), 3)) "
      ],
      "execution_count": null,
      "outputs": []
    },
    {
      "cell_type": "code",
      "metadata": {
        "id": "HKFCO1ApTe6O"
      },
      "source": [
        "filenm= '/content/drive/MyDrive/datasets/acc_score.txt'\n",
        "import json\n",
        "with open(filenm, 'w') as convert_file:\n",
        "     convert_file.write(json.dumps(mean_acc_Scores))"
      ],
      "execution_count": 20,
      "outputs": []
    }
  ]
}